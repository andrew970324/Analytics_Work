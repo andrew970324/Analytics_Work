{
 "cells": [
  {
   "cell_type": "markdown",
   "id": "77d97aa5",
   "metadata": {},
   "source": [
    "# Salesforce Optimization"
   ]
  },
  {
   "cell_type": "markdown",
   "id": "888c8e7d",
   "metadata": {},
   "source": [
    "## Set-up:"
   ]
  },
  {
   "cell_type": "code",
   "execution_count": 2,
   "id": "8f2a2df7",
   "metadata": {},
   "outputs": [],
   "source": [
    "import pandas as pd\n",
    "import matplotlib.pyplot as plt\n",
    "import numpy as np\n",
    "import math\n",
    "import sklearn.linear_model as sk\n",
    "from sklearn.linear_model import LinearRegression as LR\n",
    "import scipy.optimize as optimize\n",
    "from scipy.optimize import curve_fit\n",
    "from gurobipy import *"
   ]
  },
  {
   "cell_type": "markdown",
   "id": "35ff417a",
   "metadata": {},
   "source": [
    "## Part A:"
   ]
  },
  {
   "cell_type": "markdown",
   "id": "78f20edb",
   "metadata": {},
   "source": [
    "Below, we will compute the 4 Adbudg parameters for each of the eight drugs. First, we must set up the data vectors in order to get started."
   ]
  },
  {
   "cell_type": "code",
   "execution_count": 3,
   "id": "edc72846",
   "metadata": {},
   "outputs": [],
   "source": [
    "proxy_for_infinity = 10\n",
    "sales_force = [0, 0.5, 1.0, 1.5, proxy_for_infinity]"
   ]
  },
  {
   "cell_type": "markdown",
   "id": "6359e96a",
   "metadata": {},
   "source": [
    "Next, let's set up our sales response values for each drug."
   ]
  },
  {
   "cell_type": "code",
   "execution_count": 4,
   "id": "16753138",
   "metadata": {},
   "outputs": [
    {
     "data": {
      "text/html": [
       "<div>\n",
       "<style scoped>\n",
       "    .dataframe tbody tr th:only-of-type {\n",
       "        vertical-align: middle;\n",
       "    }\n",
       "\n",
       "    .dataframe tbody tr th {\n",
       "        vertical-align: top;\n",
       "    }\n",
       "\n",
       "    .dataframe thead th {\n",
       "        text-align: right;\n",
       "    }\n",
       "</style>\n",
       "<table border=\"1\" class=\"dataframe\">\n",
       "  <thead>\n",
       "    <tr style=\"text-align: right;\">\n",
       "      <th></th>\n",
       "      <th>Naprosyn</th>\n",
       "      <th>Nipro</th>\n",
       "      <th>Anaprox</th>\n",
       "      <th>Norinyl</th>\n",
       "      <th>Pironil</th>\n",
       "      <th>Lidex</th>\n",
       "      <th>Synalar</th>\n",
       "      <th>Nasalide</th>\n",
       "    </tr>\n",
       "  </thead>\n",
       "  <tbody>\n",
       "    <tr>\n",
       "      <th>0</th>\n",
       "      <td>0.30</td>\n",
       "      <td>0.47</td>\n",
       "      <td>0.15</td>\n",
       "      <td>0.31</td>\n",
       "      <td>0.45</td>\n",
       "      <td>0.56</td>\n",
       "      <td>0.59</td>\n",
       "      <td>0.15</td>\n",
       "    </tr>\n",
       "    <tr>\n",
       "      <th>1</th>\n",
       "      <td>0.45</td>\n",
       "      <td>0.68</td>\n",
       "      <td>0.48</td>\n",
       "      <td>0.63</td>\n",
       "      <td>0.70</td>\n",
       "      <td>0.80</td>\n",
       "      <td>0.76</td>\n",
       "      <td>0.61</td>\n",
       "    </tr>\n",
       "    <tr>\n",
       "      <th>2</th>\n",
       "      <td>1.00</td>\n",
       "      <td>1.05</td>\n",
       "      <td>1.04</td>\n",
       "      <td>1.03</td>\n",
       "      <td>1.01</td>\n",
       "      <td>1.02</td>\n",
       "      <td>1.02</td>\n",
       "      <td>1.07</td>\n",
       "    </tr>\n",
       "    <tr>\n",
       "      <th>3</th>\n",
       "      <td>1.40</td>\n",
       "      <td>1.26</td>\n",
       "      <td>1.20</td>\n",
       "      <td>1.15</td>\n",
       "      <td>1.05</td>\n",
       "      <td>1.11</td>\n",
       "      <td>1.07</td>\n",
       "      <td>1.46</td>\n",
       "    </tr>\n",
       "    <tr>\n",
       "      <th>4</th>\n",
       "      <td>1.60</td>\n",
       "      <td>1.52</td>\n",
       "      <td>1.35</td>\n",
       "      <td>1.25</td>\n",
       "      <td>1.10</td>\n",
       "      <td>1.20</td>\n",
       "      <td>1.11</td>\n",
       "      <td>1.76</td>\n",
       "    </tr>\n",
       "  </tbody>\n",
       "</table>\n",
       "</div>"
      ],
      "text/plain": [
       "   Naprosyn  Nipro  Anaprox  Norinyl  Pironil  Lidex  Synalar  Nasalide\n",
       "0      0.30   0.47     0.15     0.31     0.45   0.56     0.59      0.15\n",
       "1      0.45   0.68     0.48     0.63     0.70   0.80     0.76      0.61\n",
       "2      1.00   1.05     1.04     1.03     1.01   1.02     1.02      1.07\n",
       "3      1.40   1.26     1.20     1.15     1.05   1.11     1.07      1.46\n",
       "4      1.60   1.52     1.35     1.25     1.10   1.20     1.11      1.76"
      ]
     },
     "execution_count": 4,
     "metadata": {},
     "output_type": "execute_result"
    }
   ],
   "source": [
    "xl_file = pd.ExcelFile('delphi-consensus-outputs.xlsx')\n",
    "sales_response = xl_file.parse(\"Sheet1\")\n",
    "sales_response = sales_response.drop(sales_response.columns[0], axis=1)\n",
    "sales_response"
   ]
  },
  {
   "cell_type": "markdown",
   "id": "978c9349",
   "metadata": {},
   "source": [
    "Now, we can use nonlinear regression to predicut y as a function of x and our four unknown parameters (c, d, adbudg_min, adbudg_max). First we will build our function that represents the Adbudg model."
   ]
  },
  {
   "cell_type": "code",
   "execution_count": 5,
   "id": "bebabd8d",
   "metadata": {},
   "outputs": [],
   "source": [
    "def compute_adbudg(x, c, d, adbudg_min, adbudg_max):\n",
    "    return adbudg_min + (adbudg_max - adbudg_min) * (x**c) / (d + x**c)"
   ]
  },
  {
   "cell_type": "markdown",
   "id": "8087cfc7",
   "metadata": {},
   "source": [
    "Next, we will use `scipy.optimize.curve_fit` to predict our unknown parameters for each of the eight drugs."
   ]
  },
  {
   "cell_type": "code",
   "execution_count": 6,
   "id": "3adbd3ce",
   "metadata": {},
   "outputs": [
    {
     "data": {
      "text/html": [
       "<div>\n",
       "<style scoped>\n",
       "    .dataframe tbody tr th:only-of-type {\n",
       "        vertical-align: middle;\n",
       "    }\n",
       "\n",
       "    .dataframe tbody tr th {\n",
       "        vertical-align: top;\n",
       "    }\n",
       "\n",
       "    .dataframe thead th {\n",
       "        text-align: right;\n",
       "    }\n",
       "</style>\n",
       "<table border=\"1\" class=\"dataframe\">\n",
       "  <thead>\n",
       "    <tr style=\"text-align: right;\">\n",
       "      <th></th>\n",
       "      <th>c</th>\n",
       "      <th>d</th>\n",
       "      <th>adbudg_min</th>\n",
       "      <th>adbudg_max</th>\n",
       "    </tr>\n",
       "  </thead>\n",
       "  <tbody>\n",
       "    <tr>\n",
       "      <th>Naprosyn</th>\n",
       "      <td>3.462680</td>\n",
       "      <td>0.841761</td>\n",
       "      <td>0.309324</td>\n",
       "      <td>1.606966</td>\n",
       "    </tr>\n",
       "    <tr>\n",
       "      <th>Nipro</th>\n",
       "      <td>2.264449</td>\n",
       "      <td>0.825955</td>\n",
       "      <td>0.469389</td>\n",
       "      <td>1.524101</td>\n",
       "    </tr>\n",
       "    <tr>\n",
       "      <th>Anaprox</th>\n",
       "      <td>2.817291</td>\n",
       "      <td>0.361170</td>\n",
       "      <td>0.148199</td>\n",
       "      <td>1.342579</td>\n",
       "    </tr>\n",
       "    <tr>\n",
       "      <th>Norinyl</th>\n",
       "      <td>2.618402</td>\n",
       "      <td>0.311903</td>\n",
       "      <td>0.309580</td>\n",
       "      <td>1.248045</td>\n",
       "    </tr>\n",
       "    <tr>\n",
       "      <th>Pironil</th>\n",
       "      <td>3.254370</td>\n",
       "      <td>0.162404</td>\n",
       "      <td>0.449586</td>\n",
       "      <td>1.091816</td>\n",
       "    </tr>\n",
       "    <tr>\n",
       "      <th>Lidex</th>\n",
       "      <td>2.089322</td>\n",
       "      <td>0.394394</td>\n",
       "      <td>0.560039</td>\n",
       "      <td>1.202236</td>\n",
       "    </tr>\n",
       "    <tr>\n",
       "      <th>Synalar</th>\n",
       "      <td>3.245910</td>\n",
       "      <td>0.211963</td>\n",
       "      <td>0.589636</td>\n",
       "      <td>1.105797</td>\n",
       "    </tr>\n",
       "    <tr>\n",
       "      <th>Nasalide</th>\n",
       "      <td>2.045422</td>\n",
       "      <td>0.676693</td>\n",
       "      <td>0.156967</td>\n",
       "      <td>1.781163</td>\n",
       "    </tr>\n",
       "  </tbody>\n",
       "</table>\n",
       "</div>"
      ],
      "text/plain": [
       "                 c         d  adbudg_min  adbudg_max\n",
       "Naprosyn  3.462680  0.841761    0.309324    1.606966\n",
       "Nipro     2.264449  0.825955    0.469389    1.524101\n",
       "Anaprox   2.817291  0.361170    0.148199    1.342579\n",
       "Norinyl   2.618402  0.311903    0.309580    1.248045\n",
       "Pironil   3.254370  0.162404    0.449586    1.091816\n",
       "Lidex     2.089322  0.394394    0.560039    1.202236\n",
       "Synalar   3.245910  0.211963    0.589636    1.105797\n",
       "Nasalide  2.045422  0.676693    0.156967    1.781163"
      ]
     },
     "execution_count": 6,
     "metadata": {},
     "output_type": "execute_result"
    }
   ],
   "source": [
    "# Initialize array for parameters of each of the eight drugs\n",
    "adbudg_params = np.zeros((8, 4))\n",
    "\n",
    "# Iterate through each drug and perform nonlinear regression to get the parameter estimates\n",
    "for i in range(8):\n",
    "    opt, cov = curve_fit(f=compute_adbudg, xdata=sales_force, ydata=sales_response.iloc[:,i], p0=(1, 1, sales_response.iloc[0][i], sales_response.iloc[4][i]))\n",
    "    c_opt, d_opt, min_opt, max_opt = opt\n",
    "    adbudg_params[i][0] = c_opt\n",
    "    adbudg_params[i][1] = d_opt\n",
    "    adbudg_params[i][2] = min_opt\n",
    "    adbudg_params[i][3] = max_opt\n",
    "\n",
    "df_drug_params = pd.DataFrame(adbudg_params, columns = ['c','d','adbudg_min','adbudg_max'], index = ['Naprosyn','Nipro','Anaprox','Norinyl','Pironil','Lidex','Synalar','Nasalide'])\n",
    "df_drug_params"
   ]
  },
  {
   "cell_type": "markdown",
   "id": "a3d830a7",
   "metadata": {},
   "source": [
    "## Part B:"
   ]
  },
  {
   "cell_type": "markdown",
   "id": "181ddf94",
   "metadata": {},
   "source": [
    "Next, let's compute the profit-maximizing number of salespersons for each of the eight drugs. We will be using the four adbudg parameters we found for each of the eight drugs in the previous part along with the current salesforce size, sales volume, and profit margin which we will load now."
   ]
  },
  {
   "cell_type": "code",
   "execution_count": 7,
   "id": "e41ff612",
   "metadata": {},
   "outputs": [
    {
     "data": {
      "text/html": [
       "<div>\n",
       "<style scoped>\n",
       "    .dataframe tbody tr th:only-of-type {\n",
       "        vertical-align: middle;\n",
       "    }\n",
       "\n",
       "    .dataframe tbody tr th {\n",
       "        vertical-align: top;\n",
       "    }\n",
       "\n",
       "    .dataframe thead th {\n",
       "        text-align: right;\n",
       "    }\n",
       "</style>\n",
       "<table border=\"1\" class=\"dataframe\">\n",
       "  <thead>\n",
       "    <tr style=\"text-align: right;\">\n",
       "      <th></th>\n",
       "      <th>Naprosyn</th>\n",
       "      <th>Nipro</th>\n",
       "      <th>Anaprox</th>\n",
       "      <th>Norinyl</th>\n",
       "      <th>Pironil</th>\n",
       "      <th>Lidex</th>\n",
       "      <th>Synalar</th>\n",
       "      <th>Nasalide</th>\n",
       "    </tr>\n",
       "  </thead>\n",
       "  <tbody>\n",
       "    <tr>\n",
       "      <th>Profit Margin</th>\n",
       "      <td>0.7</td>\n",
       "      <td>0.8</td>\n",
       "      <td>0.55</td>\n",
       "      <td>0.72</td>\n",
       "      <td>0.72</td>\n",
       "      <td>0.62</td>\n",
       "      <td>0.53</td>\n",
       "      <td>0.52</td>\n",
       "    </tr>\n",
       "    <tr>\n",
       "      <th>Current/Original Revenue</th>\n",
       "      <td>214.4</td>\n",
       "      <td>210.1</td>\n",
       "      <td>36.50</td>\n",
       "      <td>21.20</td>\n",
       "      <td>37.20</td>\n",
       "      <td>38.00</td>\n",
       "      <td>14.60</td>\n",
       "      <td>11.20</td>\n",
       "    </tr>\n",
       "    <tr>\n",
       "      <th>Current/Original Salesforce</th>\n",
       "      <td>96.8</td>\n",
       "      <td>97.2</td>\n",
       "      <td>142.40</td>\n",
       "      <td>52.70</td>\n",
       "      <td>24.10</td>\n",
       "      <td>27.30</td>\n",
       "      <td>29.70</td>\n",
       "      <td>56.80</td>\n",
       "    </tr>\n",
       "  </tbody>\n",
       "</table>\n",
       "</div>"
      ],
      "text/plain": [
       "                              Naprosyn   Nipro   Anaprox   Norinyl   Pironil  \\\n",
       "Profit Margin                      0.7     0.8      0.55      0.72      0.72   \n",
       "Current/Original Revenue         214.4   210.1     36.50     21.20     37.20   \n",
       "Current/Original Salesforce       96.8    97.2    142.40     52.70     24.10   \n",
       "\n",
       "                              Lidex   Synalar   Nasalide  \n",
       "Profit Margin                  0.62      0.53       0.52  \n",
       "Current/Original Revenue      38.00     14.60      11.20  \n",
       "Current/Original Salesforce   27.30     29.70      56.80  "
      ]
     },
     "execution_count": 7,
     "metadata": {},
     "output_type": "execute_result"
    }
   ],
   "source": [
    "xl_file2 = pd.ExcelFile('margin-revenue-salesforce.xlsx')\n",
    "margin_sf = xl_file2.parse(\"drugs\")\n",
    "margin_sf = margin_sf.drop(margin_sf.columns[0], axis=1)\n",
    "margin_sf = margin_sf.rename(index={0: 'Profit Margin', 1: 'Current/Original Revenue', 2: 'Current/Original Salesforce'})\n",
    "margin_sf"
   ]
  },
  {
   "cell_type": "markdown",
   "id": "1a017793",
   "metadata": {},
   "source": [
    "Next, we will construct a function that computes how profit varies as a function of salesforce size."
   ]
  },
  {
   "cell_type": "code",
   "execution_count": 8,
   "id": "a48c42ae",
   "metadata": {},
   "outputs": [],
   "source": [
    "def negative_profit(sf_size, c, d, adbudg_min, adbudg_max, current_sales, current_sf, p_marg):\n",
    "    response = adbudg_min + (adbudg_max - adbudg_min) * ((sf_size / current_sf)**c) / (d + (sf_size / current_sf)**c)\n",
    "    return -(response * current_sales * p_marg - sf_size * 0.057)"
   ]
  },
  {
   "cell_type": "markdown",
   "id": "98771596",
   "metadata": {},
   "source": [
    "Now let's use `scipy.optimize.minimize` to find the profit-maximizing number of salespersons for each of the eight drugs as well as the maximum profit."
   ]
  },
  {
   "cell_type": "code",
   "execution_count": 36,
   "id": "7bdd2aee",
   "metadata": {},
   "outputs": [
    {
     "name": "stdout",
     "output_type": "stream",
     "text": [
      "`gtol` termination condition is satisfied.\n",
      "Number of iterations: 24, function evaluations: 28, CG iterations: 13, optimality: 3.79e-11, constraint violation: 0.00e+00, execution time: 0.044 s.\n",
      "`gtol` termination condition is satisfied.\n",
      "Number of iterations: 21, function evaluations: 26, CG iterations: 12, optimality: 5.00e-09, constraint violation: 0.00e+00, execution time: 0.038 s.\n",
      "`gtol` termination condition is satisfied.\n",
      "Number of iterations: 18, function evaluations: 20, CG iterations: 9, optimality: 6.35e-09, constraint violation: 0.00e+00, execution time: 0.031 s.\n",
      "`gtol` termination condition is satisfied.\n",
      "Number of iterations: 15, function evaluations: 14, CG iterations: 6, optimality: 3.59e-09, constraint violation: 0.00e+00, execution time: 0.025 s.\n",
      "`gtol` termination condition is satisfied.\n",
      "Number of iterations: 22, function evaluations: 30, CG iterations: 14, optimality: 4.08e-09, constraint violation: 0.00e+00, execution time: 0.033 s.\n",
      "`gtol` termination condition is satisfied.\n",
      "Number of iterations: 24, function evaluations: 28, CG iterations: 13, optimality: 4.56e-09, constraint violation: 0.00e+00, execution time: 0.04 s.\n",
      "`gtol` termination condition is satisfied.\n",
      "Number of iterations: 20, function evaluations: 26, CG iterations: 12, optimality: 6.75e-09, constraint violation: 0.00e+00, execution time: 0.031 s.\n",
      "`gtol` termination condition is satisfied.\n",
      "Number of iterations: 13, function evaluations: 12, CG iterations: 5, optimality: 9.61e-09, constraint violation: 0.00e+00, execution time: 0.023 s.\n"
     ]
    }
   ],
   "source": [
    "# Initialize array for profit-maximizing number of salespersons for the eight drugs\n",
    "profit_max_sf = np.zeros((8, 2))\n",
    "\n",
    "# Set our bounds and initial values\n",
    "lower_bound = 0\n",
    "x0 = 80 \n",
    "bounds_object = optimize.Bounds(lower_bound, np.inf)\n",
    "\n",
    "# Iterate through each drug and find the optimal salespersons and profit\n",
    "for i in range(8):\n",
    "    tuple_values = (df_drug_params.iloc[i][0],df_drug_params.iloc[i][1],df_drug_params.iloc[i][2],df_drug_params.iloc[i][3],margin_sf.iloc[1][i],margin_sf.iloc[2][i],margin_sf.iloc[0][i])\n",
    "    optimizer_output = optimize.minimize(negative_profit, x0, args=tuple_values, method='trust-constr', bounds=bounds_object, options={'verbose': 1})\n",
    "    profit_max_sf[i][0] = optimizer_output.x\n",
    "    profit_max_sf[i][1] = -optimizer_output.fun\n",
    "\n",
    "df_best_sf = pd.DataFrame(profit_max_sf, columns = ['Optimal salespersons','Maximum profit (in millions)'], index = ['Naprosyn','Nipro','Anaprox','Norinyl','Pironil','Lidex','Synalar','Nasalide'])"
   ]
  },
  {
   "cell_type": "markdown",
   "id": "df2a6a75",
   "metadata": {},
   "source": [
    "Below, we can see our profit-maximizing number of salespersons and maximum profit obtained for each of the eight drugs."
   ]
  },
  {
   "cell_type": "code",
   "execution_count": 37,
   "id": "c065ae79",
   "metadata": {},
   "outputs": [
    {
     "data": {
      "text/html": [
       "<div>\n",
       "<style scoped>\n",
       "    .dataframe tbody tr th:only-of-type {\n",
       "        vertical-align: middle;\n",
       "    }\n",
       "\n",
       "    .dataframe tbody tr th {\n",
       "        vertical-align: top;\n",
       "    }\n",
       "\n",
       "    .dataframe thead th {\n",
       "        text-align: right;\n",
       "    }\n",
       "</style>\n",
       "<table border=\"1\" class=\"dataframe\">\n",
       "  <thead>\n",
       "    <tr style=\"text-align: right;\">\n",
       "      <th></th>\n",
       "      <th>Optimal salespersons</th>\n",
       "      <th>Maximum profit (in millions)</th>\n",
       "    </tr>\n",
       "  </thead>\n",
       "  <tbody>\n",
       "    <tr>\n",
       "      <th>Naprosyn</th>\n",
       "      <td>270.512837</td>\n",
       "      <td>221.194475</td>\n",
       "    </tr>\n",
       "    <tr>\n",
       "      <th>Nipro</th>\n",
       "      <td>330.045573</td>\n",
       "      <td>228.619794</td>\n",
       "    </tr>\n",
       "    <tr>\n",
       "      <th>Anaprox</th>\n",
       "      <td>171.686138</td>\n",
       "      <td>12.951849</td>\n",
       "    </tr>\n",
       "    <tr>\n",
       "      <th>Norinyl</th>\n",
       "      <td>71.333349</td>\n",
       "      <td>13.212085</td>\n",
       "    </tr>\n",
       "    <tr>\n",
       "      <th>Pironil</th>\n",
       "      <td>36.880309</td>\n",
       "      <td>26.468804</td>\n",
       "    </tr>\n",
       "    <tr>\n",
       "      <th>Lidex</th>\n",
       "      <td>50.004889</td>\n",
       "      <td>23.958271</td>\n",
       "    </tr>\n",
       "    <tr>\n",
       "      <th>Synalar</th>\n",
       "      <td>30.654988</td>\n",
       "      <td>6.168039</td>\n",
       "    </tr>\n",
       "    <tr>\n",
       "      <th>Nasalide</th>\n",
       "      <td>71.160750</td>\n",
       "      <td>3.488045</td>\n",
       "    </tr>\n",
       "  </tbody>\n",
       "</table>\n",
       "</div>"
      ],
      "text/plain": [
       "          Optimal salespersons  Maximum profit (in millions)\n",
       "Naprosyn            270.512837                    221.194475\n",
       "Nipro               330.045573                    228.619794\n",
       "Anaprox             171.686138                     12.951849\n",
       "Norinyl              71.333349                     13.212085\n",
       "Pironil              36.880309                     26.468804\n",
       "Lidex                50.004889                     23.958271\n",
       "Synalar              30.654988                      6.168039\n",
       "Nasalide             71.160750                      3.488045"
      ]
     },
     "execution_count": 37,
     "metadata": {},
     "output_type": "execute_result"
    }
   ],
   "source": [
    "df_best_sf"
   ]
  },
  {
   "cell_type": "markdown",
   "id": "dc6458c1",
   "metadata": {},
   "source": [
    "## Part C:"
   ]
  },
  {
   "cell_type": "markdown",
   "id": "650426c9",
   "metadata": {},
   "source": [
    "Now let's compute the profit-maximizing number of salespersons for each of the eight drugs subject to the constraint that only 700 salespersons are available across all eight drugs. We will be doing multivariate optimization here using `scipy.optimize.minimize` once again."
   ]
  },
  {
   "cell_type": "markdown",
   "id": "1b099658",
   "metadata": {},
   "source": [
    "First, let's extract the parameters of our drugs to their own arrays."
   ]
  },
  {
   "cell_type": "code",
   "execution_count": 28,
   "id": "f7334d78",
   "metadata": {},
   "outputs": [],
   "source": [
    "c_values = df_drug_params.iloc[:,0].to_numpy()\n",
    "d_values = df_drug_params.iloc[:,1].to_numpy()\n",
    "min_values = df_drug_params.iloc[:,2].to_numpy()\n",
    "max_values = df_drug_params.iloc[:,3].to_numpy()\n",
    "sales_values = margin_sf.iloc[1,:].to_numpy()\n",
    "sf_values = margin_sf.iloc[2,:].to_numpy()\n",
    "margin_values = margin_sf.iloc[0,:].to_numpy()"
   ]
  },
  {
   "cell_type": "markdown",
   "id": "2ec9598d",
   "metadata": {},
   "source": [
    "Next, we need to create a new negative profit function that computes the negative of the profit by taking in the parameters of each of the eight drugs as inputs."
   ]
  },
  {
   "cell_type": "code",
   "execution_count": 41,
   "id": "3706dc66",
   "metadata": {},
   "outputs": [],
   "source": [
    "def constrained_profit(sf_size, c, d, adbudg_min, adbudg_max, current_sales, current_sf, p_marg):\n",
    "    negative_profit = 0\n",
    "    for i in range(8):\n",
    "        response = adbudg_min[i] + (adbudg_max[i] - adbudg_min[i]) * ((sf_size[i] / current_sf[i])**c[i]) / (d[i] + (sf_size[i] / current_sf[i])**c[i])\n",
    "        negative_profit = negative_profit + (-(response * current_sales[i] * p_marg[i] - sf_size[i] * 0.057))\n",
    "    return negative_profit"
   ]
  },
  {
   "cell_type": "markdown",
   "id": "184ec345",
   "metadata": {},
   "source": [
    "Next, let's use the optimize function to find the optimal number of salespersons."
   ]
  },
  {
   "cell_type": "code",
   "execution_count": 81,
   "id": "2fd5ef22",
   "metadata": {},
   "outputs": [],
   "source": [
    "# Initialize array for constrained profit-maximizing number of salespersons for the eight drugs\n",
    "constrained_sf = np.zeros((8, 4))\n",
    "\n",
    "# Set our bounds, initial values, and constraints\n",
    "n_drugs = 8\n",
    "total_salesforce_size = 700\n",
    "lower_bound = 0\n",
    "x0 = np.ones(n_drugs)*total_salesforce_size/n_drugs\n",
    "sum_constraint_object = optimize.LinearConstraint(np.ones((1,n_drugs)), lower_bound, total_salesforce_size)\n",
    "bounds_object2 = optimize.Bounds(lower_bound, np.inf)\n",
    "\n",
    "# Iterate through each drug and find the optimal number of salespersons\n",
    "optimizer_output2 = optimize.minimize(constrained_profit, x0, args=(c_values, d_values, min_values, max_values, sales_values, sf_values, margin_values), method='SLSQP', bounds=bounds_object, constraints=sum_constraint_object)"
   ]
  },
  {
   "cell_type": "markdown",
   "id": "f18934f0",
   "metadata": {},
   "source": [
    "From here, we can compute optimal profit for each drug following the new salesperson assignment along with the percentage profit reduction and percentage salesforce reduction."
   ]
  },
  {
   "cell_type": "code",
   "execution_count": 86,
   "id": "662784bd",
   "metadata": {},
   "outputs": [
    {
     "data": {
      "text/html": [
       "<div>\n",
       "<style scoped>\n",
       "    .dataframe tbody tr th:only-of-type {\n",
       "        vertical-align: middle;\n",
       "    }\n",
       "\n",
       "    .dataframe tbody tr th {\n",
       "        vertical-align: top;\n",
       "    }\n",
       "\n",
       "    .dataframe thead th {\n",
       "        text-align: right;\n",
       "    }\n",
       "</style>\n",
       "<table border=\"1\" class=\"dataframe\">\n",
       "  <thead>\n",
       "    <tr style=\"text-align: right;\">\n",
       "      <th></th>\n",
       "      <th>Optimal salespersons</th>\n",
       "      <th>Maximum profit (in millions)</th>\n",
       "      <th>Percentage profit reduction</th>\n",
       "      <th>Percentage salesforce reduction</th>\n",
       "    </tr>\n",
       "  </thead>\n",
       "  <tbody>\n",
       "    <tr>\n",
       "      <th>Naprosyn</th>\n",
       "      <td>220.257812</td>\n",
       "      <td>219.549223</td>\n",
       "      <td>0.743803</td>\n",
       "      <td>18.577686</td>\n",
       "    </tr>\n",
       "    <tr>\n",
       "      <th>Nipro</th>\n",
       "      <td>245.922451</td>\n",
       "      <td>225.899031</td>\n",
       "      <td>1.190082</td>\n",
       "      <td>25.488335</td>\n",
       "    </tr>\n",
       "    <tr>\n",
       "      <th>Anaprox</th>\n",
       "      <td>117.453135</td>\n",
       "      <td>11.068291</td>\n",
       "      <td>14.542773</td>\n",
       "      <td>31.588457</td>\n",
       "    </tr>\n",
       "    <tr>\n",
       "      <th>Norinyl</th>\n",
       "      <td>51.530865</td>\n",
       "      <td>12.552384</td>\n",
       "      <td>4.993157</td>\n",
       "      <td>27.760485</td>\n",
       "    </tr>\n",
       "    <tr>\n",
       "      <th>Pironil</th>\n",
       "      <td>29.491311</td>\n",
       "      <td>26.226459</td>\n",
       "      <td>0.915584</td>\n",
       "      <td>20.035076</td>\n",
       "    </tr>\n",
       "    <tr>\n",
       "      <th>Lidex</th>\n",
       "      <td>35.344425</td>\n",
       "      <td>23.481539</td>\n",
       "      <td>1.989844</td>\n",
       "      <td>29.318062</td>\n",
       "    </tr>\n",
       "    <tr>\n",
       "      <th>Synalar</th>\n",
       "      <td>0.000000</td>\n",
       "      <td>4.562604</td>\n",
       "      <td>26.028280</td>\n",
       "      <td>100.000000</td>\n",
       "    </tr>\n",
       "    <tr>\n",
       "      <th>Nasalide</th>\n",
       "      <td>0.000000</td>\n",
       "      <td>0.914175</td>\n",
       "      <td>73.791182</td>\n",
       "      <td>100.000000</td>\n",
       "    </tr>\n",
       "  </tbody>\n",
       "</table>\n",
       "</div>"
      ],
      "text/plain": [
       "          Optimal salespersons  Maximum profit (in millions)  \\\n",
       "Naprosyn            220.257812                    219.549223   \n",
       "Nipro               245.922451                    225.899031   \n",
       "Anaprox             117.453135                     11.068291   \n",
       "Norinyl              51.530865                     12.552384   \n",
       "Pironil              29.491311                     26.226459   \n",
       "Lidex                35.344425                     23.481539   \n",
       "Synalar               0.000000                      4.562604   \n",
       "Nasalide              0.000000                      0.914175   \n",
       "\n",
       "          Percentage profit reduction  Percentage salesforce reduction  \n",
       "Naprosyn                     0.743803                        18.577686  \n",
       "Nipro                        1.190082                        25.488335  \n",
       "Anaprox                     14.542773                        31.588457  \n",
       "Norinyl                      4.993157                        27.760485  \n",
       "Pironil                      0.915584                        20.035076  \n",
       "Lidex                        1.989844                        29.318062  \n",
       "Synalar                     26.028280                       100.000000  \n",
       "Nasalide                    73.791182                       100.000000  "
      ]
     },
     "execution_count": 86,
     "metadata": {},
     "output_type": "execute_result"
    }
   ],
   "source": [
    "# New number of sales persons\n",
    "constrained_sf[:,0] = optimizer_output2.x\n",
    "\n",
    "# New objective function values\n",
    "for i in range(8):\n",
    "    new_profit = -negative_profit(constrained_sf[i][0], df_drug_params.iloc[i][0],df_drug_params.iloc[i][1],df_drug_params.iloc[i][2],df_drug_params.iloc[i][3],margin_sf.iloc[1][i],margin_sf.iloc[2][i],margin_sf.iloc[0][i])\n",
    "    constrained_sf[i][1] = new_profit\n",
    "\n",
    "# Percentage profit reductions\n",
    "for i in range(8):\n",
    "    constrained_sf[i][2] = ((profit_max_sf[i][1] - constrained_sf[i][1]) / profit_max_sf[i][1]) * 100\n",
    "\n",
    "# Percentage salesforce reductions\n",
    "for i in range(8):\n",
    "    constrained_sf[i][3] = ((profit_max_sf[i][0] - constrained_sf[i][0]) / profit_max_sf[i][0]) * 100\n",
    "    \n",
    "df_constrained_sf = pd.DataFrame(constrained_sf, columns = ['Optimal salespersons','Maximum profit (in millions)', 'Percentage profit reduction', 'Percentage salesforce reduction'], index = ['Naprosyn','Nipro','Anaprox','Norinyl','Pironil','Lidex','Synalar','Nasalide'])\n",
    "df_constrained_sf"
   ]
  },
  {
   "cell_type": "markdown",
   "id": "cd98aafe",
   "metadata": {},
   "source": [
    "As we can see above, Synalar and Nasaslide had 100% reductions in their salesforce. This is likely due to the fact that the maximum profit they were originally generating were very low compared to the rest of the drugs. In addition,  drugs like Naprosyn, Nipro, and Pironil had relatively low reductions in their salesforce since they generated more profit overall and also had higher profit margins to begin with."
   ]
  },
  {
   "cell_type": "markdown",
   "id": "360056da",
   "metadata": {},
   "source": [
    "## Part D:"
   ]
  },
  {
   "cell_type": "markdown",
   "id": "74ee8528",
   "metadata": {},
   "source": [
    "Lower price elasticity implies that we should advertise more because assuming that advertising elasticity remains steady, we must increase the amount of advertising we do in order to maintaing or increase our sales numbers as price elasticity starts to lower. \n",
    "\n",
    "For example, if we take a look at the Dorfman-Steiner Allocation \"Rule\", we have (Advertising/Sales) = (Advertising Elasticity/-Price Elasticity). If price elasticity is lowered, and we do not increase advertising, than we end up losing sales in order to maintain this rule. So if we'd like to maintain or increase our sales, we must raise our advertising when following the Dorfman-Steiner Allocation \"Rule\"."
   ]
  }
 ],
 "metadata": {
  "kernelspec": {
   "display_name": "Python 3",
   "language": "python",
   "name": "python3"
  },
  "language_info": {
   "codemirror_mode": {
    "name": "ipython",
    "version": 3
   },
   "file_extension": ".py",
   "mimetype": "text/x-python",
   "name": "python",
   "nbconvert_exporter": "python",
   "pygments_lexer": "ipython3",
   "version": "3.8.8"
  }
 },
 "nbformat": 4,
 "nbformat_minor": 5
}
