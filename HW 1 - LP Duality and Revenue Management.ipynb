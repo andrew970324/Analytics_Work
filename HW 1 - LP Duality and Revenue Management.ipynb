{
 "cells": [
  {
   "cell_type": "markdown",
   "id": "ad5100ef",
   "metadata": {},
   "source": [
    "# LP Duality and Revenue Management"
   ]
  },
  {
   "cell_type": "markdown",
   "id": "892f2879",
   "metadata": {},
   "source": [
    "## Question 1: Semiconductor Manufacturing"
   ]
  },
  {
   "cell_type": "markdown",
   "id": "97f2341e",
   "metadata": {},
   "source": [
    "### Part 1: LP Formulation"
   ]
  },
  {
   "cell_type": "markdown",
   "id": "7a167ac9",
   "metadata": {},
   "source": [
    "First, let's load Gurobi."
   ]
  },
  {
   "cell_type": "code",
   "execution_count": 1,
   "id": "e4c97185",
   "metadata": {},
   "outputs": [],
   "source": [
    "from gurobipy import *"
   ]
  },
  {
   "cell_type": "markdown",
   "id": "a0103b0b",
   "metadata": {},
   "source": [
    "Now we construct the model, variables, constraints and objective function."
   ]
  },
  {
   "cell_type": "code",
   "execution_count": 2,
   "id": "dd3a0db6",
   "metadata": {},
   "outputs": [
    {
     "name": "stdout",
     "output_type": "stream",
     "text": [
      "Set parameter Username\n",
      "Academic license - for non-commercial use only - expires 2022-05-31\n"
     ]
    }
   ],
   "source": [
    "# Create the model. \n",
    "mod_1 = Model()\n",
    "\n",
    "# Add the variables. \n",
    "x_1 = mod_1.addVar()\n",
    "x_2 = mod_1.addVar()\n",
    "x_3 = mod_1.addVar()\n",
    "\n",
    "# Resource constraints:\n",
    "ge_constr = mod_1.addConstr(14*x_1 + 20*x_2 + 40*x_3 <= 300)\n",
    "si_constr = mod_1.addConstr(30*x_1 + 20*x_2 + 15*x_3 <= 200)\n",
    "time_constr = mod_1.addConstr((1/3)*x_1 + (1/2)*x_2 + (5/6)*x_3 <= 18)\n",
    "\n",
    "# Nonnegativity constraints:\n",
    "mod_1.addConstr(x_1 >= 0.0)\n",
    "mod_1.addConstr(x_2 >= 0.0)\n",
    "mod_1.addConstr(x_3 >= 0.0)\n",
    "\n",
    "# Create the objective function.\n",
    "mod_1.setObjective(500*x_1 + 800*x_2 + 1000*x_3, GRB.MAXIMIZE)"
   ]
  },
  {
   "cell_type": "markdown",
   "id": "0d581b08",
   "metadata": {},
   "source": [
    "Now let's update and solve our model."
   ]
  },
  {
   "cell_type": "code",
   "execution_count": 3,
   "id": "023f7c3a",
   "metadata": {},
   "outputs": [
    {
     "name": "stdout",
     "output_type": "stream",
     "text": [
      "Gurobi Optimizer version 9.5.0 build v9.5.0rc5 (win64)\n",
      "Thread count: 6 physical cores, 12 logical processors, using up to 12 threads\n",
      "Optimize a model with 6 rows, 3 columns and 12 nonzeros\n",
      "Model fingerprint: 0xd0f5e2c1\n",
      "Coefficient statistics:\n",
      "  Matrix range     [3e-01, 4e+01]\n",
      "  Objective range  [5e+02, 1e+03]\n",
      "  Bounds range     [0e+00, 0e+00]\n",
      "  RHS range        [2e+01, 3e+02]\n",
      "Presolve removed 4 rows and 0 columns\n",
      "Presolve time: 0.00s\n",
      "Presolved: 2 rows, 3 columns, 6 nonzeros\n",
      "\n",
      "Iteration    Objective       Primal Inf.    Dual Inf.      Time\n",
      "       0    1.2000000e+04   8.114000e+00   0.000000e+00      0s\n",
      "       2    9.6000000e+03   0.000000e+00   0.000000e+00      0s\n",
      "\n",
      "Solved in 2 iterations and 0.01 seconds (0.00 work units)\n",
      "Optimal objective  9.600000000e+03\n"
     ]
    }
   ],
   "source": [
    "mod_1.update()\n",
    "\n",
    "mod_1.optimize()"
   ]
  },
  {
   "cell_type": "markdown",
   "id": "b7d6f033",
   "metadata": {},
   "source": [
    "Now let's obtain our optimal values below."
   ]
  },
  {
   "cell_type": "code",
   "execution_count": 7,
   "id": "d54c8aa0",
   "metadata": {},
   "outputs": [
    {
     "name": "stdout",
     "output_type": "stream",
     "text": [
      "2\n",
      "Solved to optimality\n",
      "Chip 1 Production:  0.0\n",
      "Chip 2 Production:  7.0\n",
      "Chip 3 Production:  4.0\n",
      "Optimal objective:  9600.0\n"
     ]
    }
   ],
   "source": [
    "# Extract the solution status. \n",
    "status = mod_1.status\n",
    "print(status)\n",
    "if status == GRB.OPTIMAL:\n",
    "    print(\"Solved to optimality\")\n",
    "    \n",
    "# Extract the optimal values of the decision variables.\n",
    "chip_1 = x_1.x\n",
    "chip_2 = x_2.x\n",
    "chip_3 = x_3.x\n",
    "\n",
    "print(\"Chip 1 Production: \", chip_1)\n",
    "print(\"Chip 2 Production: \", chip_2)\n",
    "print(\"Chip 3 Production: \", chip_3)\n",
    "\n",
    "# Extract the optimal objective value.\n",
    "optimal_obj = mod_1.objval\n",
    "print(\"Optimal objective: \", optimal_obj)"
   ]
  },
  {
   "cell_type": "markdown",
   "id": "53ba26e5",
   "metadata": {},
   "source": [
    "### Part 2: Dual Formulation"
   ]
  },
  {
   "cell_type": "markdown",
   "id": "ba5ad696",
   "metadata": {},
   "source": [
    "Let's solve the dual problem below."
   ]
  },
  {
   "cell_type": "code",
   "execution_count": 8,
   "id": "111c9df6",
   "metadata": {},
   "outputs": [
    {
     "name": "stdout",
     "output_type": "stream",
     "text": [
      "Gurobi Optimizer version 9.5.0 build v9.5.0rc5 (win64)\n",
      "Thread count: 6 physical cores, 12 logical processors, using up to 12 threads\n",
      "Optimize a model with 3 rows, 3 columns and 9 nonzeros\n",
      "Model fingerprint: 0xf874cc4a\n",
      "Coefficient statistics:\n",
      "  Matrix range     [3e-01, 4e+01]\n",
      "  Objective range  [2e+01, 3e+02]\n",
      "  Bounds range     [0e+00, 0e+00]\n",
      "  RHS range        [5e+02, 1e+03]\n",
      "Presolve removed 0 rows and 1 columns\n",
      "Presolve time: 0.00s\n",
      "Presolved: 3 rows, 2 columns, 6 nonzeros\n",
      "\n",
      "Iteration    Objective       Primal Inf.    Dual Inf.      Time\n",
      "       0    0.0000000e+00   2.875000e+02   0.000000e+00      0s\n",
      "       2    9.6000000e+03   0.000000e+00   0.000000e+00      0s\n",
      "\n",
      "Solved in 2 iterations and 0.01 seconds (0.00 work units)\n",
      "Optimal objective  9.600000000e+03\n"
     ]
    }
   ],
   "source": [
    "m_dual = Model()\n",
    "\n",
    "p_G = m_dual.addVar()\n",
    "p_S = m_dual.addVar()\n",
    "p_T = m_dual.addVar()\n",
    "\n",
    "# Create the dual constraints\n",
    "m_dual.addConstr(14*p_G + 30*p_S + (1/3)*p_T >= 500)\n",
    "m_dual.addConstr(20*p_G + 20*p_S + (1/2)*p_T >= 800)\n",
    "m_dual.addConstr(40*p_G + 15*p_S + (5/6)*p_T >= 1000)\n",
    "\n",
    "m_dual.setObjective(300*p_G + 200*p_S + 18*p_T, GRB.MINIMIZE)\n",
    "\n",
    "m_dual.update()\n",
    "\n",
    "m_dual.optimize()"
   ]
  },
  {
   "cell_type": "code",
   "execution_count": 9,
   "id": "d1235d22",
   "metadata": {
    "scrolled": true
   },
   "outputs": [
    {
     "name": "stdout",
     "output_type": "stream",
     "text": [
      "Dual variable for Germanium:  16.0\n",
      "Dual variable for Silicon:  24.0\n",
      "Dual variable for Time:  0.0\n",
      "Dual optimal objective:  9600.0\n"
     ]
    }
   ],
   "source": [
    "p_G_value = p_G.x\n",
    "p_S_value = p_S.x\n",
    "p_T_value = p_T.x\n",
    "\n",
    "print(\"Dual variable for Germanium: \", p_G_value)\n",
    "print(\"Dual variable for Silicon: \", p_S_value)\n",
    "print(\"Dual variable for Time: \", p_T_value)\n",
    "\n",
    "# Extract the dual optimal objective value.\n",
    "dual_optimal_obj = m_dual.objval\n",
    "print(\"Dual optimal objective: \", dual_optimal_obj)"
   ]
  },
  {
   "cell_type": "markdown",
   "id": "fecbdb3a",
   "metadata": {},
   "source": [
    "Let's verify the optimal values are the same as the shadow prices of the constraints."
   ]
  },
  {
   "cell_type": "code",
   "execution_count": 10,
   "id": "e96764b8",
   "metadata": {},
   "outputs": [
    {
     "name": "stdout",
     "output_type": "stream",
     "text": [
      "[16.0, 24.0]\n"
     ]
    }
   ],
   "source": [
    "dual_values = [ge_constr.pi, si_constr.pi]\n",
    "print(dual_values)"
   ]
  },
  {
   "cell_type": "markdown",
   "id": "b5da93d7",
   "metadata": {},
   "source": [
    "### Part 3: Shadow Prices / Marginal Analysis"
   ]
  },
  {
   "cell_type": "markdown",
   "id": "3e9f94d1",
   "metadata": {},
   "source": [
    "Let's see what happens when we increase the amount of available Germanium transistors by 10 billion."
   ]
  },
  {
   "cell_type": "code",
   "execution_count": 11,
   "id": "72e4f4ce",
   "metadata": {},
   "outputs": [
    {
     "name": "stdout",
     "output_type": "stream",
     "text": [
      "Gurobi Optimizer version 9.5.0 build v9.5.0rc5 (win64)\n",
      "Thread count: 6 physical cores, 12 logical processors, using up to 12 threads\n",
      "Optimize a model with 6 rows, 3 columns and 12 nonzeros\n",
      "Coefficient statistics:\n",
      "  Matrix range     [3e-01, 4e+01]\n",
      "  Objective range  [5e+02, 1e+03]\n",
      "  Bounds range     [0e+00, 0e+00]\n",
      "  RHS range        [2e+01, 3e+02]\n",
      "Iteration    Objective       Primal Inf.    Dual Inf.      Time\n",
      "       0    9.7600000e+03   0.000000e+00   0.000000e+00      0s\n",
      "\n",
      "Solved in 0 iterations and 0.00 seconds (0.00 work units)\n",
      "Optimal objective  9.760000000e+03\n"
     ]
    }
   ],
   "source": [
    "ge_constr.rhs = 310\n",
    "\n",
    "mod_1.update()\n",
    "\n",
    "mod_1.optimize()"
   ]
  },
  {
   "cell_type": "markdown",
   "id": "87b4e53e",
   "metadata": {},
   "source": [
    "Now let's see what happens when we increase the amount of available Germanium transistors by 300 billion."
   ]
  },
  {
   "cell_type": "code",
   "execution_count": 12,
   "id": "f4682fed",
   "metadata": {},
   "outputs": [
    {
     "name": "stdout",
     "output_type": "stream",
     "text": [
      "Gurobi Optimizer version 9.5.0 build v9.5.0rc5 (win64)\n",
      "Thread count: 6 physical cores, 12 logical processors, using up to 12 threads\n",
      "Optimize a model with 6 rows, 3 columns and 12 nonzeros\n",
      "Coefficient statistics:\n",
      "  Matrix range     [3e-01, 4e+01]\n",
      "  Objective range  [5e+02, 1e+03]\n",
      "  Bounds range     [0e+00, 0e+00]\n",
      "  RHS range        [2e+01, 6e+02]\n",
      "Iteration    Objective       Primal Inf.    Dual Inf.      Time\n",
      "       0    1.4400000e+04   1.600000e+01   0.000000e+00      0s\n",
      "       1    1.3333333e+04   0.000000e+00   0.000000e+00      0s\n",
      "\n",
      "Solved in 1 iterations and 0.00 seconds (0.00 work units)\n",
      "Optimal objective  1.333333333e+04\n"
     ]
    }
   ],
   "source": [
    "ge_constr.rhs = 600\n",
    "\n",
    "mod_1.update()\n",
    "\n",
    "mod_1.optimize()"
   ]
  },
  {
   "cell_type": "markdown",
   "id": "7dfc9006",
   "metadata": {},
   "source": [
    "Since we did not achieve expected maximum revenue when increasing Germanium units by 300, let's see how much of the resource we are not using when `ge_constr` = 600."
   ]
  },
  {
   "cell_type": "code",
   "execution_count": 13,
   "id": "32dc701c",
   "metadata": {},
   "outputs": [
    {
     "name": "stdout",
     "output_type": "stream",
     "text": [
      "[66.66666666666674, 0.0, 6.8888888888888875]\n"
     ]
    }
   ],
   "source": [
    "# Access the constraint slacks of the optimal solution.\n",
    "slack_values = [ge_constr.slack, si_constr.slack, time_constr.slack]\n",
    "print(slack_values)"
   ]
  },
  {
   "cell_type": "markdown",
   "id": "28c8f362",
   "metadata": {},
   "source": [
    "Now let's see what happens when we increase the amount of available Germanium transistors by 10 billion and also increase the amount of available Silicon transistors by 20 billion."
   ]
  },
  {
   "cell_type": "code",
   "execution_count": 14,
   "id": "b7e1cc23",
   "metadata": {},
   "outputs": [
    {
     "name": "stdout",
     "output_type": "stream",
     "text": [
      "Gurobi Optimizer version 9.5.0 build v9.5.0rc5 (win64)\n",
      "Thread count: 6 physical cores, 12 logical processors, using up to 12 threads\n",
      "Optimize a model with 6 rows, 3 columns and 12 nonzeros\n",
      "Coefficient statistics:\n",
      "  Matrix range     [3e-01, 4e+01]\n",
      "  Objective range  [5e+02, 1e+03]\n",
      "  Bounds range     [0e+00, 0e+00]\n",
      "  RHS range        [2e+01, 3e+02]\n",
      "Iteration    Objective       Primal Inf.    Dual Inf.      Time\n",
      "       0    1.4666667e+04   3.458333e+01   0.000000e+00      0s\n",
      "       1    1.0240000e+04   0.000000e+00   0.000000e+00      0s\n",
      "\n",
      "Solved in 1 iterations and 0.00 seconds (0.00 work units)\n",
      "Optimal objective  1.024000000e+04\n"
     ]
    }
   ],
   "source": [
    "ge_constr.rhs = 310\n",
    "si_constr.rhs = 220\n",
    "\n",
    "mod_1.update()\n",
    "\n",
    "mod_1.optimize()"
   ]
  },
  {
   "cell_type": "markdown",
   "id": "de7d74de",
   "metadata": {},
   "source": [
    "## Question 2: Cloud Computing"
   ]
  },
  {
   "cell_type": "markdown",
   "id": "ccf6db50",
   "metadata": {},
   "source": [
    "### Part 2: Solving the capacity control problem in Python/Gurobi"
   ]
  },
  {
   "cell_type": "markdown",
   "id": "5dc3d546",
   "metadata": {},
   "source": [
    "First, create the data."
   ]
  },
  {
   "cell_type": "code",
   "execution_count": 15,
   "id": "566831d8",
   "metadata": {},
   "outputs": [
    {
     "name": "stdout",
     "output_type": "stream",
     "text": [
      "[25.  25.   9.  15.  13.   5.   4.   2.   1.5]\n"
     ]
    }
   ],
   "source": [
    "import numpy as np\n",
    "\n",
    "# The number of instances\n",
    "nInstances = 9\n",
    "\n",
    "# Price for each instance type:\n",
    "price = np.array([7, 12, 24, 22, 44, 88, 30, 90, 120])\n",
    "\n",
    "# Rate of each instance type: \n",
    "probability = np.array([5.0, 5.0, 1.8, 3.0, 2.6, 1.0, 0.8, 0.4, 0.3])\n",
    "\n",
    "# Available components per day: \n",
    "c = np.array([16, 32, 64, 8, 16, 32, 16, 32, 64])\n",
    "m = np.array([8, 16, 32, 32, 64, 128, 16, 32, 64])\n",
    "g = np.array([1, 1, 1, 1, 1, 1, 2, 6, 8])\n",
    "comp = np.array([c, m, g])\n",
    "\n",
    "# Time horizon:\n",
    "T = 5\n",
    "\n",
    "# Finally, let us compute the forecasted demand for each instance type:\n",
    "forecast = T * probability\n",
    "print(forecast)"
   ]
  },
  {
   "cell_type": "markdown",
   "id": "aae45bef",
   "metadata": {},
   "source": [
    "Now we formulate the LP."
   ]
  },
  {
   "cell_type": "code",
   "execution_count": 16,
   "id": "3d5e14f8",
   "metadata": {},
   "outputs": [
    {
     "name": "stdout",
     "output_type": "stream",
     "text": [
      "Gurobi Optimizer version 9.5.0 build v9.5.0rc5 (win64)\n",
      "Thread count: 6 physical cores, 12 logical processors, using up to 12 threads\n",
      "Optimize a model with 3 rows, 9 columns and 27 nonzeros\n",
      "Model fingerprint: 0x207d4a09\n",
      "Coefficient statistics:\n",
      "  Matrix range     [1e+00, 1e+02]\n",
      "  Objective range  [7e+00, 1e+02]\n",
      "  Bounds range     [2e+00, 3e+01]\n",
      "  RHS range        [6e+01, 1e+03]\n",
      "Presolve removed 0 rows and 1 columns\n",
      "Presolve time: 0.00s\n",
      "Presolved: 3 rows, 8 columns, 24 nonzeros\n",
      "\n",
      "Iteration    Objective       Primal Inf.    Dual Inf.      Time\n",
      "       0    1.4400000e+03   7.200000e+01   0.000000e+00      0s\n",
      "       3    1.0394286e+03   0.000000e+00   0.000000e+00      0s\n",
      "\n",
      "Solved in 3 iterations and 0.01 seconds (0.00 work units)\n",
      "Optimal objective  1.039428571e+03\n",
      "Allocation, forecast, objective:\n",
      "[6.28571429 0.         0.         3.42857143 0.         5.\n",
      " 4.         2.         1.5       ]\n",
      "[25.  25.   9.  15.  13.   5.   4.   2.   1.5]\n",
      "1039.4285714285716\n"
     ]
    }
   ],
   "source": [
    "# Create the model\n",
    "mod_2 = Model()\n",
    "\n",
    "# Create variables.\n",
    "x = mod_2.addVars(nInstances, lb = 0, ub = forecast)\n",
    "\n",
    "# Create the component constraints\n",
    "c_constr = mod_2.addConstr(sum(c[i] * x[i] for i in range(nInstances)) <= 512)\n",
    "m_constr = mod_2.addConstr(sum(m[i] * x[i] for i in range(nInstances)) <= 1024)\n",
    "g_constr = mod_2.addConstr(sum(g[i] * x[i] for i in range(nInstances)) <= 64)\n",
    "\n",
    "# Set the objective.\n",
    "mod_2.setObjective(sum(price[i] * x[i] for i in range(nInstances)), GRB.MAXIMIZE)\n",
    "\n",
    "# Update + solve:\n",
    "mod_2.update()\n",
    "mod_2.optimize()\n",
    "\n",
    "# Get the objective value\n",
    "LP_obj = mod_2.objval\n",
    "\n",
    "# Get the allocation\n",
    "allocation = np.array([x[i].x for i in range(nInstances)])\n",
    "\n",
    "# Display the results:\n",
    "print(\"Allocation, forecast, objective:\")\n",
    "print(allocation)\n",
    "print(forecast)\n",
    "print(LP_obj)"
   ]
  },
  {
   "cell_type": "markdown",
   "id": "67053ee0",
   "metadata": {},
   "source": [
    "### Part 3: Simulating current practice"
   ]
  },
  {
   "cell_type": "markdown",
   "id": "f0a60098",
   "metadata": {},
   "source": [
    "Test out the `generateArrivalSequences` function below."
   ]
  },
  {
   "cell_type": "code",
   "execution_count": 17,
   "id": "cb023a10",
   "metadata": {
    "scrolled": true
   },
   "outputs": [
    {
     "data": {
      "text/plain": [
       "array([0.07414243, 0.1246028 , 0.15928449, 0.1703762 , 0.17968569,\n",
       "       0.23779251, 0.23799131, 0.32214315, 0.38642729, 0.51196926,\n",
       "       0.55126954, 0.57475458, 0.60405595, 0.65238384, 0.70519578,\n",
       "       0.78740185, 0.90765536, 0.91241996, 0.9185014 , 0.92091505,\n",
       "       0.96077223, 0.97191941, 0.99369472, 1.01132902, 1.03111801,\n",
       "       1.05616581, 1.14264621, 1.16700269, 1.38771201, 1.47562187,\n",
       "       1.52133751, 1.55976805, 1.56178183, 1.56595073, 1.58612921,\n",
       "       1.58817843, 1.60718495, 1.62855072, 1.73506112, 1.84081623,\n",
       "       1.88756662, 1.93334033, 1.95132628, 1.96946998, 2.01044946,\n",
       "       2.04284187, 2.04617896, 2.06703689, 2.25677443, 2.27602698,\n",
       "       2.3193975 , 2.32294156, 2.39947557, 2.44379428, 2.46549244,\n",
       "       2.48339641, 2.53963883, 2.54224165, 2.54798842, 2.65703572,\n",
       "       2.66944199, 2.67512209, 2.70700517, 2.71503145, 2.76708375,\n",
       "       2.78144725, 2.79437102, 2.92271451, 2.96474668, 2.96549902,\n",
       "       3.0082648 , 3.04969828, 3.09379581, 3.10187596, 3.16136395,\n",
       "       3.19046515, 3.22600297, 3.2307481 , 3.27259231, 3.28368639,\n",
       "       3.30131655, 3.30288265, 3.3715238 , 3.39596188, 3.48750828,\n",
       "       3.56421906, 3.61066276, 3.65872446, 3.72848097, 3.75930702,\n",
       "       3.79255772, 3.80221332, 3.89713363, 3.92779137, 3.93402875,\n",
       "       3.93902592, 3.943057  , 3.98591081, 4.03949471, 4.061236  ,\n",
       "       4.14557461, 4.17069607, 4.19504574, 4.28391231, 4.31951361,\n",
       "       4.33156205, 4.50140201, 4.6022353 , 4.60352115, 4.61377791,\n",
       "       4.62873767, 4.65950208, 4.74292726, 4.74417028, 4.76028141,\n",
       "       4.78237704, 4.87593856, 4.91708965, 4.94092079, 4.97689162,\n",
       "       4.9948301 ])"
      ]
     },
     "execution_count": 17,
     "metadata": {},
     "output_type": "execute_result"
    }
   ],
   "source": [
    "def generateArrivalSequences(nSimulations, rates, T):\n",
    "    total_rate = sum(rates)\n",
    "    nTypes = len(rates)\n",
    "\n",
    "    arrival_sequences_times = []\n",
    "    arrival_sequences_types = [];\n",
    "\n",
    "    for s in range(nSimulations):\n",
    "        single_arrival_sequence_time = [];\n",
    "        single_arrival_sequence_type = [];\n",
    "        t = 0;\n",
    "        while (t < T):\n",
    "            single_time = np.random.exponential(1.0/total_rate)\n",
    "            single_type = np.random.choice(nTypes, p= rates/total_rate )\n",
    "\n",
    "            t += single_time;\n",
    "\n",
    "            if (t < T):\n",
    "                single_arrival_sequence_time.append(t)\n",
    "                single_arrival_sequence_type.append(single_type)\n",
    "            else:\n",
    "                break\n",
    "\n",
    "        arrival_sequences_times.append(np.array(single_arrival_sequence_time))\n",
    "        arrival_sequences_types.append(np.array(single_arrival_sequence_type))\n",
    "    return arrival_sequences_times, arrival_sequences_types\n",
    "\n",
    "# Code to test out above function\n",
    "np.random.seed(10)\n",
    "arrival_sequences_times, arrival_sequences_types = generateArrivalSequences(100, probability, 5)\n",
    "arrival_sequences_times[0] # Check that we obtained values of 0.07414243, 0.1246028, 0.15928449 for first three times"
   ]
  },
  {
   "cell_type": "markdown",
   "id": "5a32106e",
   "metadata": {},
   "source": [
    "Calculate average number of arrivals of type C1 below."
   ]
  },
  {
   "cell_type": "code",
   "execution_count": 18,
   "id": "684f02d0",
   "metadata": {},
   "outputs": [
    {
     "data": {
      "text/plain": [
       "26.63"
      ]
     },
     "execution_count": 18,
     "metadata": {},
     "output_type": "execute_result"
    }
   ],
   "source": [
    "# Count total C1 instances for each sequence\n",
    "C1_total = 0\n",
    "\n",
    "for i in range(100):\n",
    "    C1_count = np.count_nonzero(arrival_sequences_types[i] == 0)\n",
    "    C1_total += C1_count\n",
    "\n",
    "# Find average number of arrivals of type C1 \n",
    "C1_total / len(arrival_sequences_types)"
   ]
  },
  {
   "cell_type": "markdown",
   "id": "6ec078c9",
   "metadata": {},
   "source": [
    "Calculate average number of arrivals of all types over set of simulated sequences below."
   ]
  },
  {
   "cell_type": "code",
   "execution_count": 19,
   "id": "a8568b8e",
   "metadata": {},
   "outputs": [
    {
     "data": {
      "text/plain": [
       "101.0"
      ]
     },
     "execution_count": 19,
     "metadata": {},
     "output_type": "execute_result"
    }
   ],
   "source": [
    "# Count total instances for each sequence\n",
    "instance_total = 0\n",
    "arrival_counts = np.array([len(arrival_sequences_types[i]) for i in range(100)])\n",
    "\n",
    "for i in range(100):\n",
    "    instance_total += arrival_counts[i]\n",
    "\n",
    "# Find average number of arrivals for all types\n",
    "instance_total / len(arrival_sequences_types)"
   ]
  },
  {
   "cell_type": "markdown",
   "id": "59756a5f",
   "metadata": {},
   "source": [
    "Implement Cirrus's current policy below."
   ]
  },
  {
   "cell_type": "code",
   "execution_count": 20,
   "id": "ab69c3df",
   "metadata": {},
   "outputs": [
    {
     "name": "stdout",
     "output_type": "stream",
     "text": [
      "Mean revenue (myopic):  528.28\n",
      "Mean CPU remaining (myopic):  0.24\n",
      "Mean Memory remaining (myopic):  371.52\n",
      "Mean GPU remaining (myopic):  37.42\n"
     ]
    }
   ],
   "source": [
    "# Preconditions\n",
    "nSimulations = 100\n",
    "nResources = 3\n",
    "B = np.array([512, 1024, 64])\n",
    "\n",
    "results_myopic_revenue = np.zeros(nSimulations)\n",
    "results_myopic_remaining_capacity = np.zeros((nResources, nSimulations))\n",
    "\n",
    "for s in range(nSimulations):\n",
    "    b = B.copy();\n",
    "    single_revenue = 0.0; # will contain the revenue of this simulation\n",
    "    nArrivals = len(arrival_sequences_times[s]);\n",
    "\n",
    "    # Go through the arrivals in sequence\n",
    "    for j in range(nArrivals):\n",
    "        # Obtain the time of the arrival, and its type (i)\n",
    "        arrival_time = arrival_sequences_times[s][j]\n",
    "        i = arrival_sequences_types[s][j]\n",
    "\n",
    "        # Check if there is sufficient capacity for the request\n",
    "        if (c[i] <= b[0]) and (m[i] <= b[1]) and (g[i] <= b[2]):\n",
    "            # If there is sufficient capacity, accrue the revenue\n",
    "            # and remove the capacity.\n",
    "            b[0] -= c[i]\n",
    "            b[1] -= m[i]\n",
    "            b[2] -= g[i]\n",
    "            single_revenue += price[i]\n",
    "\n",
    "    results_myopic_revenue[s] = single_revenue\n",
    "    results_myopic_remaining_capacity[0][s] = b[0]\n",
    "    results_myopic_remaining_capacity[1][s] = b[1]\n",
    "    results_myopic_remaining_capacity[2][s] = b[2]\n",
    "\n",
    "# Find the average revenue\n",
    "mean_myopic_revenue = results_myopic_revenue.mean()\n",
    "print(\"Mean revenue (myopic): \", mean_myopic_revenue)\n",
    "# Find the average remaining quantity of each resource\n",
    "mean_myopic_remaining_cpu = results_myopic_remaining_capacity[0].mean()\n",
    "mean_myopic_remaining_mem = results_myopic_remaining_capacity[1].mean()\n",
    "mean_myopic_remaining_gpu = results_myopic_remaining_capacity[2].mean()\n",
    "print(\"Mean CPU remaining (myopic): \", mean_myopic_remaining_cpu)\n",
    "print(\"Mean Memory remaining (myopic): \", mean_myopic_remaining_mem)\n",
    "print(\"Mean GPU remaining (myopic): \", mean_myopic_remaining_gpu)"
   ]
  },
  {
   "cell_type": "markdown",
   "id": "f9135c00",
   "metadata": {},
   "source": [
    "### Part 4: A bid-price control policy"
   ]
  },
  {
   "cell_type": "markdown",
   "id": "cce1318e",
   "metadata": {},
   "source": [
    "Let's check the shadow prices of the constraints below in order to find our opportunity costs."
   ]
  },
  {
   "cell_type": "code",
   "execution_count": 21,
   "id": "a06c83bd",
   "metadata": {},
   "outputs": [
    {
     "name": "stdout",
     "output_type": "stream",
     "text": [
      "[0.10714285714285714, 0.6607142857142857, 0.0]\n"
     ]
    }
   ],
   "source": [
    "dual_values = [c_constr.pi, m_constr.pi, g_constr.pi]\n",
    "print(dual_values)"
   ]
  },
  {
   "cell_type": "markdown",
   "id": "2b9a804a",
   "metadata": {},
   "source": [
    "Next, let's reformulate our LP for a bid-price control policy."
   ]
  },
  {
   "cell_type": "code",
   "execution_count": 25,
   "id": "0ecaaedb",
   "metadata": {},
   "outputs": [
    {
     "name": "stdout",
     "output_type": "stream",
     "text": [
      "Gurobi Optimizer version 9.5.0 build v9.5.0rc5 (win64)\n",
      "Thread count: 6 physical cores, 12 logical processors, using up to 12 threads\n",
      "Optimize a model with 3 rows, 9 columns and 27 nonzeros\n",
      "Model fingerprint: 0x207d4a09\n",
      "Coefficient statistics:\n",
      "  Matrix range     [1e+00, 1e+02]\n",
      "  Objective range  [7e+00, 1e+02]\n",
      "  Bounds range     [2e+00, 3e+01]\n",
      "  RHS range        [6e+01, 1e+03]\n",
      "Presolve removed 0 rows and 1 columns\n",
      "Presolve time: 0.00s\n",
      "Presolved: 3 rows, 8 columns, 24 nonzeros\n",
      "\n",
      "Iteration    Objective       Primal Inf.    Dual Inf.      Time\n",
      "       0    1.4400000e+03   7.200000e+01   0.000000e+00      0s\n",
      "       3    1.0394286e+03   0.000000e+00   0.000000e+00      0s\n",
      "\n",
      "Solved in 3 iterations and 0.01 seconds (0.00 work units)\n",
      "Optimal objective  1.039428571e+03\n",
      "Allocation, forecast, objective:\n",
      "[6.28571429 0.         0.         3.42857143 0.         5.\n",
      " 4.         2.         1.5       ]\n",
      "[25.  25.   9.  15.  13.   5.   4.   2.   1.5]\n",
      "1039.4285714285716\n"
     ]
    }
   ],
   "source": [
    "# Preconditions\n",
    "nSimulations = 100\n",
    "nResources = 3\n",
    "B = np.array([512, 1024, 64])\n",
    "T = 5\n",
    "\n",
    "instance_types = [ [0],\n",
    "                   [1],\n",
    "                   [2],\n",
    "                   [3],\n",
    "                   [4],\n",
    "                   [5],\n",
    "                   [6],\n",
    "                   [7],\n",
    "                   [8] ]\n",
    "\n",
    "# Create the model\n",
    "mod_bpc = Model()\n",
    "\n",
    "# Create variables.\n",
    "x_bpc = mod_bpc.addVars(nInstances, lb = 0, ub = forecast)\n",
    "\n",
    "# Create the component constraints\n",
    "comp_constr = {}\n",
    "for r in range(nResources):\n",
    "    comp_constr[r] = mod_bpc.addConstr(sum(comp[r][i]*x_bpc[i] for i in range(nInstances)) <= B[r])\n",
    "\n",
    "# Set the objective.\n",
    "mod_bpc.setObjective(sum(price[i] * x_bpc[i] for i in range(nInstances)), GRB.MAXIMIZE)\n",
    "\n",
    "# Update + solve:\n",
    "mod_bpc.update()\n",
    "mod_bpc.optimize()\n",
    "\n",
    "# Get the objective value\n",
    "LP_obj_bpc = mod_bpc.objval\n",
    "\n",
    "# Get the allocation\n",
    "allocation_bpc = np.array([x_bpc[i].x for i in range(nInstances)])\n",
    "\n",
    "# Display the results:\n",
    "print(\"Allocation, forecast, objective:\")\n",
    "print(allocation_bpc)\n",
    "print(forecast)\n",
    "print(LP_obj_bpc)"
   ]
  },
  {
   "cell_type": "code",
   "execution_count": 45,
   "id": "405f0e28",
   "metadata": {
    "scrolled": false
   },
   "outputs": [
    {
     "name": "stdout",
     "output_type": "stream",
     "text": [
      "Mean revenue:  925.59\n",
      "Mean CPU remaining:  27.2\n",
      "Mean Memory remaining:  4.88\n",
      "Mean GPU remaining:  20.62\n"
     ]
    }
   ],
   "source": [
    "# As we did in-class, define a function bpc() to re-solve the LO each time:\n",
    "def bpc(b, t):\n",
    "    for r in range(nResources):\n",
    "        comp_constr[r].rhs = b[r]\n",
    "\n",
    "    for i in range(nInstances):\n",
    "        x_bpc[i].ub = (T - t)*probability[i]\n",
    "\n",
    "    # Re-solve the model:\n",
    "    mod_bpc.update()\n",
    "    mod_bpc.optimize()\n",
    "    \n",
    "    dual_val = [comp_constr[r].pi for r in range(nResources)]\n",
    "\n",
    "    return dual_val\n",
    "\n",
    "mod_bpc.Params.outputflag = 0\n",
    "\n",
    "results_revenue = np.zeros(nSimulations)\n",
    "results_remaining_capacity = np.zeros((nResources, nSimulations))\n",
    "\n",
    "for s in range(nSimulations):\n",
    "    b = B.copy() #Initialize the current capacity\n",
    "    single_revenue = 0.0 #Initialize the revenue garnered in this simulation\n",
    "    nArrivals = len(arrival_sequences_times[s])\n",
    "    for j in range(nArrivals):\n",
    "        # Take the next arrival time and type from the sequence\n",
    "        arrival_time = arrival_sequences_times[s][j]\n",
    "        i = arrival_sequences_types[s][j]\n",
    "\n",
    "        # Check if there is enough capacity\n",
    "        if (c[i] <= b[0]) and (m[i] <= b[1]) and (g[i] <= b[2]):\n",
    "            # Re-solve the LO and obtain the dual values\n",
    "            dual_val = bpc(b, arrival_time)\n",
    "            \n",
    "            total_bid_price = sum([dual_val[r]*comp[r][i] for r in range(nResources)])\n",
    "\n",
    "            # Check if the revenue is at least the sum of the bid prices:\n",
    "            if (price[i] >= total_bid_price):\n",
    "                # If there is sufficient capacity, accrue the revenue\n",
    "                # and remove the capacity.\n",
    "                b[0] -= comp[0][i]\n",
    "                b[1] -= comp[1][i]\n",
    "                b[2] -= comp[2][i]\n",
    "                single_revenue += price[i]\n",
    "\n",
    "    # Save the results of this simulation here:\n",
    "    results_revenue[s] = single_revenue\n",
    "    results_remaining_capacity[0][s] = b[0]\n",
    "    results_remaining_capacity[1][s] = b[1]\n",
    "    results_remaining_capacity[2][s] = b[2]\n",
    "\n",
    "# Find the average revenue:\n",
    "mean_revenue = results_revenue.mean()\n",
    "print(\"Mean revenue: \", mean_revenue)\n",
    "# Find the average remaining quantity of each resource\n",
    "mean_remaining_cpu = results_remaining_capacity[0].mean()\n",
    "mean_remaining_mem = results_remaining_capacity[1].mean()\n",
    "mean_remaining_gpu = results_remaining_capacity[2].mean()\n",
    "print(\"Mean CPU remaining: \", mean_remaining_cpu)\n",
    "print(\"Mean Memory remaining: \", mean_remaining_mem)\n",
    "print(\"Mean GPU remaining: \", mean_remaining_gpu)"
   ]
  }
 ],
 "metadata": {
  "kernelspec": {
   "display_name": "Python 3",
   "language": "python",
   "name": "python3"
  },
  "language_info": {
   "codemirror_mode": {
    "name": "ipython",
    "version": 3
   },
   "file_extension": ".py",
   "mimetype": "text/x-python",
   "name": "python",
   "nbconvert_exporter": "python",
   "pygments_lexer": "ipython3",
   "version": "3.8.8"
  }
 },
 "nbformat": 4,
 "nbformat_minor": 5
}
