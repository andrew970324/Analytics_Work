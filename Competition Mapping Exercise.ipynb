{
 "cells": [
  {
   "cell_type": "markdown",
   "id": "2632b943",
   "metadata": {},
   "source": [
    "# Competition Mapping"
   ]
  },
  {
   "cell_type": "markdown",
   "id": "af870ff5",
   "metadata": {},
   "source": [
    "## Set-up:"
   ]
  },
  {
   "cell_type": "code",
   "execution_count": 4,
   "id": "05527c25",
   "metadata": {},
   "outputs": [],
   "source": [
    "import pandas as pd\n",
    "import matplotlib.pyplot as plt\n",
    "import seaborn as sns\n",
    "import numpy as np\n",
    "import math\n",
    "import random\n",
    "from sklearn import manifold\n",
    "from factor_analyzer import FactorAnalyzer"
   ]
  },
  {
   "cell_type": "markdown",
   "id": "79857d2e",
   "metadata": {},
   "source": [
    "First, load the data into dataframes."
   ]
  },
  {
   "cell_type": "code",
   "execution_count": 2,
   "id": "08185b3a",
   "metadata": {},
   "outputs": [],
   "source": [
    "cars_od = pd.read_csv(\"cars.dissimilarity.csv\", sep=\",\", index_col=0)\n",
    "cars_ar = pd.read_csv(\"cars.ar.csv\", sep=\",\", index_col=0)"
   ]
  },
  {
   "cell_type": "markdown",
   "id": "646d91e3",
   "metadata": {},
   "source": [
    "Below we have the distance and dissimilarity data."
   ]
  },
  {
   "cell_type": "code",
   "execution_count": 3,
   "id": "b3d98234",
   "metadata": {},
   "outputs": [
    {
     "data": {
      "text/html": [
       "<div>\n",
       "<style scoped>\n",
       "    .dataframe tbody tr th:only-of-type {\n",
       "        vertical-align: middle;\n",
       "    }\n",
       "\n",
       "    .dataframe tbody tr th {\n",
       "        vertical-align: top;\n",
       "    }\n",
       "\n",
       "    .dataframe thead th {\n",
       "        text-align: right;\n",
       "    }\n",
       "</style>\n",
       "<table border=\"1\" class=\"dataframe\">\n",
       "  <thead>\n",
       "    <tr style=\"text-align: right;\">\n",
       "      <th></th>\n",
       "      <th>Infiniti</th>\n",
       "      <th>Ford</th>\n",
       "      <th>Audi</th>\n",
       "      <th>Toyota</th>\n",
       "      <th>Eagle</th>\n",
       "      <th>Honda</th>\n",
       "      <th>Saab</th>\n",
       "      <th>Pontiac</th>\n",
       "      <th>BMW</th>\n",
       "      <th>Mercury</th>\n",
       "    </tr>\n",
       "  </thead>\n",
       "  <tbody>\n",
       "    <tr>\n",
       "      <th>Infiniti</th>\n",
       "      <td>0</td>\n",
       "      <td>3</td>\n",
       "      <td>4</td>\n",
       "      <td>3</td>\n",
       "      <td>4</td>\n",
       "      <td>1</td>\n",
       "      <td>2</td>\n",
       "      <td>5</td>\n",
       "      <td>1</td>\n",
       "      <td>4</td>\n",
       "    </tr>\n",
       "    <tr>\n",
       "      <th>Ford</th>\n",
       "      <td>3</td>\n",
       "      <td>0</td>\n",
       "      <td>4</td>\n",
       "      <td>6</td>\n",
       "      <td>0</td>\n",
       "      <td>3</td>\n",
       "      <td>4</td>\n",
       "      <td>1</td>\n",
       "      <td>4</td>\n",
       "      <td>1</td>\n",
       "    </tr>\n",
       "    <tr>\n",
       "      <th>Audi</th>\n",
       "      <td>4</td>\n",
       "      <td>4</td>\n",
       "      <td>0</td>\n",
       "      <td>7</td>\n",
       "      <td>4</td>\n",
       "      <td>6</td>\n",
       "      <td>2</td>\n",
       "      <td>7</td>\n",
       "      <td>5</td>\n",
       "      <td>6</td>\n",
       "    </tr>\n",
       "    <tr>\n",
       "      <th>Toyota</th>\n",
       "      <td>3</td>\n",
       "      <td>6</td>\n",
       "      <td>7</td>\n",
       "      <td>0</td>\n",
       "      <td>6</td>\n",
       "      <td>2</td>\n",
       "      <td>7</td>\n",
       "      <td>5</td>\n",
       "      <td>2</td>\n",
       "      <td>6</td>\n",
       "    </tr>\n",
       "    <tr>\n",
       "      <th>Eagle</th>\n",
       "      <td>4</td>\n",
       "      <td>0</td>\n",
       "      <td>4</td>\n",
       "      <td>6</td>\n",
       "      <td>0</td>\n",
       "      <td>3</td>\n",
       "      <td>5</td>\n",
       "      <td>1</td>\n",
       "      <td>5</td>\n",
       "      <td>1</td>\n",
       "    </tr>\n",
       "    <tr>\n",
       "      <th>Honda</th>\n",
       "      <td>1</td>\n",
       "      <td>3</td>\n",
       "      <td>6</td>\n",
       "      <td>2</td>\n",
       "      <td>3</td>\n",
       "      <td>0</td>\n",
       "      <td>3</td>\n",
       "      <td>3</td>\n",
       "      <td>2</td>\n",
       "      <td>3</td>\n",
       "    </tr>\n",
       "    <tr>\n",
       "      <th>Saab</th>\n",
       "      <td>2</td>\n",
       "      <td>4</td>\n",
       "      <td>2</td>\n",
       "      <td>7</td>\n",
       "      <td>5</td>\n",
       "      <td>3</td>\n",
       "      <td>0</td>\n",
       "      <td>7</td>\n",
       "      <td>2</td>\n",
       "      <td>6</td>\n",
       "    </tr>\n",
       "    <tr>\n",
       "      <th>Pontiac</th>\n",
       "      <td>5</td>\n",
       "      <td>1</td>\n",
       "      <td>7</td>\n",
       "      <td>5</td>\n",
       "      <td>1</td>\n",
       "      <td>3</td>\n",
       "      <td>7</td>\n",
       "      <td>0</td>\n",
       "      <td>6</td>\n",
       "      <td>1</td>\n",
       "    </tr>\n",
       "    <tr>\n",
       "      <th>BMW</th>\n",
       "      <td>1</td>\n",
       "      <td>4</td>\n",
       "      <td>5</td>\n",
       "      <td>2</td>\n",
       "      <td>5</td>\n",
       "      <td>2</td>\n",
       "      <td>2</td>\n",
       "      <td>6</td>\n",
       "      <td>0</td>\n",
       "      <td>5</td>\n",
       "    </tr>\n",
       "    <tr>\n",
       "      <th>Mercury</th>\n",
       "      <td>4</td>\n",
       "      <td>1</td>\n",
       "      <td>6</td>\n",
       "      <td>6</td>\n",
       "      <td>1</td>\n",
       "      <td>3</td>\n",
       "      <td>6</td>\n",
       "      <td>1</td>\n",
       "      <td>5</td>\n",
       "      <td>0</td>\n",
       "    </tr>\n",
       "  </tbody>\n",
       "</table>\n",
       "</div>"
      ],
      "text/plain": [
       "          Infiniti  Ford  Audi  Toyota  Eagle  Honda  Saab  Pontiac  BMW  \\\n",
       "Infiniti         0     3     4       3      4      1     2        5    1   \n",
       "Ford             3     0     4       6      0      3     4        1    4   \n",
       "Audi             4     4     0       7      4      6     2        7    5   \n",
       "Toyota           3     6     7       0      6      2     7        5    2   \n",
       "Eagle            4     0     4       6      0      3     5        1    5   \n",
       "Honda            1     3     6       2      3      0     3        3    2   \n",
       "Saab             2     4     2       7      5      3     0        7    2   \n",
       "Pontiac          5     1     7       5      1      3     7        0    6   \n",
       "BMW              1     4     5       2      5      2     2        6    0   \n",
       "Mercury          4     1     6       6      1      3     6        1    5   \n",
       "\n",
       "          Mercury  \n",
       "Infiniti        4  \n",
       "Ford            1  \n",
       "Audi            6  \n",
       "Toyota          6  \n",
       "Eagle           1  \n",
       "Honda           3  \n",
       "Saab            6  \n",
       "Pontiac         1  \n",
       "BMW             5  \n",
       "Mercury         0  "
      ]
     },
     "execution_count": 3,
     "metadata": {},
     "output_type": "execute_result"
    }
   ],
   "source": [
    "cars_od"
   ]
  },
  {
   "cell_type": "markdown",
   "id": "56798fca",
   "metadata": {},
   "source": [
    "Below we have the attributes ratings data."
   ]
  },
  {
   "cell_type": "code",
   "execution_count": 4,
   "id": "c5998149",
   "metadata": {},
   "outputs": [
    {
     "data": {
      "text/html": [
       "<div>\n",
       "<style scoped>\n",
       "    .dataframe tbody tr th:only-of-type {\n",
       "        vertical-align: middle;\n",
       "    }\n",
       "\n",
       "    .dataframe tbody tr th {\n",
       "        vertical-align: top;\n",
       "    }\n",
       "\n",
       "    .dataframe thead th {\n",
       "        text-align: right;\n",
       "    }\n",
       "</style>\n",
       "<table border=\"1\" class=\"dataframe\">\n",
       "  <thead>\n",
       "    <tr style=\"text-align: right;\">\n",
       "      <th></th>\n",
       "      <th>Attractive</th>\n",
       "      <th>Quiet</th>\n",
       "      <th>Unreliable</th>\n",
       "      <th>Poorly Built</th>\n",
       "      <th>Interesting</th>\n",
       "      <th>Sporty</th>\n",
       "      <th>Uncomfortable</th>\n",
       "      <th>Roomy</th>\n",
       "      <th>Easy Service</th>\n",
       "      <th>Prestige</th>\n",
       "      <th>Common</th>\n",
       "      <th>Economical</th>\n",
       "      <th>Successful</th>\n",
       "      <th>AvantGarde</th>\n",
       "      <th>Poor Value</th>\n",
       "    </tr>\n",
       "  </thead>\n",
       "  <tbody>\n",
       "    <tr>\n",
       "      <th>Infiniti</th>\n",
       "      <td>5.6</td>\n",
       "      <td>6.3</td>\n",
       "      <td>2.9</td>\n",
       "      <td>1.6</td>\n",
       "      <td>3.6</td>\n",
       "      <td>4.1</td>\n",
       "      <td>3.2</td>\n",
       "      <td>4.2</td>\n",
       "      <td>4.6</td>\n",
       "      <td>6.4</td>\n",
       "      <td>3.5</td>\n",
       "      <td>3.6</td>\n",
       "      <td>5.3</td>\n",
       "      <td>4.3</td>\n",
       "      <td>3.4</td>\n",
       "    </tr>\n",
       "    <tr>\n",
       "      <th>Ford</th>\n",
       "      <td>4.0</td>\n",
       "      <td>3.6</td>\n",
       "      <td>4.2</td>\n",
       "      <td>4.2</td>\n",
       "      <td>5.0</td>\n",
       "      <td>4.9</td>\n",
       "      <td>4.0</td>\n",
       "      <td>3.9</td>\n",
       "      <td>4.9</td>\n",
       "      <td>3.5</td>\n",
       "      <td>3.6</td>\n",
       "      <td>3.7</td>\n",
       "      <td>4.2</td>\n",
       "      <td>3.6</td>\n",
       "      <td>4.3</td>\n",
       "    </tr>\n",
       "    <tr>\n",
       "      <th>Audi</th>\n",
       "      <td>4.6</td>\n",
       "      <td>5.2</td>\n",
       "      <td>3.7</td>\n",
       "      <td>2.6</td>\n",
       "      <td>4.0</td>\n",
       "      <td>3.8</td>\n",
       "      <td>2.4</td>\n",
       "      <td>5.3</td>\n",
       "      <td>3.5</td>\n",
       "      <td>5.6</td>\n",
       "      <td>3.4</td>\n",
       "      <td>3.6</td>\n",
       "      <td>5.0</td>\n",
       "      <td>3.6</td>\n",
       "      <td>4.3</td>\n",
       "    </tr>\n",
       "    <tr>\n",
       "      <th>Toyota</th>\n",
       "      <td>5.6</td>\n",
       "      <td>4.2</td>\n",
       "      <td>2.0</td>\n",
       "      <td>2.1</td>\n",
       "      <td>4.3</td>\n",
       "      <td>6.2</td>\n",
       "      <td>3.7</td>\n",
       "      <td>3.5</td>\n",
       "      <td>4.9</td>\n",
       "      <td>5.3</td>\n",
       "      <td>2.9</td>\n",
       "      <td>3.2</td>\n",
       "      <td>5.5</td>\n",
       "      <td>4.9</td>\n",
       "      <td>3.5</td>\n",
       "    </tr>\n",
       "    <tr>\n",
       "      <th>Eagle</th>\n",
       "      <td>4.0</td>\n",
       "      <td>3.5</td>\n",
       "      <td>4.3</td>\n",
       "      <td>4.3</td>\n",
       "      <td>3.9</td>\n",
       "      <td>4.9</td>\n",
       "      <td>4.0</td>\n",
       "      <td>3.6</td>\n",
       "      <td>4.6</td>\n",
       "      <td>2.8</td>\n",
       "      <td>4.3</td>\n",
       "      <td>4.9</td>\n",
       "      <td>3.7</td>\n",
       "      <td>4.4</td>\n",
       "      <td>3.6</td>\n",
       "    </tr>\n",
       "    <tr>\n",
       "      <th>Honda</th>\n",
       "      <td>5.2</td>\n",
       "      <td>5.4</td>\n",
       "      <td>3.2</td>\n",
       "      <td>2.8</td>\n",
       "      <td>3.4</td>\n",
       "      <td>5.1</td>\n",
       "      <td>3.3</td>\n",
       "      <td>3.9</td>\n",
       "      <td>5.0</td>\n",
       "      <td>4.7</td>\n",
       "      <td>3.9</td>\n",
       "      <td>5.0</td>\n",
       "      <td>5.6</td>\n",
       "      <td>3.9</td>\n",
       "      <td>2.6</td>\n",
       "    </tr>\n",
       "    <tr>\n",
       "      <th>Saab</th>\n",
       "      <td>5.3</td>\n",
       "      <td>4.8</td>\n",
       "      <td>3.7</td>\n",
       "      <td>2.8</td>\n",
       "      <td>3.4</td>\n",
       "      <td>4.3</td>\n",
       "      <td>2.5</td>\n",
       "      <td>5.8</td>\n",
       "      <td>3.8</td>\n",
       "      <td>5.4</td>\n",
       "      <td>1.9</td>\n",
       "      <td>4.3</td>\n",
       "      <td>5.3</td>\n",
       "      <td>4.7</td>\n",
       "      <td>2.9</td>\n",
       "    </tr>\n",
       "    <tr>\n",
       "      <th>Pontiac</th>\n",
       "      <td>3.9</td>\n",
       "      <td>2.8</td>\n",
       "      <td>3.9</td>\n",
       "      <td>4.4</td>\n",
       "      <td>5.4</td>\n",
       "      <td>5.7</td>\n",
       "      <td>4.3</td>\n",
       "      <td>3.3</td>\n",
       "      <td>4.7</td>\n",
       "      <td>3.8</td>\n",
       "      <td>4.3</td>\n",
       "      <td>3.1</td>\n",
       "      <td>4.4</td>\n",
       "      <td>4.1</td>\n",
       "      <td>4.3</td>\n",
       "    </tr>\n",
       "    <tr>\n",
       "      <th>BMW</th>\n",
       "      <td>5.7</td>\n",
       "      <td>5.0</td>\n",
       "      <td>2.3</td>\n",
       "      <td>1.8</td>\n",
       "      <td>3.3</td>\n",
       "      <td>4.1</td>\n",
       "      <td>3.5</td>\n",
       "      <td>4.3</td>\n",
       "      <td>4.1</td>\n",
       "      <td>6.4</td>\n",
       "      <td>2.8</td>\n",
       "      <td>4.3</td>\n",
       "      <td>5.9</td>\n",
       "      <td>3.7</td>\n",
       "      <td>3.3</td>\n",
       "    </tr>\n",
       "    <tr>\n",
       "      <th>Mercury</th>\n",
       "      <td>3.9</td>\n",
       "      <td>3.3</td>\n",
       "      <td>4.0</td>\n",
       "      <td>4.3</td>\n",
       "      <td>3.9</td>\n",
       "      <td>5.2</td>\n",
       "      <td>4.4</td>\n",
       "      <td>3.6</td>\n",
       "      <td>4.6</td>\n",
       "      <td>3.3</td>\n",
       "      <td>3.9</td>\n",
       "      <td>4.6</td>\n",
       "      <td>3.9</td>\n",
       "      <td>4.5</td>\n",
       "      <td>3.8</td>\n",
       "    </tr>\n",
       "  </tbody>\n",
       "</table>\n",
       "</div>"
      ],
      "text/plain": [
       "          Attractive  Quiet  Unreliable  Poorly Built  Interesting  Sporty  \\\n",
       "Infiniti         5.6    6.3         2.9           1.6          3.6     4.1   \n",
       "Ford             4.0    3.6         4.2           4.2          5.0     4.9   \n",
       "Audi             4.6    5.2         3.7           2.6          4.0     3.8   \n",
       "Toyota           5.6    4.2         2.0           2.1          4.3     6.2   \n",
       "Eagle            4.0    3.5         4.3           4.3          3.9     4.9   \n",
       "Honda            5.2    5.4         3.2           2.8          3.4     5.1   \n",
       "Saab             5.3    4.8         3.7           2.8          3.4     4.3   \n",
       "Pontiac          3.9    2.8         3.9           4.4          5.4     5.7   \n",
       "BMW              5.7    5.0         2.3           1.8          3.3     4.1   \n",
       "Mercury          3.9    3.3         4.0           4.3          3.9     5.2   \n",
       "\n",
       "          Uncomfortable  Roomy  Easy Service  Prestige  Common  Economical  \\\n",
       "Infiniti            3.2    4.2           4.6       6.4     3.5         3.6   \n",
       "Ford                4.0    3.9           4.9       3.5     3.6         3.7   \n",
       "Audi                2.4    5.3           3.5       5.6     3.4         3.6   \n",
       "Toyota              3.7    3.5           4.9       5.3     2.9         3.2   \n",
       "Eagle               4.0    3.6           4.6       2.8     4.3         4.9   \n",
       "Honda               3.3    3.9           5.0       4.7     3.9         5.0   \n",
       "Saab                2.5    5.8           3.8       5.4     1.9         4.3   \n",
       "Pontiac             4.3    3.3           4.7       3.8     4.3         3.1   \n",
       "BMW                 3.5    4.3           4.1       6.4     2.8         4.3   \n",
       "Mercury             4.4    3.6           4.6       3.3     3.9         4.6   \n",
       "\n",
       "          Successful  AvantGarde  Poor Value  \n",
       "Infiniti         5.3         4.3         3.4  \n",
       "Ford             4.2         3.6         4.3  \n",
       "Audi             5.0         3.6         4.3  \n",
       "Toyota           5.5         4.9         3.5  \n",
       "Eagle            3.7         4.4         3.6  \n",
       "Honda            5.6         3.9         2.6  \n",
       "Saab             5.3         4.7         2.9  \n",
       "Pontiac          4.4         4.1         4.3  \n",
       "BMW              5.9         3.7         3.3  \n",
       "Mercury          3.9         4.5         3.8  "
      ]
     },
     "execution_count": 4,
     "metadata": {},
     "output_type": "execute_result"
    }
   ],
   "source": [
    "cars_ar"
   ]
  },
  {
   "cell_type": "markdown",
   "id": "e654185c",
   "metadata": {},
   "source": [
    "## Part (A) Metric multidimensional scaling:"
   ]
  },
  {
   "cell_type": "markdown",
   "id": "6ccdf1ed",
   "metadata": {},
   "source": [
    "Below, we run the metric MDS using sklearn for different values of \"k\" from 1 to 9."
   ]
  },
  {
   "cell_type": "code",
   "execution_count": 5,
   "id": "59dae951",
   "metadata": {},
   "outputs": [],
   "source": [
    "mds_1 = manifold.MDS(n_components=1, metric=True, max_iter=1000, eps=1e-9, dissimilarity=\"precomputed\", n_jobs=1)\n",
    "mds_fit_out_1 = mds_1.fit(cars_od)\n",
    "\n",
    "mds_2 = manifold.MDS(n_components=2, metric=True, max_iter=1000, eps=1e-9, dissimilarity=\"precomputed\", n_jobs=1)\n",
    "mds_fit_out_2 = mds_2.fit(cars_od)\n",
    "\n",
    "mds_3 = manifold.MDS(n_components=3, metric=True, max_iter=1000, eps=1e-9, dissimilarity=\"precomputed\", n_jobs=1)\n",
    "mds_fit_out_3 = mds_3.fit(cars_od)\n",
    "\n",
    "mds_4 = manifold.MDS(n_components=4, metric=True, max_iter=1000, eps=1e-9, dissimilarity=\"precomputed\", n_jobs=1)\n",
    "mds_fit_out_4 = mds_4.fit(cars_od)\n",
    "\n",
    "mds_5 = manifold.MDS(n_components=5, metric=True, max_iter=1000, eps=1e-9, dissimilarity=\"precomputed\", n_jobs=1)\n",
    "mds_fit_out_5 = mds_5.fit(cars_od)\n",
    "\n",
    "mds_6 = manifold.MDS(n_components=6, metric=True, max_iter=1000, eps=1e-9, dissimilarity=\"precomputed\", n_jobs=1)\n",
    "mds_fit_out_6 = mds_6.fit(cars_od)\n",
    "\n",
    "mds_7 = manifold.MDS(n_components=7, metric=True, max_iter=1000, eps=1e-9, dissimilarity=\"precomputed\", n_jobs=1)\n",
    "mds_fit_out_7 = mds_7.fit(cars_od)\n",
    "\n",
    "mds_8 = manifold.MDS(n_components=8, metric=True, max_iter=1000, eps=1e-9, dissimilarity=\"precomputed\", n_jobs=1)\n",
    "mds_fit_out_8 = mds_8.fit(cars_od)\n",
    "\n",
    "mds_9 = manifold.MDS(n_components=9, metric=True, max_iter=1000, eps=1e-9, dissimilarity=\"precomputed\", n_jobs=1)\n",
    "mds_fit_out_9 = mds_9.fit(cars_od)"
   ]
  },
  {
   "cell_type": "markdown",
   "id": "ca7bb67a",
   "metadata": {},
   "source": [
    "Next, we find the badness-of-fit measure (BOF) for our different values of \"k\" from 1 to 9."
   ]
  },
  {
   "cell_type": "code",
   "execution_count": 6,
   "id": "926de2fe",
   "metadata": {},
   "outputs": [],
   "source": [
    "bof_1 = mds_fit_out_1.stress_\n",
    "\n",
    "bof_2 = mds_fit_out_2.stress_\n",
    "\n",
    "bof_3 = mds_fit_out_3.stress_\n",
    "\n",
    "bof_4 = mds_fit_out_4.stress_\n",
    "\n",
    "bof_5 = mds_fit_out_5.stress_\n",
    "\n",
    "bof_6 = mds_fit_out_6.stress_\n",
    "\n",
    "bof_7 = mds_fit_out_7.stress_\n",
    "\n",
    "bof_8 = mds_fit_out_8.stress_\n",
    "\n",
    "bof_9 = mds_fit_out_9.stress_"
   ]
  },
  {
   "cell_type": "markdown",
   "id": "a4c82416",
   "metadata": {},
   "source": [
    "Now, we can plot the BOF measure for every value of k from 1 to 9."
   ]
  },
  {
   "cell_type": "code",
   "execution_count": 7,
   "id": "2715600f",
   "metadata": {},
   "outputs": [
    {
     "data": {
      "image/png": "[encoded data removed]",
      "text/plain": [
       "<Figure size 576x360 with 1 Axes>"
      ]
     },
     "metadata": {
      "needs_background": "light"
     },
     "output_type": "display_data"
    }
   ],
   "source": [
    "k_values = [1,2,3,4,5,6,7,8,9]\n",
    "bof_values = [bof_1,bof_2,bof_3,bof_4,bof_5,bof_6,bof_7,bof_8,bof_9]\n",
    "  \n",
    "plt.figure(figsize=(8, 5))\n",
    "plt.plot(k_values, bof_values)\n",
    "plt.title('Skree Plot')\n",
    "plt.xlabel('Dimensions')\n",
    "plt.ylabel('Best Stress')\n",
    "plt.show()"
   ]
  },
  {
   "cell_type": "markdown",
   "id": "fcbd8727",
   "metadata": {},
   "source": [
    "**The most appropriate value of k is k=2**. As we can see from the graph, there is very little improvement in the BOF measure after k=2."
   ]
  },
  {
   "cell_type": "markdown",
   "id": "58a7ec02",
   "metadata": {},
   "source": [
    "Now, we can find the coordinates of our 2-dimensional space and plot the products at their coordinates as output by MDS."
   ]
  },
  {
   "cell_type": "code",
   "execution_count": 8,
   "id": "be409b9f",
   "metadata": {},
   "outputs": [
    {
     "data": {
      "image/png": "[encoded data removed]",
      "text/plain": [
       "<Figure size 576x576 with 1 Axes>"
      ]
     },
     "metadata": {
      "needs_background": "light"
     },
     "output_type": "display_data"
    }
   ],
   "source": [
    "mds_coord_2 = mds_fit_out_2.embedding_\n",
    "x_coord = mds_coord_2[:,0]\n",
    "y_coord = mds_coord_2[:,1]\n",
    "  \n",
    "car_list=[\"Infiniti\",\"Ford\",\"Audi\",\"Toyota\",\"Eagle\",\"Honda\",\"Saab\",\"Pontiac\",\"BMW\",\"Mercury\"]\n",
    "plt.figure(figsize=(8, 8))\n",
    "plt.scatter(x_coord, y_coord)\n",
    "plt.title('Metric MDS Map')\n",
    "plt.axis('square')\n",
    "plt.xlabel('X')\n",
    "plt.ylabel('Y')\n",
    "for i, label in enumerate(car_list):\n",
    "    plt.annotate(label, (x_coord[i], y_coord[i]))\n",
    "\n",
    "plt.show()"
   ]
  },
  {
   "cell_type": "markdown",
   "id": "5450ffda",
   "metadata": {},
   "source": [
    "In order to get a meaningful interpretation of this plot, I mentally rotated the plot about 45 degrees clockwise. Assuming this rotation, I have the vertical axes as \"Prestige\" at the north end and \"Poorly Built\" at the south end, and I have the horizontal axes as \"Roomy\" at the west end and \"Sporty\" at the east end."
   ]
  },
  {
   "cell_type": "markdown",
   "id": "e180bcdf",
   "metadata": {},
   "source": [
    "## Part (B) Nonmetric multidimensional scaling:"
   ]
  },
  {
   "cell_type": "markdown",
   "id": "57fadf27",
   "metadata": {},
   "source": [
    "Now, let's repeat the steps in Part A for nonmetric multidimensional scaling, but this time we will only use values of k from 1 to 5."
   ]
  },
  {
   "cell_type": "markdown",
   "id": "d061aae9",
   "metadata": {},
   "source": [
    "First, we run the nonmetric MDS using sklearn."
   ]
  },
  {
   "cell_type": "code",
   "execution_count": 11,
   "id": "d43168b8",
   "metadata": {},
   "outputs": [],
   "source": [
    "nonmetric_1 = manifold.MDS(n_components=1, metric=False, max_iter=1000, eps=1e-9, dissimilarity=\"precomputed\", n_jobs=1)\n",
    "nonmetric_fit_out_1 = nonmetric_1.fit(cars_od)\n",
    "\n",
    "nonmetric_2 = manifold.MDS(n_components=2, metric=False, max_iter=1000, eps=1e-9, dissimilarity=\"precomputed\", n_jobs=1)\n",
    "nonmetric_fit_out_2 = nonmetric_2.fit(cars_od)\n",
    "\n",
    "nonmetric_3 = manifold.MDS(n_components=3, metric=False, max_iter=1000, eps=1e-9, dissimilarity=\"precomputed\", n_jobs=1)\n",
    "nonmetric_fit_out_3 = nonmetric_3.fit(cars_od)\n",
    "\n",
    "nonmetric_4 = manifold.MDS(n_components=4, metric=False, max_iter=1000, eps=1e-9, dissimilarity=\"precomputed\", n_jobs=1)\n",
    "nonmetric_fit_out_4 = nonmetric_4.fit(cars_od)\n",
    "\n",
    "nonmetric_5 = manifold.MDS(n_components=5, metric=False, max_iter=1000, eps=1e-9, dissimilarity=\"precomputed\", n_jobs=1)\n",
    "nonmetric_fit_out_5 = nonmetric_5.fit(cars_od)"
   ]
  },
  {
   "cell_type": "markdown",
   "id": "1c53ad24",
   "metadata": {},
   "source": [
    "Next, we find the badness-of-fit measure (BOF) for our different values of \"k\" from 1 to 5."
   ]
  },
  {
   "cell_type": "code",
   "execution_count": 12,
   "id": "9aee9a6c",
   "metadata": {},
   "outputs": [],
   "source": [
    "bof_nm_1 = nonmetric_fit_out_1.stress_\n",
    "\n",
    "bof_nm_2 = nonmetric_fit_out_2.stress_\n",
    "\n",
    "bof_nm_3 = nonmetric_fit_out_3.stress_\n",
    "\n",
    "bof_nm_4 = nonmetric_fit_out_4.stress_\n",
    "\n",
    "bof_nm_5 = nonmetric_fit_out_5.stress_"
   ]
  },
  {
   "cell_type": "markdown",
   "id": "5bc924d2",
   "metadata": {},
   "source": [
    "Now, we can plot the BOF measure for every value of k from 1 to 5."
   ]
  },
  {
   "cell_type": "code",
   "execution_count": 13,
   "id": "47030a6e",
   "metadata": {
    "scrolled": true
   },
   "outputs": [
    {
     "data": {
      "image/png": "[encoded data removed]",
      "text/plain": [
       "<Figure size 576x360 with 1 Axes>"
      ]
     },
     "metadata": {
      "needs_background": "light"
     },
     "output_type": "display_data"
    }
   ],
   "source": [
    "k_values_nm = [1,2,3,4,5]\n",
    "bof_values_nm = [bof_nm_1,bof_nm_2,bof_nm_3,bof_nm_4,bof_nm_5]\n",
    "  \n",
    "plt.figure(figsize=(8, 5))\n",
    "plt.plot(k_values_nm, bof_values_nm)\n",
    "plt.title('Skree Plot')\n",
    "plt.xlabel('Dimensions')\n",
    "plt.ylabel('Best Stress')\n",
    "plt.show()"
   ]
  },
  {
   "cell_type": "markdown",
   "id": "2fc55986",
   "metadata": {},
   "source": [
    "**The most appropriate value of k is still k=2**. As we can see from the graph, there is very little improvement in the BOF measure after k=2."
   ]
  },
  {
   "cell_type": "markdown",
   "id": "48edf34e",
   "metadata": {},
   "source": [
    "Now, we can find the coordinates of our 2-dimensional space and plot the products at their coordinates."
   ]
  },
  {
   "cell_type": "code",
   "execution_count": 15,
   "id": "ad8de31d",
   "metadata": {},
   "outputs": [
    {
     "data": {
      "image/png": "[encoded data removed]",
      "text/plain": [
       "<Figure size 576x576 with 1 Axes>"
      ]
     },
     "metadata": {
      "needs_background": "light"
     },
     "output_type": "display_data"
    }
   ],
   "source": [
    "mds_coord_nm = nonmetric_fit_out_2.embedding_\n",
    "x_coord_nm = mds_coord_nm[:,0]\n",
    "y_coord_nm = mds_coord_nm[:,1]\n",
    "  \n",
    "plt.figure(figsize=(8, 8))\n",
    "plt.scatter(x_coord_nm, y_coord_nm)\n",
    "plt.title('Non-Metric MDS Map')\n",
    "plt.axis('square')\n",
    "plt.xlabel('X')\n",
    "plt.ylabel('Y')\n",
    "for i, label in enumerate(car_list):\n",
    "    plt.annotate(label, (x_coord_nm[i], y_coord_nm[i]))\n",
    "\n",
    "plt.show()"
   ]
  },
  {
   "cell_type": "markdown",
   "id": "408fa8a1",
   "metadata": {},
   "source": [
    "In order to get a meaningful interpretation of this plot, I mentally rotated the plot about 315 degrees clockwise. Assuming this rotation, I have the vertical axes as \"Prestige\" at the north end and \"Common\" at the south end, and I have the horizontal axes as \"Roomy\" at the west end and \"Sporty\" at the east end."
   ]
  },
  {
   "cell_type": "markdown",
   "id": "49183831",
   "metadata": {},
   "source": [
    "## Part (C) Factor Analysis:"
   ]
  },
  {
   "cell_type": "markdown",
   "id": "daf549e2",
   "metadata": {},
   "source": [
    "Below, we run the factor analysis for different factor dimensions from 1 to 10. First, let's find the GOF measure for every value of nfactors from 1 to 10."
   ]
  },
  {
   "cell_type": "code",
   "execution_count": 7,
   "id": "4713affc",
   "metadata": {},
   "outputs": [],
   "source": [
    "# nfactor = 1\n",
    "fa1 = FactorAnalyzer(n_factors=1, rotation=None)\n",
    "fa_fit_out1 = fa1.fit(cars_ar)\n",
    "fa_communalities1 = fa_fit_out1.get_communalities()\n",
    "fa_gof1 = sum(fa_communalities1)\n",
    "fa_scores1 = fa_fit_out1.transform(cars_ar)\n",
    "fa_factor_loadings1 = fa_fit_out1.loadings_\n",
    "\n",
    "# nfactor = 2\n",
    "fa2 = FactorAnalyzer(n_factors=2, rotation=None)\n",
    "fa_fit_out2 = fa2.fit(cars_ar)\n",
    "fa_communalities2 = fa_fit_out2.get_communalities()\n",
    "fa_gof2 = sum(fa_communalities2)\n",
    "fa_scores2 = fa_fit_out2.transform(cars_ar)\n",
    "fa_factor_loadings2 = fa_fit_out2.loadings_\n",
    "\n",
    "# nfactor = 3\n",
    "fa3 = FactorAnalyzer(n_factors=3, rotation=None)\n",
    "fa_fit_out3 = fa3.fit(cars_ar)\n",
    "fa_communalities3 = fa_fit_out3.get_communalities()\n",
    "fa_gof3 = sum(fa_communalities3)\n",
    "fa_scores3 = fa_fit_out3.transform(cars_ar)\n",
    "fa_factor_loadings3 = fa_fit_out3.loadings_\n",
    "\n",
    "# nfactor = 4\n",
    "fa4 = FactorAnalyzer(n_factors=4, rotation=None)\n",
    "fa_fit_out4 = fa4.fit(cars_ar)\n",
    "fa_communalities4 = fa_fit_out4.get_communalities()\n",
    "fa_gof4 = sum(fa_communalities4)\n",
    "fa_scores4 = fa_fit_out4.transform(cars_ar)\n",
    "fa_factor_loadings4 = fa_fit_out4.loadings_\n",
    "\n",
    "# nfactor = 5\n",
    "fa5 = FactorAnalyzer(n_factors=5, rotation=None)\n",
    "fa_fit_out5 = fa5.fit(cars_ar)\n",
    "fa_communalities5 = fa_fit_out5.get_communalities()\n",
    "fa_gof5 = sum(fa_communalities5)\n",
    "fa_scores5 = fa_fit_out5.transform(cars_ar)\n",
    "fa_factor_loadings5 = fa_fit_out5.loadings_\n",
    "\n",
    "# nfactor = 6\n",
    "fa6 = FactorAnalyzer(n_factors=6, rotation=None)\n",
    "fa_fit_out6 = fa6.fit(cars_ar)\n",
    "fa_communalities6 = fa_fit_out6.get_communalities()\n",
    "fa_gof6 = sum(fa_communalities6)\n",
    "fa_scores6 = fa_fit_out6.transform(cars_ar)\n",
    "fa_factor_loadings6 = fa_fit_out6.loadings_\n",
    "\n",
    "# nfactor = 7\n",
    "fa7 = FactorAnalyzer(n_factors=7, rotation=None)\n",
    "fa_fit_out7 = fa7.fit(cars_ar)\n",
    "fa_communalities7 = fa_fit_out7.get_communalities()\n",
    "fa_gof7 = sum(fa_communalities7)\n",
    "fa_scores7 = fa_fit_out7.transform(cars_ar)\n",
    "fa_factor_loadings7 = fa_fit_out7.loadings_\n",
    "\n",
    "# nfactor = 8\n",
    "fa8 = FactorAnalyzer(n_factors=8, rotation=None)\n",
    "fa_fit_out8 = fa8.fit(cars_ar)\n",
    "fa_communalities8 = fa_fit_out8.get_communalities()\n",
    "fa_gof8 = sum(fa_communalities8)\n",
    "fa_scores8 = fa_fit_out8.transform(cars_ar)\n",
    "fa_factor_loadings8 = fa_fit_out8.loadings_\n",
    "\n",
    "# nfactor = 9\n",
    "fa9 = FactorAnalyzer(n_factors=9, rotation=None)\n",
    "fa_fit_out9 = fa9.fit(cars_ar)\n",
    "fa_communalities9 = fa_fit_out9.get_communalities()\n",
    "fa_gof9 = sum(fa_communalities9)\n",
    "fa_scores9 = fa_fit_out9.transform(cars_ar)\n",
    "fa_factor_loadings9 = fa_fit_out9.loadings_\n",
    "\n",
    "# nfactor = 10\n",
    "fa10 = FactorAnalyzer(n_factors=10, rotation=None)\n",
    "fa_fit_out10 = fa10.fit(cars_ar)\n",
    "fa_communalities10 = fa_fit_out10.get_communalities()\n",
    "fa_gof10 = sum(fa_communalities10)\n",
    "fa_scores10 = fa_fit_out10.transform(cars_ar)\n",
    "fa_factor_loadings10 = fa_fit_out10.loadings_"
   ]
  },
  {
   "cell_type": "markdown",
   "id": "34fed88a",
   "metadata": {},
   "source": [
    "Now, we can plot the GOF measure for every value of k from 1 to 10."
   ]
  },
  {
   "cell_type": "code",
   "execution_count": 9,
   "id": "fffedad0",
   "metadata": {},
   "outputs": [
    {
     "data": {
      "image/png": "[encoded data removed]",
      "text/plain": [
       "<Figure size 576x360 with 1 Axes>"
      ]
     },
     "metadata": {
      "needs_background": "light"
     },
     "output_type": "display_data"
    }
   ],
   "source": [
    "k_values_fa = [1,2,3,4,5,6,7,8,9,10]\n",
    "gof_values = [fa_gof1,fa_gof2,fa_gof3,fa_gof4,fa_gof5,fa_gof6,fa_gof7,fa_gof8,fa_gof9,fa_gof10]\n",
    "  \n",
    "plt.figure(figsize=(8, 5))\n",
    "plt.plot(k_values_fa, gof_values)\n",
    "plt.title('Skree Plot')\n",
    "plt.xlabel('nfactors')\n",
    "plt.ylabel('GOF Measure')\n",
    "plt.show()"
   ]
  },
  {
   "cell_type": "markdown",
   "id": "cda8235d",
   "metadata": {},
   "source": [
    "From the graph above, **it seems the most appropriate value of k is k=6**. As we can see from the graph, there is noticeably less improvement in the GOF measure after k=6."
   ]
  },
  {
   "cell_type": "markdown",
   "id": "0a3e4db4",
   "metadata": {},
   "source": [
    "Assuming the number of dimensions is now nfactors=2, let's create a plot of the points with labels corresponding to the product names."
   ]
  },
  {
   "cell_type": "code",
   "execution_count": 86,
   "id": "67bd767f",
   "metadata": {},
   "outputs": [
    {
     "data": {
      "image/png": "[encoded data removed]",
      "text/plain": [
       "<Figure size 576x576 with 1 Axes>"
      ]
     },
     "metadata": {
      "needs_background": "light"
     },
     "output_type": "display_data"
    }
   ],
   "source": [
    "x_coord_fa = fa_scores2[:,0]\n",
    "y_coord_fa = fa_scores2[:,1]\n",
    "  \n",
    "plt.figure(figsize=(8, 8))\n",
    "plt.scatter(x_coord_fa, y_coord_fa)\n",
    "plt.title('Perceptual Map without Attribute Vectors')\n",
    "plt.axis('square')\n",
    "plt.xlabel('X')\n",
    "plt.ylabel('Y')\n",
    "for i, label in enumerate(car_list):\n",
    "    plt.annotate(label, (x_coord_fa[i], y_coord_fa[i]))\n",
    "plt.show()"
   ]
  },
  {
   "cell_type": "markdown",
   "id": "10174b00",
   "metadata": {},
   "source": [
    "Now, let's determine the attribute vectors with the appropriate length for each. We do this by taking the regression coefficients and R^2 at the correct angle with the correct length."
   ]
  },
  {
   "cell_type": "code",
   "execution_count": 183,
   "id": "f608a7ce",
   "metadata": {},
   "outputs": [],
   "source": [
    "# Set our values for the regression coefficients and R^2 values\n",
    "betax = fa_factor_loadings2[:,0]\n",
    "betay = fa_factor_loadings2[:,1]\n",
    "arrowlengthscaleup = 1.1\n",
    "R2value = fa_communalities2\n",
    "arrowlabels = cars_ar.columns.values.tolist()\n",
    "arrow_origin_x = 0\n",
    "arrow_origin_y = 0\n",
    "\n",
    "# Define function we will use to plot the attribute vector arrows\n",
    "def attribute_vector(i):\n",
    "    arrow_end_x = arrowlengthscaleup*R2value[i]*betax[i]/math.sqrt(betax[i]**2+betay[i]**2)\n",
    "    arrow_end_y = arrowlengthscaleup*R2value[i]*betay[i]/math.sqrt(betax[i]**2+betay[i]**2)\n",
    "    plt.arrow(arrow_origin_x, arrow_origin_y, arrow_end_x-arrow_origin_x, arrow_end_y-arrow_origin_y, length_includes_head=True, head_width=0.03, head_length=0.05)\n",
    "    plt.text(x=arrow_end_x, y=arrow_end_y, s=arrowlabels[i])"
   ]
  },
  {
   "cell_type": "markdown",
   "id": "c1b15a71",
   "metadata": {},
   "source": [
    "Now, let's plot our perceptual map with the points and attribute vectors together."
   ]
  },
  {
   "cell_type": "code",
   "execution_count": 187,
   "id": "1ca050ae",
   "metadata": {},
   "outputs": [
    {
     "data": {
      "image/png": "[encoded data removed]",
      "text/plain": [
       "<Figure size 864x864 with 1 Axes>"
      ]
     },
     "metadata": {
      "needs_background": "light"
     },
     "output_type": "display_data"
    }
   ],
   "source": [
    "plt.figure(figsize=(12, 12))\n",
    "plt.scatter(x_coord_fa, y_coord_fa)\n",
    "plt.title('Perceptual Map with Attribute Vectors')\n",
    "plt.axis('square')\n",
    "plt.xlabel('X')\n",
    "plt.ylabel('Y')\n",
    "for i, label in enumerate(car_list):\n",
    "    plt.annotate(label, (x_coord_fa[i], y_coord_fa[i]))\n",
    "for i in range(15):\n",
    "    attribute_vector(i)\n",
    "plt.show()"
   ]
  },
  {
   "cell_type": "markdown",
   "id": "c772e08e",
   "metadata": {},
   "source": [
    "In order to get a meaningful interpretation of this plot, I mentally rotated the plot about 300 degrees clockwise. Assuming this rotation, I have the vertical axes as \"Attractive\" at the north end and \"Poorly Built\" at the south end, and I have the horizontal axes as \"Roomy\" at the west end and \"Sporty\" at the east end."
   ]
  }
 ],
 "metadata": {
  "kernelspec": {
   "display_name": "Python 3",
   "language": "python",
   "name": "python3"
  },
  "language_info": {
   "codemirror_mode": {
    "name": "ipython",
    "version": 3
   },
   "file_extension": ".py",
   "mimetype": "text/x-python",
   "name": "python",
   "nbconvert_exporter": "python",
   "pygments_lexer": "ipython3",
   "version": "3.8.8"
  }
 },
 "nbformat": 4,
 "nbformat_minor": 5
}
