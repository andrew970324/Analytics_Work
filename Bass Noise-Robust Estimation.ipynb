{
 "cells": [
  {
   "cell_type": "markdown",
   "id": "226dce83",
   "metadata": {},
   "source": [
    "# Bass Noise-Robust Estimation"
   ]
  },
  {
   "cell_type": "markdown",
   "id": "50d80a19",
   "metadata": {},
   "source": [
    "## Question 1:"
   ]
  },
  {
   "cell_type": "markdown",
   "id": "bfe996de",
   "metadata": {},
   "source": [
    "### Set-up:"
   ]
  },
  {
   "cell_type": "code",
   "execution_count": 1,
   "id": "53a83a7e",
   "metadata": {},
   "outputs": [],
   "source": [
    "import pandas as pd\n",
    "import matplotlib.pyplot as plt\n",
    "import numpy as np\n",
    "import math\n",
    "import statsmodels.api as sm\n",
    "import statsmodels.formula.api as smf\n",
    "import sklearn.linear_model as sk\n",
    "import scipy.optimize as scio\n",
    "from sklearn.linear_model import LinearRegression as LR\n",
    "from scipy.optimize import curve_fit"
   ]
  },
  {
   "cell_type": "markdown",
   "id": "b78ccb33",
   "metadata": {},
   "source": [
    "### Deliverable 1: Linear Regression Approach"
   ]
  },
  {
   "cell_type": "markdown",
   "id": "9c4e77b2",
   "metadata": {},
   "source": [
    "First, let's load the adoption series 2 data into a dataframe."
   ]
  },
  {
   "cell_type": "code",
   "execution_count": 2,
   "id": "aa8b18e1",
   "metadata": {},
   "outputs": [
    {
     "data": {
      "text/html": [
       "<div>\n",
       "<style scoped>\n",
       "    .dataframe tbody tr th:only-of-type {\n",
       "        vertical-align: middle;\n",
       "    }\n",
       "\n",
       "    .dataframe tbody tr th {\n",
       "        vertical-align: top;\n",
       "    }\n",
       "\n",
       "    .dataframe thead th {\n",
       "        text-align: right;\n",
       "    }\n",
       "</style>\n",
       "<table border=\"1\" class=\"dataframe\">\n",
       "  <thead>\n",
       "    <tr style=\"text-align: right;\">\n",
       "      <th></th>\n",
       "      <th>t</th>\n",
       "      <th>N_t</th>\n",
       "    </tr>\n",
       "  </thead>\n",
       "  <tbody>\n",
       "    <tr>\n",
       "      <th>0</th>\n",
       "      <td>1</td>\n",
       "      <td>0.123</td>\n",
       "    </tr>\n",
       "    <tr>\n",
       "      <th>1</th>\n",
       "      <td>2</td>\n",
       "      <td>0.097</td>\n",
       "    </tr>\n",
       "    <tr>\n",
       "      <th>2</th>\n",
       "      <td>3</td>\n",
       "      <td>0.171</td>\n",
       "    </tr>\n",
       "    <tr>\n",
       "      <th>3</th>\n",
       "      <td>4</td>\n",
       "      <td>0.145</td>\n",
       "    </tr>\n",
       "    <tr>\n",
       "      <th>4</th>\n",
       "      <td>5</td>\n",
       "      <td>0.238</td>\n",
       "    </tr>\n",
       "    <tr>\n",
       "      <th>5</th>\n",
       "      <td>6</td>\n",
       "      <td>0.214</td>\n",
       "    </tr>\n",
       "    <tr>\n",
       "      <th>6</th>\n",
       "      <td>7</td>\n",
       "      <td>0.333</td>\n",
       "    </tr>\n",
       "    <tr>\n",
       "      <th>7</th>\n",
       "      <td>8</td>\n",
       "      <td>0.314</td>\n",
       "    </tr>\n",
       "    <tr>\n",
       "      <th>8</th>\n",
       "      <td>9</td>\n",
       "      <td>0.466</td>\n",
       "    </tr>\n",
       "    <tr>\n",
       "      <th>9</th>\n",
       "      <td>10</td>\n",
       "      <td>0.455</td>\n",
       "    </tr>\n",
       "    <tr>\n",
       "      <th>10</th>\n",
       "      <td>11</td>\n",
       "      <td>0.650</td>\n",
       "    </tr>\n",
       "    <tr>\n",
       "      <th>11</th>\n",
       "      <td>12</td>\n",
       "      <td>0.653</td>\n",
       "    </tr>\n",
       "    <tr>\n",
       "      <th>12</th>\n",
       "      <td>13</td>\n",
       "      <td>0.902</td>\n",
       "    </tr>\n",
       "    <tr>\n",
       "      <th>13</th>\n",
       "      <td>14</td>\n",
       "      <td>0.926</td>\n",
       "    </tr>\n",
       "  </tbody>\n",
       "</table>\n",
       "</div>"
      ],
      "text/plain": [
       "     t    N_t\n",
       "0    1  0.123\n",
       "1    2  0.097\n",
       "2    3  0.171\n",
       "3    4  0.145\n",
       "4    5  0.238\n",
       "5    6  0.214\n",
       "6    7  0.333\n",
       "7    8  0.314\n",
       "8    9  0.466\n",
       "9   10  0.455\n",
       "10  11  0.650\n",
       "11  12  0.653\n",
       "12  13  0.902\n",
       "13  14  0.926"
      ]
     },
     "execution_count": 2,
     "metadata": {},
     "output_type": "execute_result"
    }
   ],
   "source": [
    "# Load the adoptionseries2_with_noise dataset\n",
    "xl_file = pd.ExcelFile('adoptionseries2_with_noise.xlsx')\n",
    "df = xl_file.parse(\"foo\")\n",
    "df.rename(columns={'N(t)':'N_t'}, inplace=True)\n",
    "df"
   ]
  },
  {
   "cell_type": "markdown",
   "id": "938b7b28",
   "metadata": {},
   "source": [
    "Next, let's add our calculated values for A and A^2 into the dataframe."
   ]
  },
  {
   "cell_type": "code",
   "execution_count": 3,
   "id": "4a08b7a7",
   "metadata": {},
   "outputs": [
    {
     "data": {
      "text/html": [
       "<div>\n",
       "<style scoped>\n",
       "    .dataframe tbody tr th:only-of-type {\n",
       "        vertical-align: middle;\n",
       "    }\n",
       "\n",
       "    .dataframe tbody tr th {\n",
       "        vertical-align: top;\n",
       "    }\n",
       "\n",
       "    .dataframe thead th {\n",
       "        text-align: right;\n",
       "    }\n",
       "</style>\n",
       "<table border=\"1\" class=\"dataframe\">\n",
       "  <thead>\n",
       "    <tr style=\"text-align: right;\">\n",
       "      <th></th>\n",
       "      <th>t</th>\n",
       "      <th>N_t</th>\n",
       "      <th>A_t</th>\n",
       "      <th>A_t2</th>\n",
       "    </tr>\n",
       "  </thead>\n",
       "  <tbody>\n",
       "    <tr>\n",
       "      <th>0</th>\n",
       "      <td>1</td>\n",
       "      <td>0.123</td>\n",
       "      <td>0.000</td>\n",
       "      <td>0.000</td>\n",
       "    </tr>\n",
       "    <tr>\n",
       "      <th>1</th>\n",
       "      <td>2</td>\n",
       "      <td>0.097</td>\n",
       "      <td>0.123</td>\n",
       "      <td>0.015</td>\n",
       "    </tr>\n",
       "    <tr>\n",
       "      <th>2</th>\n",
       "      <td>3</td>\n",
       "      <td>0.171</td>\n",
       "      <td>0.220</td>\n",
       "      <td>0.048</td>\n",
       "    </tr>\n",
       "    <tr>\n",
       "      <th>3</th>\n",
       "      <td>4</td>\n",
       "      <td>0.145</td>\n",
       "      <td>0.391</td>\n",
       "      <td>0.153</td>\n",
       "    </tr>\n",
       "    <tr>\n",
       "      <th>4</th>\n",
       "      <td>5</td>\n",
       "      <td>0.238</td>\n",
       "      <td>0.536</td>\n",
       "      <td>0.287</td>\n",
       "    </tr>\n",
       "    <tr>\n",
       "      <th>5</th>\n",
       "      <td>6</td>\n",
       "      <td>0.214</td>\n",
       "      <td>0.774</td>\n",
       "      <td>0.599</td>\n",
       "    </tr>\n",
       "    <tr>\n",
       "      <th>6</th>\n",
       "      <td>7</td>\n",
       "      <td>0.333</td>\n",
       "      <td>0.988</td>\n",
       "      <td>0.976</td>\n",
       "    </tr>\n",
       "    <tr>\n",
       "      <th>7</th>\n",
       "      <td>8</td>\n",
       "      <td>0.314</td>\n",
       "      <td>1.321</td>\n",
       "      <td>1.745</td>\n",
       "    </tr>\n",
       "    <tr>\n",
       "      <th>8</th>\n",
       "      <td>9</td>\n",
       "      <td>0.466</td>\n",
       "      <td>1.635</td>\n",
       "      <td>2.673</td>\n",
       "    </tr>\n",
       "    <tr>\n",
       "      <th>9</th>\n",
       "      <td>10</td>\n",
       "      <td>0.455</td>\n",
       "      <td>2.101</td>\n",
       "      <td>4.414</td>\n",
       "    </tr>\n",
       "    <tr>\n",
       "      <th>10</th>\n",
       "      <td>11</td>\n",
       "      <td>0.650</td>\n",
       "      <td>2.556</td>\n",
       "      <td>6.533</td>\n",
       "    </tr>\n",
       "    <tr>\n",
       "      <th>11</th>\n",
       "      <td>12</td>\n",
       "      <td>0.653</td>\n",
       "      <td>3.206</td>\n",
       "      <td>10.278</td>\n",
       "    </tr>\n",
       "    <tr>\n",
       "      <th>12</th>\n",
       "      <td>13</td>\n",
       "      <td>0.902</td>\n",
       "      <td>3.859</td>\n",
       "      <td>14.892</td>\n",
       "    </tr>\n",
       "    <tr>\n",
       "      <th>13</th>\n",
       "      <td>14</td>\n",
       "      <td>0.926</td>\n",
       "      <td>4.761</td>\n",
       "      <td>22.667</td>\n",
       "    </tr>\n",
       "  </tbody>\n",
       "</table>\n",
       "</div>"
      ],
      "text/plain": [
       "     t    N_t    A_t    A_t2\n",
       "0    1  0.123  0.000   0.000\n",
       "1    2  0.097  0.123   0.015\n",
       "2    3  0.171  0.220   0.048\n",
       "3    4  0.145  0.391   0.153\n",
       "4    5  0.238  0.536   0.287\n",
       "5    6  0.214  0.774   0.599\n",
       "6    7  0.333  0.988   0.976\n",
       "7    8  0.314  1.321   1.745\n",
       "8    9  0.466  1.635   2.673\n",
       "9   10  0.455  2.101   4.414\n",
       "10  11  0.650  2.556   6.533\n",
       "11  12  0.653  3.206  10.278\n",
       "12  13  0.902  3.859  14.892\n",
       "13  14  0.926  4.761  22.667"
      ]
     },
     "execution_count": 3,
     "metadata": {},
     "output_type": "execute_result"
    }
   ],
   "source": [
    "# Add in calculated values for A and A^2 given N(t)\n",
    "A_t = [0.000, 0.123, 0.220, 0.391, 0.536, 0.774, 0.988, 1.321, 1.635, 2.101, 2.556, 3.206, 3.859, 4.761]\n",
    "A_t2 = [0.000, 0.015, 0.048, 0.153, 0.287, 0.599, 0.976, 1.745, 2.673, 4.414, 6.533, 10.278, 14.892, 22.667]\n",
    "df[\"A_t\"] = A_t\n",
    "df[\"A_t2\"] = A_t2\n",
    "df"
   ]
  },
  {
   "cell_type": "markdown",
   "id": "5297ccaf",
   "metadata": {},
   "source": [
    "Now, let's run a linear regression to solve for our coefficients a, b, and c."
   ]
  },
  {
   "cell_type": "code",
   "execution_count": 4,
   "id": "ccc0c0f9",
   "metadata": {},
   "outputs": [
    {
     "name": "stdout",
     "output_type": "stream",
     "text": [
      "                            OLS Regression Results                            \n",
      "==============================================================================\n",
      "Dep. Variable:                    N_t   R-squared:                       0.972\n",
      "Model:                            OLS   Adj. R-squared:                  0.966\n",
      "Method:                 Least Squares   F-statistic:                     188.4\n",
      "Date:                Sat, 02 Apr 2022   Prob (F-statistic):           3.09e-09\n",
      "Time:                        17:57:36   Log-Likelihood:                 23.404\n",
      "No. Observations:                  14   AIC:                            -40.81\n",
      "Df Residuals:                      11   BIC:                            -38.89\n",
      "Df Model:                           2                                         \n",
      "Covariance Type:            nonrobust                                         \n",
      "==============================================================================\n",
      "                 coef    std err          t      P>|t|      [0.025      0.975]\n",
      "------------------------------------------------------------------------------\n",
      "Intercept      0.0961      0.027      3.611      0.004       0.038       0.155\n",
      "A_t            0.2113      0.033      6.434      0.000       0.139       0.284\n",
      "A_t2          -0.0062      0.007     -0.866      0.405      -0.022       0.010\n",
      "==============================================================================\n",
      "Omnibus:                        3.290   Durbin-Watson:                   3.731\n",
      "Prob(Omnibus):                  0.193   Jarque-Bera (JB):                1.203\n",
      "Skew:                           0.191   Prob(JB):                        0.548\n",
      "Kurtosis:                       1.616   Cond. No.                         24.7\n",
      "==============================================================================\n",
      "\n",
      "Notes:\n",
      "[1] Standard Errors assume that the covariance matrix of the errors is correctly specified.\n"
     ]
    },
    {
     "name": "stderr",
     "output_type": "stream",
     "text": [
      "C:\\Users\\andre\\anaconda3\\lib\\site-packages\\scipy\\stats\\stats.py:1603: UserWarning: kurtosistest only valid for n>=20 ... continuing anyway, n=14\n",
      "  warnings.warn(\"kurtosistest only valid for n>=20 ... continuing \"\n"
     ]
    }
   ],
   "source": [
    "model_1 = smf.ols(formula = 'N_t ~ A_t + A_t2',data = df)\n",
    "res_1 = model_1.fit()\n",
    "print(res_1.summary())"
   ]
  },
  {
   "cell_type": "markdown",
   "id": "a7817231",
   "metadata": {},
   "source": [
    "Here we use our coefficients a, b, and c to obtain values for **p, q, and M**."
   ]
  },
  {
   "cell_type": "code",
   "execution_count": 5,
   "id": "d87d4ba6",
   "metadata": {},
   "outputs": [
    {
     "name": "stdout",
     "output_type": "stream",
     "text": [
      "Value for p: 0.00278\n",
      "Value for q: 0.214\n",
      "Value for M: 34.5\n"
     ]
    }
   ],
   "source": [
    "# Assign values for coefficients a, b, and c\n",
    "a = 0.0961\n",
    "b = 0.2113\n",
    "c = -0.0062\n",
    "\n",
    "# Solve for p, q, and M given values for a, b, and c\n",
    "p = (math.sqrt(b**2 - 4*a*c) - b) / 2\n",
    "q = (math.sqrt(b**2 - 4*a*c) + b) / 2\n",
    "M = -q / c\n",
    "\n",
    "print(\"Value for p:\", round(p, 5))\n",
    "print(\"Value for q:\", round(q, 3))\n",
    "print(\"Value for M:\", round(M, 1))"
   ]
  },
  {
   "cell_type": "markdown",
   "id": "eb6ba810",
   "metadata": {},
   "source": [
    "Now let's get an estimate for values of N(t) beyond t=14 by getting values for R(t) and F(t) which we do in Excel. Upon doing so, we extrapolated the data to N(30) and found that the value for **N(30) = 0.980**."
   ]
  },
  {
   "cell_type": "markdown",
   "id": "56f8ea3e",
   "metadata": {},
   "source": [
    "### Deliverable 2: Nonlinear Regression Approach"
   ]
  },
  {
   "cell_type": "markdown",
   "id": "27728c82",
   "metadata": {},
   "source": [
    "First, let's define a function corresponding to our formula/model assuming that M=100 is fixed and we are solving for p and q."
   ]
  },
  {
   "cell_type": "code",
   "execution_count": 6,
   "id": "f1d42db2",
   "metadata": {},
   "outputs": [],
   "source": [
    "def compute_f(x, p, q):\n",
    "    return (100 * p) + ((q - p) * x) - (q / 100)*(x ** 2)"
   ]
  },
  {
   "cell_type": "markdown",
   "id": "55adb3c8",
   "metadata": {},
   "source": [
    "Next, let's compute the best-fit parameter values for **p and q** using the `curve_fit` function."
   ]
  },
  {
   "cell_type": "code",
   "execution_count": 7,
   "id": "7271ef08",
   "metadata": {},
   "outputs": [
    {
     "name": "stdout",
     "output_type": "stream",
     "text": [
      "Value for p: 0.00106\n",
      "Value for q: 0.194\n"
     ]
    }
   ],
   "source": [
    "opt, cov = curve_fit(f=compute_f, xdata=df[\"A_t\"], ydata=df[\"N_t\"], p0=(0.02, 0.5))\n",
    "\n",
    "p_opt, q_opt = opt\n",
    "print('Value for p:', round(p_opt, 5))\n",
    "print('Value for q:', round(q_opt, 3))"
   ]
  },
  {
   "cell_type": "markdown",
   "id": "0e16cd88",
   "metadata": {},
   "source": [
    "### Deliverable 3: Nonlinear Regression Approach (cont.)"
   ]
  },
  {
   "cell_type": "markdown",
   "id": "684c9536",
   "metadata": {},
   "source": [
    "Similar to what we did for Deliverable 1, let's use our computed p and q values to get an estimate of N(t) beyond t=14 by solving for R(t) and F(t) which we do in Excel. Upon doing so, we extrapolated the data to N(30) and found that the value for **N(30) = 4.90** when M is fixed at 100."
   ]
  },
  {
   "cell_type": "markdown",
   "id": "5ba55a07",
   "metadata": {},
   "source": [
    "### Deliverable 4: Continuous Bass Model"
   ]
  },
  {
   "cell_type": "markdown",
   "id": "ff125d41",
   "metadata": {},
   "source": [
    "Similar to Deliverable 2, let's define a function that creates a formula based on the Continuous Bass Model assuming M=100. Thus, we must solve for unknown parameters p and q."
   ]
  },
  {
   "cell_type": "code",
   "execution_count": 36,
   "id": "f520fec9",
   "metadata": {},
   "outputs": [],
   "source": [
    "def bass_f(x, p, q):\n",
    "    return 100 * (1 - np.exp(-(p + q) * x)) / (1 + (q / p) * np.exp(-(p + q) * x)) - 100 * (1 - np.exp(-(p + q) * (x - 1))) / (1 + (q / p) * np.exp(-(p + q) * (x - 1)))"
   ]
  },
  {
   "cell_type": "markdown",
   "id": "33ec110b",
   "metadata": {},
   "source": [
    "Next, let's compute best-fit parameters for **p and q** using the `curve_fit` function."
   ]
  },
  {
   "cell_type": "code",
   "execution_count": 38,
   "id": "c13fa509",
   "metadata": {},
   "outputs": [
    {
     "name": "stdout",
     "output_type": "stream",
     "text": [
      "Value for p: 0.000955\n",
      "Value for q: 0.179\n"
     ]
    }
   ],
   "source": [
    "opt_c, cov_c = curve_fit(f=bass_f, xdata=df[\"t\"], ydata=df[\"N_t\"], p0=(0.02, 0.5))\n",
    "\n",
    "p_opt_c, q_opt_c = opt_c\n",
    "print('Value for p:', round(p_opt_c, 6))\n",
    "print('Value for q:', round(q_opt_c, 3))"
   ]
  },
  {
   "cell_type": "markdown",
   "id": "8c9c2bad",
   "metadata": {},
   "source": [
    "Similar to what we did for the previous Deliverables, let's use our computed p and q values to get an estimate of N(t) beyond t=14 by solving for R(t) and F(t) which we do in Excel. Upon doing so, we extrapolated the data to N(30) and found that the value for **N(30) = 4.50** when M is fixed at 100."
   ]
  },
  {
   "cell_type": "markdown",
   "id": "34390c1a",
   "metadata": {},
   "source": [
    "## Question 2 (Optional):"
   ]
  },
  {
   "cell_type": "markdown",
   "id": "9645cf0b",
   "metadata": {},
   "source": [
    "Let's plot the N(t) curve for a range of value pairs for p *(ranging from 0.005 to 0.08)* and q *(ranging from 0.1 to 0.8)*. Let's start with values of **p=0.005** and **q=0.1**."
   ]
  },
  {
   "cell_type": "code",
   "execution_count": 3,
   "id": "bd3e8e35",
   "metadata": {},
   "outputs": [],
   "source": [
    "# Load our datasets for the N(t) curves\n",
    "xl_file_2 = pd.ExcelFile('adoptionseries2_with_noise_extrapolated.xlsx')\n",
    "df_1 = xl_file_2.parse(\"optional2_1\")\n",
    "df_2 = xl_file_2.parse(\"optional2_2\")\n",
    "df_3 = xl_file_2.parse(\"optional2_3\")\n",
    "df_4 = xl_file_2.parse(\"optional2_4\")\n",
    "df_5 = xl_file_2.parse(\"optional2_5\")\n",
    "df_6 = xl_file_2.parse(\"optional2_6\")"
   ]
  },
  {
   "cell_type": "code",
   "execution_count": 46,
   "id": "53b0b87b",
   "metadata": {},
   "outputs": [
    {
     "data": {
      "text/plain": [
       "[0.0,\n",
       " 50.0,\n",
       " 0.0,\n",
       " 30.0,\n",
       " 0.0,\n",
       " 50.0,\n",
       " 0.0,\n",
       " 30.0,\n",
       " 0.0,\n",
       " 50.0,\n",
       " 0.0,\n",
       " 30.0,\n",
       " 0.0,\n",
       " 50.0,\n",
       " 0.0,\n",
       " 30.0,\n",
       " 0.0,\n",
       " 50.0,\n",
       " 0.0,\n",
       " 30.0,\n",
       " 0.0,\n",
       " 50.0,\n",
       " 0.0,\n",
       " 30.0]"
      ]
     },
     "execution_count": 46,
     "metadata": {},
     "output_type": "execute_result"
    },
    {
     "data": {
      "image/png": "[encoded data removed]",
      "text/plain": [
       "<Figure size 1152x720 with 6 Axes>"
      ]
     },
     "metadata": {
      "needs_background": "light"
     },
     "output_type": "display_data"
    }
   ],
   "source": [
    "# Load t and N(t) variables from the dataset\n",
    "t_1 = df_1['t']\n",
    "Nt_1 = df_1['N_t']\n",
    "t_2 = df_2['t']\n",
    "Nt_2 = df_2['N_t']\n",
    "t_3 = df_3['t']\n",
    "Nt_3 = df_3['N_t']\n",
    "t_4 = df_4['t']\n",
    "Nt_4 = df_4['N_t']\n",
    "t_5 = df_5['t']\n",
    "Nt_5 = df_5['N_t']\n",
    "t_6 = df_6['t']\n",
    "Nt_6 = df_6['N_t']\n",
    "\n",
    "# Plot N(t) with differing values of p and q\n",
    "fig, axs = plt.subplots(2, 3, figsize=(16,10))\n",
    "axs[0, 0].scatter(t_1, Nt_1)\n",
    "axs[0, 0].plot(t_1, Nt_1)\n",
    "axs[0, 0].set_title('p=0.005, q=0.1')\n",
    "axs[0, 1].scatter(t_2, Nt_2)\n",
    "axs[0, 1].plot(t_2, Nt_2)\n",
    "axs[0, 1].set_title('p=0.005, q=0.5')\n",
    "axs[0, 2].scatter(t_3, Nt_3)\n",
    "axs[0, 2].plot(t_3, Nt_3)\n",
    "axs[0, 2].set_title('p=0.005, q=0.8')\n",
    "axs[1, 0].scatter(t_4, Nt_4)\n",
    "axs[1, 0].plot(t_4, Nt_4)\n",
    "axs[1, 0].set_title('p=0.05, q=0.1')\n",
    "axs[1, 1].scatter(t_5, Nt_5)\n",
    "axs[1, 1].plot(t_5, Nt_5)\n",
    "axs[1, 1].set_title('p=0.08, q=0.1')\n",
    "axs[1, 2].scatter(t_6, Nt_6)\n",
    "axs[1, 2].plot(t_6, Nt_6)\n",
    "axs[1, 2].set_title('p=0.08, q=0.8')\n",
    "\n",
    "for ax in axs.flat:\n",
    "    ax.set(xlabel='periods', ylabel='Adopters')\n",
    "    \n",
    "x_lim = (0, 50)\n",
    "y_lim = (0, 30)\n",
    "\n",
    "# Setting the values for all axes.\n",
    "plt.setp(axs, xlim=x_lim, ylim=y_lim)"
   ]
  },
  {
   "cell_type": "markdown",
   "id": "65248cfa",
   "metadata": {},
   "source": [
    "Based on the plots above, it seems that as you increase the absolute value of p, it leads to a larger peak for the number of new adopters. We can see this as we kept q constant and increased p from 0.005 to 0.05 and then to 0.08. In addition, as we keep p constant and increase the absolute value of q, it seems we also see larger peaks. However, we also see more rapid dropoffs after those initial peaks when q is increasing."
   ]
  }
 ],
 "metadata": {
  "kernelspec": {
   "display_name": "Python 3",
   "language": "python",
   "name": "python3"
  },
  "language_info": {
   "codemirror_mode": {
    "name": "ipython",
    "version": 3
   },
   "file_extension": ".py",
   "mimetype": "text/x-python",
   "name": "python",
   "nbconvert_exporter": "python",
   "pygments_lexer": "ipython3",
   "version": "3.8.8"
  }
 },
 "nbformat": 4,
 "nbformat_minor": 5
}
