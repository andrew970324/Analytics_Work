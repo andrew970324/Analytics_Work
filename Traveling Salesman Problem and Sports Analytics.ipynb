{
 "cells": [
  {
   "cell_type": "markdown",
   "id": "b5344c76",
   "metadata": {},
   "source": [
    "# Traveling Salesman Problem and Sports Analytics"
   ]
  },
  {
   "cell_type": "markdown",
   "id": "4f1ab25b",
   "metadata": {},
   "source": [
    "## Set-up:"
   ]
  },
  {
   "cell_type": "code",
   "execution_count": 1,
   "id": "359d20b5",
   "metadata": {},
   "outputs": [],
   "source": [
    "import numpy as np\n",
    "from numpy import unravel_index\n",
    "import pandas as pd\n",
    "from gurobipy import *\n",
    "import matplotlib.pyplot as plt\n",
    "import math\n",
    "import random"
   ]
  },
  {
   "cell_type": "markdown",
   "id": "409d26fb",
   "metadata": {},
   "source": [
    "## Question 1: Cargo freight scheduling"
   ]
  },
  {
   "cell_type": "markdown",
   "id": "32743fde",
   "metadata": {},
   "source": [
    "### Part 1: Building our data"
   ]
  },
  {
   "cell_type": "markdown",
   "id": "f7c78455",
   "metadata": {},
   "source": [
    "Let's load our cargo and city location data first to see the data we are working with."
   ]
  },
  {
   "cell_type": "code",
   "execution_count": 2,
   "id": "90e2ff31",
   "metadata": {},
   "outputs": [
    {
     "data": {
      "text/html": [
       "<div>\n",
       "<style scoped>\n",
       "    .dataframe tbody tr th:only-of-type {\n",
       "        vertical-align: middle;\n",
       "    }\n",
       "\n",
       "    .dataframe tbody tr th {\n",
       "        vertical-align: top;\n",
       "    }\n",
       "\n",
       "    .dataframe thead th {\n",
       "        text-align: right;\n",
       "    }\n",
       "</style>\n",
       "<table border=\"1\" class=\"dataframe\">\n",
       "  <thead>\n",
       "    <tr style=\"text-align: right;\">\n",
       "      <th></th>\n",
       "      <th>State</th>\n",
       "      <th>City</th>\n",
       "      <th>Latitude</th>\n",
       "      <th>Longitude</th>\n",
       "    </tr>\n",
       "  </thead>\n",
       "  <tbody>\n",
       "    <tr>\n",
       "      <th>0</th>\n",
       "      <td>Alabama</td>\n",
       "      <td>Montgomery</td>\n",
       "      <td>32.377716</td>\n",
       "      <td>-86.300568</td>\n",
       "    </tr>\n",
       "    <tr>\n",
       "      <th>1</th>\n",
       "      <td>Alaska</td>\n",
       "      <td>Juneau</td>\n",
       "      <td>58.301598</td>\n",
       "      <td>-134.420212</td>\n",
       "    </tr>\n",
       "    <tr>\n",
       "      <th>2</th>\n",
       "      <td>Arizona</td>\n",
       "      <td>Phoenix</td>\n",
       "      <td>33.448143</td>\n",
       "      <td>-112.096962</td>\n",
       "    </tr>\n",
       "    <tr>\n",
       "      <th>3</th>\n",
       "      <td>Arkansas</td>\n",
       "      <td>Little Rock</td>\n",
       "      <td>34.746613</td>\n",
       "      <td>-92.288986</td>\n",
       "    </tr>\n",
       "    <tr>\n",
       "      <th>4</th>\n",
       "      <td>California</td>\n",
       "      <td>Sacramento</td>\n",
       "      <td>38.576668</td>\n",
       "      <td>-121.493629</td>\n",
       "    </tr>\n",
       "  </tbody>\n",
       "</table>\n",
       "</div>"
      ],
      "text/plain": [
       "        State         City   Latitude   Longitude\n",
       "0     Alabama   Montgomery  32.377716  -86.300568\n",
       "1      Alaska       Juneau  58.301598 -134.420212\n",
       "2     Arizona      Phoenix  33.448143 -112.096962\n",
       "3    Arkansas  Little Rock  34.746613  -92.288986\n",
       "4  California   Sacramento  38.576668 -121.493629"
      ]
     },
     "execution_count": 2,
     "metadata": {},
     "output_type": "execute_result"
    }
   ],
   "source": [
    "df_cargo = pd.read_csv('cargo-city-locations.csv')\n",
    "df_cargo.head()"
   ]
  },
  {
   "cell_type": "markdown",
   "id": "ee2c07d8",
   "metadata": {},
   "source": [
    "First, we will need to convert the latitudes and longitudes from degrees to radians and add these new columns to our dataframe."
   ]
  },
  {
   "cell_type": "code",
   "execution_count": 3,
   "id": "8f9ecf9a",
   "metadata": {},
   "outputs": [
    {
     "data": {
      "text/html": [
       "<div>\n",
       "<style scoped>\n",
       "    .dataframe tbody tr th:only-of-type {\n",
       "        vertical-align: middle;\n",
       "    }\n",
       "\n",
       "    .dataframe tbody tr th {\n",
       "        vertical-align: top;\n",
       "    }\n",
       "\n",
       "    .dataframe thead th {\n",
       "        text-align: right;\n",
       "    }\n",
       "</style>\n",
       "<table border=\"1\" class=\"dataframe\">\n",
       "  <thead>\n",
       "    <tr style=\"text-align: right;\">\n",
       "      <th></th>\n",
       "      <th>State</th>\n",
       "      <th>City</th>\n",
       "      <th>Latitude</th>\n",
       "      <th>Longitude</th>\n",
       "      <th>Lat_radians</th>\n",
       "      <th>Lon_radians</th>\n",
       "    </tr>\n",
       "  </thead>\n",
       "  <tbody>\n",
       "    <tr>\n",
       "      <th>0</th>\n",
       "      <td>Alabama</td>\n",
       "      <td>Montgomery</td>\n",
       "      <td>32.377716</td>\n",
       "      <td>-86.300568</td>\n",
       "      <td>0.565098</td>\n",
       "      <td>-1.506229</td>\n",
       "    </tr>\n",
       "    <tr>\n",
       "      <th>1</th>\n",
       "      <td>Alaska</td>\n",
       "      <td>Juneau</td>\n",
       "      <td>58.301598</td>\n",
       "      <td>-134.420212</td>\n",
       "      <td>1.017555</td>\n",
       "      <td>-2.346075</td>\n",
       "    </tr>\n",
       "    <tr>\n",
       "      <th>2</th>\n",
       "      <td>Arizona</td>\n",
       "      <td>Phoenix</td>\n",
       "      <td>33.448143</td>\n",
       "      <td>-112.096962</td>\n",
       "      <td>0.583780</td>\n",
       "      <td>-1.956461</td>\n",
       "    </tr>\n",
       "    <tr>\n",
       "      <th>3</th>\n",
       "      <td>Arkansas</td>\n",
       "      <td>Little Rock</td>\n",
       "      <td>34.746613</td>\n",
       "      <td>-92.288986</td>\n",
       "      <td>0.606443</td>\n",
       "      <td>-1.610747</td>\n",
       "    </tr>\n",
       "    <tr>\n",
       "      <th>4</th>\n",
       "      <td>California</td>\n",
       "      <td>Sacramento</td>\n",
       "      <td>38.576668</td>\n",
       "      <td>-121.493629</td>\n",
       "      <td>0.673290</td>\n",
       "      <td>-2.120464</td>\n",
       "    </tr>\n",
       "  </tbody>\n",
       "</table>\n",
       "</div>"
      ],
      "text/plain": [
       "        State         City   Latitude   Longitude  Lat_radians  Lon_radians\n",
       "0     Alabama   Montgomery  32.377716  -86.300568     0.565098    -1.506229\n",
       "1      Alaska       Juneau  58.301598 -134.420212     1.017555    -2.346075\n",
       "2     Arizona      Phoenix  33.448143 -112.096962     0.583780    -1.956461\n",
       "3    Arkansas  Little Rock  34.746613  -92.288986     0.606443    -1.610747\n",
       "4  California   Sacramento  38.576668 -121.493629     0.673290    -2.120464"
      ]
     },
     "execution_count": 3,
     "metadata": {},
     "output_type": "execute_result"
    }
   ],
   "source": [
    "pi = math.pi\n",
    "latitude_radians = []\n",
    "longitude_radians = []\n",
    "\n",
    "for i in range(len(df_cargo)):\n",
    "    lat_radians = (df_cargo.iloc[i][2] / 360) * 2 * pi \n",
    "    lon_radians = (df_cargo.iloc[i][3] / 360) * 2 * pi \n",
    "    latitude_radians.append(lat_radians)\n",
    "    longitude_radians.append(lon_radians)\n",
    "\n",
    "df_cargo['Lat_radians'] = latitude_radians\n",
    "df_cargo['Lon_radians'] = longitude_radians\n",
    "\n",
    "df_cargo.head()"
   ]
  },
  {
   "cell_type": "markdown",
   "id": "60f4968b",
   "metadata": {},
   "source": [
    "Next, let's calculate the distance between all cities."
   ]
  },
  {
   "cell_type": "code",
   "execution_count": 4,
   "id": "a99c52d8",
   "metadata": {},
   "outputs": [],
   "source": [
    "city_distances = np.empty((68, 68))\n",
    "\n",
    "# First, use the haversine formula to calculate angle corresponding to the great circle distance\n",
    "for i in range(68):\n",
    "    for j in range(68):\n",
    "        city_distances[i][j] = (1 - np.cos(df_cargo.iloc[j][4] - df_cargo.iloc[i][4])) / 2 + np.cos(df_cargo.iloc[i][4]) * np.cos(df_cargo.iloc[j][4]) * (1 - np.cos(df_cargo.iloc[j][5] - df_cargo.iloc[i][5])) / 2\n",
    "\n",
    "# Next, we can calculate distance using our angle values obtained above\n",
    "r_earth = 6378.137\n",
    "for i in range(68):\n",
    "    for j in range(68):\n",
    "        city_distances[i][j] = 2 * r_earth * np.arcsin(math.sqrt(city_distances[i][j]))\n",
    "        \n",
    "# Now, let's calculate travel times from the distances\n",
    "travel_times = city_distances\n",
    "travel_times = travel_times / 908"
   ]
  },
  {
   "cell_type": "markdown",
   "id": "3176e8b5",
   "metadata": {},
   "source": [
    "Below, let's see our dataframe matrix containing travel times between each city."
   ]
  },
  {
   "cell_type": "code",
   "execution_count": 5,
   "id": "51e9e116",
   "metadata": {},
   "outputs": [
    {
     "data": {
      "text/html": [
       "<div>\n",
       "<style scoped>\n",
       "    .dataframe tbody tr th:only-of-type {\n",
       "        vertical-align: middle;\n",
       "    }\n",
       "\n",
       "    .dataframe tbody tr th {\n",
       "        vertical-align: top;\n",
       "    }\n",
       "\n",
       "    .dataframe thead th {\n",
       "        text-align: right;\n",
       "    }\n",
       "</style>\n",
       "<table border=\"1\" class=\"dataframe\">\n",
       "  <thead>\n",
       "    <tr style=\"text-align: right;\">\n",
       "      <th></th>\n",
       "      <th>Montgomery, Alabama</th>\n",
       "      <th>Juneau, Alaska</th>\n",
       "      <th>Phoenix, Arizona</th>\n",
       "      <th>Little Rock, Arkansas</th>\n",
       "      <th>Sacramento, California</th>\n",
       "      <th>Denver, Colorado</th>\n",
       "      <th>Hartford, Connecticut</th>\n",
       "      <th>Dover, Delaware</th>\n",
       "      <th>Honolulu, Hawaii</th>\n",
       "      <th>Tallahassee, Florida</th>\n",
       "      <th>...</th>\n",
       "      <th>San Jose, California</th>\n",
       "      <th>Jacksonville, Florida</th>\n",
       "      <th>Fort Worth, Texas</th>\n",
       "      <th>San Francisco, California</th>\n",
       "      <th>Charlotte, North Carolina</th>\n",
       "      <th>Seattle, Washington</th>\n",
       "      <th>Washington, DC</th>\n",
       "      <th>El Paso, Texas</th>\n",
       "      <th>Detroit, Michigan</th>\n",
       "      <th>Portland, Oregon</th>\n",
       "    </tr>\n",
       "  </thead>\n",
       "  <tbody>\n",
       "    <tr>\n",
       "      <th>Montgomery, Alabama</th>\n",
       "      <td>0.000000</td>\n",
       "      <td>5.056977</td>\n",
       "      <td>2.651445</td>\n",
       "      <td>0.677043</td>\n",
       "      <td>3.571961</td>\n",
       "      <td>2.054484</td>\n",
       "      <td>1.756424</td>\n",
       "      <td>1.355123</td>\n",
       "      <td>7.806145</td>\n",
       "      <td>0.318083</td>\n",
       "      <td>...</td>\n",
       "      <td>3.609520</td>\n",
       "      <td>0.547065</td>\n",
       "      <td>1.140090</td>\n",
       "      <td>3.660538</td>\n",
       "      <td>0.656446</td>\n",
       "      <td>3.817057</td>\n",
       "      <td>1.220526</td>\n",
       "      <td>2.095221</td>\n",
       "      <td>1.260576</td>\n",
       "      <td>3.781753</td>\n",
       "    </tr>\n",
       "    <tr>\n",
       "      <th>Juneau, Alaska</th>\n",
       "      <td>5.056977</td>\n",
       "      <td>0.000000</td>\n",
       "      <td>3.556684</td>\n",
       "      <td>4.459943</td>\n",
       "      <td>2.626347</td>\n",
       "      <td>3.234904</td>\n",
       "      <td>5.052450</td>\n",
       "      <td>5.101044</td>\n",
       "      <td>4.987879</td>\n",
       "      <td>5.373534</td>\n",
       "      <td>...</td>\n",
       "      <td>2.758958</td>\n",
       "      <td>5.546746</td>\n",
       "      <td>4.367639</td>\n",
       "      <td>2.692515</td>\n",
       "      <td>5.123105</td>\n",
       "      <td>1.581169</td>\n",
       "      <td>5.025938</td>\n",
       "      <td>3.995209</td>\n",
       "      <td>4.336216</td>\n",
       "      <td>1.797078</td>\n",
       "    </tr>\n",
       "    <tr>\n",
       "      <th>Phoenix, Arizona</th>\n",
       "      <td>2.651445</td>\n",
       "      <td>3.556684</td>\n",
       "      <td>0.000000</td>\n",
       "      <td>2.013975</td>\n",
       "      <td>1.123168</td>\n",
       "      <td>1.040876</td>\n",
       "      <td>3.924564</td>\n",
       "      <td>3.655538</td>\n",
       "      <td>5.154748</td>\n",
       "      <td>2.908468</td>\n",
       "      <td>...</td>\n",
       "      <td>1.087630</td>\n",
       "      <td>3.180316</td>\n",
       "      <td>1.517599</td>\n",
       "      <td>1.156569</td>\n",
       "      <td>3.158433</td>\n",
       "      <td>1.976536</td>\n",
       "      <td>3.511184</td>\n",
       "      <td>0.615248</td>\n",
       "      <td>2.996232</td>\n",
       "      <td>1.781742</td>\n",
       "    </tr>\n",
       "    <tr>\n",
       "      <th>Little Rock, Arkansas</th>\n",
       "      <td>0.677043</td>\n",
       "      <td>4.459943</td>\n",
       "      <td>2.013975</td>\n",
       "      <td>0.000000</td>\n",
       "      <td>2.897753</td>\n",
       "      <td>1.380228</td>\n",
       "      <td>2.068074</td>\n",
       "      <td>1.726577</td>\n",
       "      <td>7.161907</td>\n",
       "      <td>0.980876</td>\n",
       "      <td>...</td>\n",
       "      <td>2.939102</td>\n",
       "      <td>1.224064</td>\n",
       "      <td>0.568866</td>\n",
       "      <td>2.988580</td>\n",
       "      <td>1.150530</td>\n",
       "      <td>3.160302</td>\n",
       "      <td>1.578932</td>\n",
       "      <td>1.499250</td>\n",
       "      <td>1.283099</td>\n",
       "      <td>3.114263</td>\n",
       "    </tr>\n",
       "    <tr>\n",
       "      <th>Sacramento, California</th>\n",
       "      <td>3.571961</td>\n",
       "      <td>2.626347</td>\n",
       "      <td>1.123168</td>\n",
       "      <td>2.897753</td>\n",
       "      <td>0.000000</td>\n",
       "      <td>1.573601</td>\n",
       "      <td>4.527916</td>\n",
       "      <td>4.340942</td>\n",
       "      <td>4.364627</td>\n",
       "      <td>3.861098</td>\n",
       "      <td>...</td>\n",
       "      <td>0.156507</td>\n",
       "      <td>4.117976</td>\n",
       "      <td>2.501850</td>\n",
       "      <td>0.132749</td>\n",
       "      <td>3.973959</td>\n",
       "      <td>1.109531</td>\n",
       "      <td>4.208082</td>\n",
       "      <td>1.717417</td>\n",
       "      <td>3.585342</td>\n",
       "      <td>0.856171</td>\n",
       "    </tr>\n",
       "    <tr>\n",
       "      <th>...</th>\n",
       "      <td>...</td>\n",
       "      <td>...</td>\n",
       "      <td>...</td>\n",
       "      <td>...</td>\n",
       "      <td>...</td>\n",
       "      <td>...</td>\n",
       "      <td>...</td>\n",
       "      <td>...</td>\n",
       "      <td>...</td>\n",
       "      <td>...</td>\n",
       "      <td>...</td>\n",
       "      <td>...</td>\n",
       "      <td>...</td>\n",
       "      <td>...</td>\n",
       "      <td>...</td>\n",
       "      <td>...</td>\n",
       "      <td>...</td>\n",
       "      <td>...</td>\n",
       "      <td>...</td>\n",
       "      <td>...</td>\n",
       "      <td>...</td>\n",
       "    </tr>\n",
       "    <tr>\n",
       "      <th>Seattle, Washington</th>\n",
       "      <td>3.817057</td>\n",
       "      <td>1.581169</td>\n",
       "      <td>1.976536</td>\n",
       "      <td>3.160302</td>\n",
       "      <td>1.109531</td>\n",
       "      <td>1.809405</td>\n",
       "      <td>4.310989</td>\n",
       "      <td>4.229411</td>\n",
       "      <td>4.754172</td>\n",
       "      <td>4.132303</td>\n",
       "      <td>...</td>\n",
       "      <td>1.259481</td>\n",
       "      <td>4.349978</td>\n",
       "      <td>2.943722</td>\n",
       "      <td>1.205329</td>\n",
       "      <td>4.047216</td>\n",
       "      <td>0.000000</td>\n",
       "      <td>4.119428</td>\n",
       "      <td>2.441116</td>\n",
       "      <td>3.430231</td>\n",
       "      <td>0.259208</td>\n",
       "    </tr>\n",
       "    <tr>\n",
       "      <th>Washington, DC</th>\n",
       "      <td>1.220526</td>\n",
       "      <td>5.025938</td>\n",
       "      <td>3.511184</td>\n",
       "      <td>1.578932</td>\n",
       "      <td>4.208082</td>\n",
       "      <td>2.641799</td>\n",
       "      <td>0.536792</td>\n",
       "      <td>0.147702</td>\n",
       "      <td>8.568040</td>\n",
       "      <td>1.268460</td>\n",
       "      <td>...</td>\n",
       "      <td>4.285926</td>\n",
       "      <td>1.149489</td>\n",
       "      <td>2.147768</td>\n",
       "      <td>4.320413</td>\n",
       "      <td>0.584850</td>\n",
       "      <td>4.119428</td>\n",
       "      <td>0.000000</td>\n",
       "      <td>3.057566</td>\n",
       "      <td>0.698925</td>\n",
       "      <td>4.164774</td>\n",
       "    </tr>\n",
       "    <tr>\n",
       "      <th>El Paso, Texas</th>\n",
       "      <td>2.095221</td>\n",
       "      <td>3.995209</td>\n",
       "      <td>0.615248</td>\n",
       "      <td>1.499250</td>\n",
       "      <td>1.717417</td>\n",
       "      <td>0.989286</td>\n",
       "      <td>3.511996</td>\n",
       "      <td>3.204749</td>\n",
       "      <td>5.725878</td>\n",
       "      <td>2.332492</td>\n",
       "      <td>...</td>\n",
       "      <td>1.696044</td>\n",
       "      <td>2.608214</td>\n",
       "      <td>0.956536</td>\n",
       "      <td>1.762804</td>\n",
       "      <td>2.648236</td>\n",
       "      <td>2.441116</td>\n",
       "      <td>3.057566</td>\n",
       "      <td>0.000000</td>\n",
       "      <td>2.621474</td>\n",
       "      <td>2.280987</td>\n",
       "    </tr>\n",
       "    <tr>\n",
       "      <th>Detroit, Michigan</th>\n",
       "      <td>1.260576</td>\n",
       "      <td>4.336216</td>\n",
       "      <td>2.996232</td>\n",
       "      <td>1.283099</td>\n",
       "      <td>3.585342</td>\n",
       "      <td>2.047712</td>\n",
       "      <td>0.945475</td>\n",
       "      <td>0.799627</td>\n",
       "      <td>7.949315</td>\n",
       "      <td>1.463141</td>\n",
       "      <td>...</td>\n",
       "      <td>3.674839</td>\n",
       "      <td>1.477416</td>\n",
       "      <td>1.813918</td>\n",
       "      <td>3.703357</td>\n",
       "      <td>0.895963</td>\n",
       "      <td>3.430231</td>\n",
       "      <td>0.698925</td>\n",
       "      <td>2.621474</td>\n",
       "      <td>0.000000</td>\n",
       "      <td>3.485486</td>\n",
       "    </tr>\n",
       "    <tr>\n",
       "      <th>Portland, Oregon</th>\n",
       "      <td>3.781753</td>\n",
       "      <td>1.797078</td>\n",
       "      <td>1.781742</td>\n",
       "      <td>3.114263</td>\n",
       "      <td>0.856171</td>\n",
       "      <td>1.740565</td>\n",
       "      <td>4.387582</td>\n",
       "      <td>4.280877</td>\n",
       "      <td>4.603142</td>\n",
       "      <td>4.093361</td>\n",
       "      <td>...</td>\n",
       "      <td>1.003857</td>\n",
       "      <td>4.321758</td>\n",
       "      <td>2.853543</td>\n",
       "      <td>0.947999</td>\n",
       "      <td>4.054061</td>\n",
       "      <td>0.259208</td>\n",
       "      <td>4.164774</td>\n",
       "      <td>2.280987</td>\n",
       "      <td>3.485486</td>\n",
       "      <td>0.000000</td>\n",
       "    </tr>\n",
       "  </tbody>\n",
       "</table>\n",
       "<p>68 rows × 68 columns</p>\n",
       "</div>"
      ],
      "text/plain": [
       "                        Montgomery, Alabama  Juneau, Alaska  Phoenix, Arizona  \\\n",
       "Montgomery, Alabama                0.000000        5.056977          2.651445   \n",
       "Juneau, Alaska                     5.056977        0.000000          3.556684   \n",
       "Phoenix, Arizona                   2.651445        3.556684          0.000000   \n",
       "Little Rock, Arkansas              0.677043        4.459943          2.013975   \n",
       "Sacramento, California             3.571961        2.626347          1.123168   \n",
       "...                                     ...             ...               ...   \n",
       "Seattle, Washington                3.817057        1.581169          1.976536   \n",
       "Washington, DC                     1.220526        5.025938          3.511184   \n",
       "El Paso, Texas                     2.095221        3.995209          0.615248   \n",
       "Detroit, Michigan                  1.260576        4.336216          2.996232   \n",
       "Portland, Oregon                   3.781753        1.797078          1.781742   \n",
       "\n",
       "                        Little Rock, Arkansas  Sacramento, California  \\\n",
       "Montgomery, Alabama                  0.677043                3.571961   \n",
       "Juneau, Alaska                       4.459943                2.626347   \n",
       "Phoenix, Arizona                     2.013975                1.123168   \n",
       "Little Rock, Arkansas                0.000000                2.897753   \n",
       "Sacramento, California               2.897753                0.000000   \n",
       "...                                       ...                     ...   \n",
       "Seattle, Washington                  3.160302                1.109531   \n",
       "Washington, DC                       1.578932                4.208082   \n",
       "El Paso, Texas                       1.499250                1.717417   \n",
       "Detroit, Michigan                    1.283099                3.585342   \n",
       "Portland, Oregon                     3.114263                0.856171   \n",
       "\n",
       "                        Denver, Colorado  Hartford, Connecticut  \\\n",
       "Montgomery, Alabama             2.054484               1.756424   \n",
       "Juneau, Alaska                  3.234904               5.052450   \n",
       "Phoenix, Arizona                1.040876               3.924564   \n",
       "Little Rock, Arkansas           1.380228               2.068074   \n",
       "Sacramento, California          1.573601               4.527916   \n",
       "...                                  ...                    ...   \n",
       "Seattle, Washington             1.809405               4.310989   \n",
       "Washington, DC                  2.641799               0.536792   \n",
       "El Paso, Texas                  0.989286               3.511996   \n",
       "Detroit, Michigan               2.047712               0.945475   \n",
       "Portland, Oregon                1.740565               4.387582   \n",
       "\n",
       "                        Dover, Delaware  Honolulu, Hawaii  \\\n",
       "Montgomery, Alabama            1.355123          7.806145   \n",
       "Juneau, Alaska                 5.101044          4.987879   \n",
       "Phoenix, Arizona               3.655538          5.154748   \n",
       "Little Rock, Arkansas          1.726577          7.161907   \n",
       "Sacramento, California         4.340942          4.364627   \n",
       "...                                 ...               ...   \n",
       "Seattle, Washington            4.229411          4.754172   \n",
       "Washington, DC                 0.147702          8.568040   \n",
       "El Paso, Texas                 3.204749          5.725878   \n",
       "Detroit, Michigan              0.799627          7.949315   \n",
       "Portland, Oregon               4.280877          4.603142   \n",
       "\n",
       "                        Tallahassee, Florida  ...  San Jose, California  \\\n",
       "Montgomery, Alabama                 0.318083  ...              3.609520   \n",
       "Juneau, Alaska                      5.373534  ...              2.758958   \n",
       "Phoenix, Arizona                    2.908468  ...              1.087630   \n",
       "Little Rock, Arkansas               0.980876  ...              2.939102   \n",
       "Sacramento, California              3.861098  ...              0.156507   \n",
       "...                                      ...  ...                   ...   \n",
       "Seattle, Washington                 4.132303  ...              1.259481   \n",
       "Washington, DC                      1.268460  ...              4.285926   \n",
       "El Paso, Texas                      2.332492  ...              1.696044   \n",
       "Detroit, Michigan                   1.463141  ...              3.674839   \n",
       "Portland, Oregon                    4.093361  ...              1.003857   \n",
       "\n",
       "                        Jacksonville, Florida  Fort Worth, Texas  \\\n",
       "Montgomery, Alabama                  0.547065           1.140090   \n",
       "Juneau, Alaska                       5.546746           4.367639   \n",
       "Phoenix, Arizona                     3.180316           1.517599   \n",
       "Little Rock, Arkansas                1.224064           0.568866   \n",
       "Sacramento, California               4.117976           2.501850   \n",
       "...                                       ...                ...   \n",
       "Seattle, Washington                  4.349978           2.943722   \n",
       "Washington, DC                       1.149489           2.147768   \n",
       "El Paso, Texas                       2.608214           0.956536   \n",
       "Detroit, Michigan                    1.477416           1.813918   \n",
       "Portland, Oregon                     4.321758           2.853543   \n",
       "\n",
       "                        San Francisco, California  Charlotte, North Carolina  \\\n",
       "Montgomery, Alabama                      3.660538                   0.656446   \n",
       "Juneau, Alaska                           2.692515                   5.123105   \n",
       "Phoenix, Arizona                         1.156569                   3.158433   \n",
       "Little Rock, Arkansas                    2.988580                   1.150530   \n",
       "Sacramento, California                   0.132749                   3.973959   \n",
       "...                                           ...                        ...   \n",
       "Seattle, Washington                      1.205329                   4.047216   \n",
       "Washington, DC                           4.320413                   0.584850   \n",
       "El Paso, Texas                           1.762804                   2.648236   \n",
       "Detroit, Michigan                        3.703357                   0.895963   \n",
       "Portland, Oregon                         0.947999                   4.054061   \n",
       "\n",
       "                        Seattle, Washington  Washington, DC  El Paso, Texas  \\\n",
       "Montgomery, Alabama                3.817057        1.220526        2.095221   \n",
       "Juneau, Alaska                     1.581169        5.025938        3.995209   \n",
       "Phoenix, Arizona                   1.976536        3.511184        0.615248   \n",
       "Little Rock, Arkansas              3.160302        1.578932        1.499250   \n",
       "Sacramento, California             1.109531        4.208082        1.717417   \n",
       "...                                     ...             ...             ...   \n",
       "Seattle, Washington                0.000000        4.119428        2.441116   \n",
       "Washington, DC                     4.119428        0.000000        3.057566   \n",
       "El Paso, Texas                     2.441116        3.057566        0.000000   \n",
       "Detroit, Michigan                  3.430231        0.698925        2.621474   \n",
       "Portland, Oregon                   0.259208        4.164774        2.280987   \n",
       "\n",
       "                        Detroit, Michigan  Portland, Oregon  \n",
       "Montgomery, Alabama              1.260576          3.781753  \n",
       "Juneau, Alaska                   4.336216          1.797078  \n",
       "Phoenix, Arizona                 2.996232          1.781742  \n",
       "Little Rock, Arkansas            1.283099          3.114263  \n",
       "Sacramento, California           3.585342          0.856171  \n",
       "...                                   ...               ...  \n",
       "Seattle, Washington              3.430231          0.259208  \n",
       "Washington, DC                   0.698925          4.164774  \n",
       "El Paso, Texas                   2.621474          2.280987  \n",
       "Detroit, Michigan                0.000000          3.485486  \n",
       "Portland, Oregon                 3.485486          0.000000  \n",
       "\n",
       "[68 rows x 68 columns]"
      ]
     },
     "execution_count": 5,
     "metadata": {},
     "output_type": "execute_result"
    }
   ],
   "source": [
    "location_names = []\n",
    "\n",
    "for i in range(68):\n",
    "    full_name = df_cargo.iloc[i][1] + ', ' + df_cargo.iloc[i][0]\n",
    "    location_names.append(full_name)\n",
    "\n",
    "df_travel_times = pd.DataFrame(travel_times, columns = location_names, index = location_names)\n",
    "df_travel_times"
   ]
  },
  {
   "cell_type": "markdown",
   "id": "bd0c546a",
   "metadata": {},
   "source": [
    "#### a) Two cities with the highest travel time"
   ]
  },
  {
   "cell_type": "markdown",
   "id": "cc059076",
   "metadata": {},
   "source": [
    "First, let's find the index with the highest travel time."
   ]
  },
  {
   "cell_type": "code",
   "execution_count": 6,
   "id": "9a286fa9",
   "metadata": {},
   "outputs": [
    {
     "name": "stdout",
     "output_type": "stream",
     "text": [
      "(array([ 8, 18], dtype=int64), array([18,  8], dtype=int64))\n"
     ]
    }
   ],
   "source": [
    "result = np.where(travel_times == np.amax(travel_times))\n",
    "print(result)"
   ]
  },
  {
   "cell_type": "markdown",
   "id": "c9beba13",
   "metadata": {},
   "source": [
    "As we can see, the highest travel time occurs at index (8, 18) or (18, 8) and we can find which cities this corresponds to along with the travel time."
   ]
  },
  {
   "cell_type": "code",
   "execution_count": 8,
   "id": "e70f0d3a",
   "metadata": {},
   "outputs": [
    {
     "name": "stdout",
     "output_type": "stream",
     "text": [
      "Highest travel time occurs between Honolulu, Hawaii and Augusta, Maine with a travel time of 9.06815 hours.\n"
     ]
    }
   ],
   "source": [
    "highest_time = round(df_travel_times.iloc[8][18], 5)\n",
    "highest_city1 = df_travel_times.iloc[8].name\n",
    "highest_city2 = df_travel_times.iloc[18].name\n",
    "\n",
    "print('Highest travel time occurs between', highest_city1, 'and', highest_city2, 'with a travel time of', highest_time, 'hours.')"
   ]
  },
  {
   "cell_type": "markdown",
   "id": "d77d8834",
   "metadata": {},
   "source": [
    "#### b) Two cities with the smallest travel time"
   ]
  },
  {
   "cell_type": "markdown",
   "id": "c7d75963",
   "metadata": {},
   "source": [
    "First, let's find the index with the lowest travel time."
   ]
  },
  {
   "cell_type": "code",
   "execution_count": 9,
   "id": "66547c98",
   "metadata": {},
   "outputs": [
    {
     "name": "stdout",
     "output_type": "stream",
     "text": [
      "(array([29, 54], dtype=int64), array([54, 29], dtype=int64))\n"
     ]
    }
   ],
   "source": [
    "df_travel_times.replace(0, 100, inplace=True)\n",
    "result2 = np.where(travel_times == np.amin(travel_times))\n",
    "print(result2)"
   ]
  },
  {
   "cell_type": "markdown",
   "id": "e8010559",
   "metadata": {},
   "source": [
    "As we can see, the lowest travel time occurs at index (29, 54) or (54, 29) and we can find which cities this corresponds to along with the travel time."
   ]
  },
  {
   "cell_type": "code",
   "execution_count": 10,
   "id": "8d39213e",
   "metadata": {},
   "outputs": [
    {
     "name": "stdout",
     "output_type": "stream",
     "text": [
      "Highest travel time occurs between Trenton, New Jersey and Philadelphia, Pennsylvania with a travel time of 0.04954 hours.\n"
     ]
    }
   ],
   "source": [
    "lowest_time = round(df_travel_times.iloc[29][54], 5)\n",
    "lowest_city1 = df_travel_times.iloc[29].name\n",
    "lowest_city2 = df_travel_times.iloc[54].name\n",
    "\n",
    "print('Highest travel time occurs between', lowest_city1, 'and', lowest_city2, 'with a travel time of', lowest_time, 'hours.')"
   ]
  },
  {
   "cell_type": "markdown",
   "id": "9acd5f26",
   "metadata": {},
   "source": [
    "#### c) City with the smallest average travel time to all other cities"
   ]
  },
  {
   "cell_type": "markdown",
   "id": "3df25914",
   "metadata": {},
   "source": [
    "To find city with smallest average travel time, let's take the average of each column in our dataframe."
   ]
  },
  {
   "cell_type": "code",
   "execution_count": 11,
   "id": "ad46c878",
   "metadata": {},
   "outputs": [
    {
     "data": {
      "text/plain": [
       "(array([12], dtype=int64),)"
      ]
     },
     "execution_count": 11,
     "metadata": {},
     "output_type": "execute_result"
    }
   ],
   "source": [
    "df_travel_times.replace(100, np.nan, inplace=True)\n",
    "avg_times = df_travel_times.mean(axis = 0, skipna = True)\n",
    "smallest_avg = np.min(avg_times)\n",
    "conditon = (avg_times == smallest_avg)\n",
    "result3 = np.where(conditon)\n",
    "result3"
   ]
  },
  {
   "cell_type": "markdown",
   "id": "8bd84652",
   "metadata": {},
   "source": [
    "We find the smallest average travel time to be the city with index 12."
   ]
  },
  {
   "cell_type": "code",
   "execution_count": 12,
   "id": "bcd817ed",
   "metadata": {},
   "outputs": [
    {
     "name": "stdout",
     "output_type": "stream",
     "text": [
      "City with the smallest average travel time to all other cities: Springfield, Illinois\n",
      "Average travel time of Springfield, Illinois: 1.599\n"
     ]
    }
   ],
   "source": [
    "city_smallest_avg = df_travel_times.iloc[12].name\n",
    "\n",
    "print('City with the smallest average travel time to all other cities:', city_smallest_avg)\n",
    "print('Average travel time of Springfield, Illinois:', round(smallest_avg, 4))"
   ]
  },
  {
   "cell_type": "markdown",
   "id": "7f9e6c81",
   "metadata": {},
   "source": [
    "### Part 2: Finding a schedule"
   ]
  },
  {
   "cell_type": "markdown",
   "id": "f340988d",
   "metadata": {},
   "source": [
    "#### a)"
   ]
  },
  {
   "cell_type": "markdown",
   "id": "9b091cc5",
   "metadata": {},
   "source": [
    "Now, let's randomly generate 100 sequences of the 68 cities."
   ]
  },
  {
   "cell_type": "code",
   "execution_count": 13,
   "id": "2a7da361",
   "metadata": {},
   "outputs": [],
   "source": [
    "# Set parameters and array for our 100 random sequences of 68 cities\n",
    "nCities = 68\n",
    "random_cities = np.zeros((100, 69))\n",
    "\n",
    "# Set random seed to 50\n",
    "np.random.seed(50)\n",
    "\n",
    "# Generate 100 random sequences of the 68 cities\n",
    "for i in range(100):\n",
    "    temp = np.random.permutation(nCities)\n",
    "    temp = np.append(temp, temp[0])\n",
    "    random_cities[i] = temp"
   ]
  },
  {
   "cell_type": "markdown",
   "id": "c1f165d2",
   "metadata": {},
   "source": [
    "After generating 100 random sequences of the 68 cities, let's calculate total travel time required to visit the cities according to each sequence as well as the average total travel times of the 100 randomly generated sequences."
   ]
  },
  {
   "cell_type": "code",
   "execution_count": 14,
   "id": "b1cba10d",
   "metadata": {},
   "outputs": [
    {
     "name": "stdout",
     "output_type": "stream",
     "text": [
      "The average of the total travel times of the 100 randomly generated sequences is 149.46322 hours.\n"
     ]
    }
   ],
   "source": [
    "random_city_times = []\n",
    "\n",
    "for i in range(100):\n",
    "    total_time = 0\n",
    "    for j in range(68):\n",
    "        origin = int(random_cities[i][j])\n",
    "        destination = int(random_cities[i][j+1])\n",
    "        total_time += df_travel_times.iloc[origin][destination]\n",
    "    random_city_times.append(total_time)\n",
    "\n",
    "avg_city_times = round(sum(random_city_times) / len(random_city_times), 5)\n",
    "print(\"The average of the total travel times of the 100 randomly generated sequences is \" + str(avg_city_times) + \" hours.\")"
   ]
  },
  {
   "cell_type": "markdown",
   "id": "647c2010",
   "metadata": {},
   "source": [
    "#### b)"
   ]
  },
  {
   "cell_type": "markdown",
   "id": "c7205a41",
   "metadata": {},
   "source": [
    "Now, let's design the sequence of cities starting with Los Angeles and visiting the next city that is closest to the current city in travel time and has not been visited yet."
   ]
  },
  {
   "cell_type": "code",
   "execution_count": 15,
   "id": "0b213bd0",
   "metadata": {},
   "outputs": [
    {
     "name": "stdout",
     "output_type": "stream",
     "text": [
      "The total travel time when starting with LA and moving to the next closest city is 35.85 hours.\n"
     ]
    }
   ],
   "source": [
    "# We will start with LA as our first city\n",
    "df_travel_times.replace(np.nan, 0, inplace=True)\n",
    "LA_startpoint_time = 0\n",
    "already_visited = [51]\n",
    "travel_times_b = df_travel_times.iloc[51].tolist()\n",
    "\n",
    "# Find the next 67 closest cities in a row\n",
    "for i in range(67):\n",
    "    j = 1\n",
    "    sorted_times = sorted(travel_times_b)\n",
    "    min_value = sorted_times[j]\n",
    "    min_index = travel_times_b.index(min_value)\n",
    "    while min_index in already_visited:\n",
    "        j += 1\n",
    "        min_value = sorted_times[j]\n",
    "        min_index = travel_times_b.index(min_value)    \n",
    "    else:\n",
    "        LA_startpoint_time += min_value\n",
    "        already_visited.append(min_index)\n",
    "        travel_times_b = df_travel_times.iloc[min_index].tolist()\n",
    "\n",
    "# Add in travel time returning to LA\n",
    "return_to_LA = df_travel_times.iloc[already_visited[67]][51]\n",
    "LA_startpoint_time += return_to_LA\n",
    "print(\"The total travel time when starting with LA and moving to the next closest city is \" + str(round(LA_startpoint_time, 2)) + \" hours.\")"
   ]
  },
  {
   "cell_type": "markdown",
   "id": "e163151e",
   "metadata": {},
   "source": [
    "#### c)"
   ]
  },
  {
   "cell_type": "markdown",
   "id": "1750b439",
   "metadata": {},
   "source": [
    "Now we will solve an optimization problem to find the order in which cities should be visited so as to minimize total travel time. \n",
    "\n",
    "First, let's build our dictionary of travel times and keys for the travel times."
   ]
  },
  {
   "cell_type": "code",
   "execution_count": 16,
   "id": "ac785a57",
   "metadata": {},
   "outputs": [],
   "source": [
    "travel_time_dict = {}\n",
    "for i in range(len(df_travel_times)):\n",
    "    for j in range(len(df_travel_times)):\n",
    "        if i != j:\n",
    "            travel_time_dict[(i, j)] = df_travel_times.iloc[i, j]\n",
    "            \n",
    "od_pairs = travel_time_dict.keys()"
   ]
  },
  {
   "cell_type": "markdown",
   "id": "466363f0",
   "metadata": {},
   "source": [
    "Next, let's define some important functions we will use in our optimization model."
   ]
  },
  {
   "cell_type": "code",
   "execution_count": 18,
   "id": "86f8e330",
   "metadata": {},
   "outputs": [],
   "source": [
    "# Function that will output all subtours\n",
    "def getSubtours(sequence):\n",
    "    subtour_list = []\n",
    "    unvisited = list(range(nCities))\n",
    "    \n",
    "    while ( len(unvisited) > 0 ):\n",
    "        node = unvisited.pop()\n",
    "        \n",
    "        subtour = []\n",
    "        subtour.append(node)\n",
    "        \n",
    "        next_node = list(filter(lambda t: t[0] == node, sequence))[0][1]\n",
    "        \n",
    "        while (next_node in unvisited):\n",
    "            subtour.append(next_node)\n",
    "            unvisited.remove(next_node)\n",
    "            next_node = list(filter(lambda t: t[0] == next_node, sequence))[0][1]\n",
    "            \n",
    "        subtour_list.append(subtour)\n",
    "    \n",
    "    return subtour_list\n",
    "\n",
    "# Function that will eliminate existing subtours\n",
    "def eliminateSubtours(model, where):\n",
    "    if (where == GRB.Callback.MIPSOL):\n",
    "        x_val = model.cbGetSolution(x)\n",
    "        sequence = [ (i,j) for (i,j) in od_pairs if x_val[i,j] > 0.5]\n",
    "        subtour_list = getSubtours(sequence)\n",
    "        if (len(subtour_list) > 1):\n",
    "            for subtour in subtour_list:\n",
    "                model.cbLazy( sum(x[i,j] for i in subtour for j in subtour if i != j) <= len(subtour) - 1)"
   ]
  },
  {
   "cell_type": "markdown",
   "id": "8cf0a63b",
   "metadata": {},
   "source": [
    "Now let's implemenet the model below and find our optimally minimized travel time."
   ]
  },
  {
   "cell_type": "code",
   "execution_count": 21,
   "id": "965f68d4",
   "metadata": {},
   "outputs": [
    {
     "name": "stdout",
     "output_type": "stream",
     "text": [
      "Set parameter LazyConstraints to value 1\n",
      "Gurobi Optimizer version 9.5.0 build v9.5.0rc5 (win64)\n",
      "Thread count: 6 physical cores, 12 logical processors, using up to 12 threads\n",
      "Optimize a model with 136 rows, 4556 columns and 9112 nonzeros\n",
      "Model fingerprint: 0x5c4ba032\n",
      "Variable types: 0 continuous, 4556 integer (4556 binary)\n",
      "Coefficient statistics:\n",
      "  Matrix range     [1e+00, 1e+00]\n",
      "  Objective range  [5e-02, 9e+00]\n",
      "  Bounds range     [1e+00, 1e+00]\n",
      "  RHS range        [1e+00, 1e+00]\n",
      "Presolve time: 0.01s\n",
      "Presolved: 136 rows, 4556 columns, 9112 nonzeros\n",
      "Variable types: 0 continuous, 4556 integer (4556 binary)\n",
      "\n",
      "Root relaxation: objective 2.729102e+01, 162 iterations, 0.00 seconds (0.00 work units)\n",
      "\n",
      "    Nodes    |    Current Node    |     Objective Bounds      |     Work\n",
      " Expl Unexpl |  Obj  Depth IntInf | Incumbent    BestBd   Gap | It/Node Time\n",
      "\n",
      "     0     0   29.74856    0   94          -   29.74856      -     -    0s\n",
      "     0     0   29.90657    0   26          -   29.90657      -     -    0s\n",
      "     0     2   29.90657    0   26          -   29.90657      -     -    0s\n",
      "*   60    46               6      30.6143109   30.53790  0.25%  12.3    0s\n",
      "*   69    35              10      30.5536243   30.53790  0.05%  11.9    0s\n",
      "\n",
      "Cutting planes:\n",
      "  Lazy constraints: 95\n",
      "\n",
      "Explored 100 nodes (1144 simplex iterations) in 0.32 seconds (0.26 work units)\n",
      "Thread count was 12 (of 12 available processors)\n",
      "\n",
      "Solution count 2: 30.5536 30.6143 \n",
      "\n",
      "Optimal solution found (tolerance 1.00e-04)\n",
      "Best objective 3.055362427596e+01, best bound 3.055362427596e+01, gap 0.0000%\n",
      "\n",
      "User-callback calls 393, time in user-callback 0.09 sec\n",
      "Optimal travel time: 30.55 hours\n"
     ]
    }
   ],
   "source": [
    "m = Model()\n",
    "\n",
    "x = m.addVars(od_pairs, vtype = GRB.BINARY)\n",
    "\n",
    "for i in range(nCities):\n",
    "    m.addConstr( sum(x[i,j] for j in range(nCities) if j != i ) == 1)\n",
    "    m.addConstr( sum(x[j,i] for j in range(nCities) if j != i ) == 1)\n",
    "\n",
    "m.setObjective(sum( travel_time_dict[i,j] * x[i,j] for (i,j) in od_pairs ), GRB.MINIMIZE)\n",
    "\n",
    "m.update()\n",
    "\n",
    "# Enable lazy constraints\n",
    "m.params.LazyConstraints = 1\n",
    "\n",
    "# Supply the callback to Gurobi:\n",
    "m.optimize(eliminateSubtours)\n",
    "\n",
    "optimal_travel = m.objval\n",
    "print(\"Optimal travel time:\", round(optimal_travel, 2), 'hours')"
   ]
  },
  {
   "cell_type": "markdown",
   "id": "a1089a80",
   "metadata": {},
   "source": [
    "## Question 2: Winning the NBA championship"
   ]
  },
  {
   "cell_type": "markdown",
   "id": "0f909ba4",
   "metadata": {},
   "source": [
    "### Part 3: A dream team"
   ]
  },
  {
   "cell_type": "markdown",
   "id": "1408c27e",
   "metadata": {},
   "source": [
    "First, let's load in our player data to see what we're working with."
   ]
  },
  {
   "cell_type": "code",
   "execution_count": 69,
   "id": "7885266d",
   "metadata": {},
   "outputs": [
    {
     "data": {
      "text/html": [
       "<div>\n",
       "<style scoped>\n",
       "    .dataframe tbody tr th:only-of-type {\n",
       "        vertical-align: middle;\n",
       "    }\n",
       "\n",
       "    .dataframe tbody tr th {\n",
       "        vertical-align: top;\n",
       "    }\n",
       "\n",
       "    .dataframe thead th {\n",
       "        text-align: right;\n",
       "    }\n",
       "</style>\n",
       "<table border=\"1\" class=\"dataframe\">\n",
       "  <thead>\n",
       "    <tr style=\"text-align: right;\">\n",
       "      <th></th>\n",
       "      <th>Player</th>\n",
       "      <th>Pos</th>\n",
       "      <th>Tm</th>\n",
       "      <th>X3PA</th>\n",
       "      <th>X2PA</th>\n",
       "      <th>FGA</th>\n",
       "      <th>FTA</th>\n",
       "      <th>ORB</th>\n",
       "      <th>DRB</th>\n",
       "      <th>AST</th>\n",
       "      <th>STL</th>\n",
       "      <th>BLK</th>\n",
       "      <th>TOV</th>\n",
       "      <th>PF</th>\n",
       "      <th>Salary</th>\n",
       "    </tr>\n",
       "  </thead>\n",
       "  <tbody>\n",
       "    <tr>\n",
       "      <th>0</th>\n",
       "      <td>Alex Abrines</td>\n",
       "      <td>SG</td>\n",
       "      <td>OKC</td>\n",
       "      <td>127</td>\n",
       "      <td>30</td>\n",
       "      <td>157</td>\n",
       "      <td>13</td>\n",
       "      <td>5</td>\n",
       "      <td>43</td>\n",
       "      <td>20</td>\n",
       "      <td>17</td>\n",
       "      <td>6</td>\n",
       "      <td>14</td>\n",
       "      <td>53</td>\n",
       "      <td>5455236.0</td>\n",
       "    </tr>\n",
       "    <tr>\n",
       "      <th>1</th>\n",
       "      <td>Quincy Acy</td>\n",
       "      <td>PF</td>\n",
       "      <td>PHO</td>\n",
       "      <td>15</td>\n",
       "      <td>3</td>\n",
       "      <td>18</td>\n",
       "      <td>10</td>\n",
       "      <td>3</td>\n",
       "      <td>22</td>\n",
       "      <td>8</td>\n",
       "      <td>1</td>\n",
       "      <td>4</td>\n",
       "      <td>4</td>\n",
       "      <td>24</td>\n",
       "      <td>213949.0</td>\n",
       "    </tr>\n",
       "    <tr>\n",
       "      <th>2</th>\n",
       "      <td>Jaylen Adams</td>\n",
       "      <td>PG</td>\n",
       "      <td>ATL</td>\n",
       "      <td>74</td>\n",
       "      <td>36</td>\n",
       "      <td>110</td>\n",
       "      <td>9</td>\n",
       "      <td>11</td>\n",
       "      <td>49</td>\n",
       "      <td>65</td>\n",
       "      <td>14</td>\n",
       "      <td>5</td>\n",
       "      <td>28</td>\n",
       "      <td>45</td>\n",
       "      <td>236854.0</td>\n",
       "    </tr>\n",
       "    <tr>\n",
       "      <th>3</th>\n",
       "      <td>Steven Adams</td>\n",
       "      <td>C</td>\n",
       "      <td>OKC</td>\n",
       "      <td>2</td>\n",
       "      <td>807</td>\n",
       "      <td>809</td>\n",
       "      <td>292</td>\n",
       "      <td>391</td>\n",
       "      <td>369</td>\n",
       "      <td>124</td>\n",
       "      <td>117</td>\n",
       "      <td>76</td>\n",
       "      <td>135</td>\n",
       "      <td>204</td>\n",
       "      <td>24157304.0</td>\n",
       "    </tr>\n",
       "    <tr>\n",
       "      <th>4</th>\n",
       "      <td>Bam Adebayo</td>\n",
       "      <td>C</td>\n",
       "      <td>MIA</td>\n",
       "      <td>15</td>\n",
       "      <td>471</td>\n",
       "      <td>486</td>\n",
       "      <td>226</td>\n",
       "      <td>165</td>\n",
       "      <td>432</td>\n",
       "      <td>184</td>\n",
       "      <td>71</td>\n",
       "      <td>65</td>\n",
       "      <td>121</td>\n",
       "      <td>203</td>\n",
       "      <td>2955840.0</td>\n",
       "    </tr>\n",
       "  </tbody>\n",
       "</table>\n",
       "</div>"
      ],
      "text/plain": [
       "         Player Pos   Tm  X3PA  X2PA  FGA  FTA  ORB  DRB  AST  STL  BLK  TOV  \\\n",
       "0  Alex Abrines  SG  OKC   127    30  157   13    5   43   20   17    6   14   \n",
       "1    Quincy Acy  PF  PHO    15     3   18   10    3   22    8    1    4    4   \n",
       "2  Jaylen Adams  PG  ATL    74    36  110    9   11   49   65   14    5   28   \n",
       "3  Steven Adams   C  OKC     2   807  809  292  391  369  124  117   76  135   \n",
       "4   Bam Adebayo   C  MIA    15   471  486  226  165  432  184   71   65  121   \n",
       "\n",
       "    PF      Salary  \n",
       "0   53   5455236.0  \n",
       "1   24    213949.0  \n",
       "2   45    236854.0  \n",
       "3  204  24157304.0  \n",
       "4  203   2955840.0  "
      ]
     },
     "execution_count": 69,
     "metadata": {},
     "output_type": "execute_result"
    }
   ],
   "source": [
    "df_nba = pd.read_csv('nba-players-2018-2019-with-pos.csv')\n",
    "df_nba.head()"
   ]
  },
  {
   "cell_type": "markdown",
   "id": "5f9db254",
   "metadata": {},
   "source": [
    "Now, let's build a linear optimization model that will maximize the predicted points the team would score. First, let's create some parameters and data that will help with setting up the model."
   ]
  },
  {
   "cell_type": "code",
   "execution_count": 70,
   "id": "5dc3871a",
   "metadata": {},
   "outputs": [],
   "source": [
    "# Parameters\n",
    "n_stats = 10 # number of relevant stats\n",
    "n_players = 522 # total players available\n",
    "n_positions = 5 # number of basketball positions\n",
    "\n",
    "# Some relevant data\n",
    "coeff = [0.69129, 0.36184, 0.78122, -0.20277, 0.61064, 0.91510, 0.50506, 0.07975, -0.62701, 0.30420] # Linear regression coefficients from Part 2\n",
    "salary = df_nba[\"Salary\"] # all NBA player salaries\n",
    "stats = df_nba.drop(['Player', 'Pos', 'Tm', 'FGA','Salary'], axis = 1).to_numpy() # Statistics data for each player\n",
    "\n",
    "# Setting up position data numerically\n",
    "positions = df_nba['Pos'].to_frame()\n",
    "positions = positions.replace({'Pos':{'PG':1, 'SG':10, 'SF':100, 'PF':1000, 'C':10000}})\n",
    "positions = positions.squeeze()"
   ]
  },
  {
   "cell_type": "markdown",
   "id": "e3023020",
   "metadata": {},
   "source": [
    "After setting up the data and parameters, let's use Gurobi to build our model."
   ]
  },
  {
   "cell_type": "code",
   "execution_count": 71,
   "id": "490a2695",
   "metadata": {},
   "outputs": [
    {
     "name": "stdout",
     "output_type": "stream",
     "text": [
      "Gurobi Optimizer version 9.5.0 build v9.5.0rc5 (win64)\n",
      "Thread count: 6 physical cores, 12 logical processors, using up to 12 threads\n",
      "Optimize a model with 3 rows, 522 columns and 1566 nonzeros\n",
      "Model fingerprint: 0x2daec752\n",
      "Variable types: 0 continuous, 522 integer (522 binary)\n",
      "Coefficient statistics:\n",
      "  Matrix range     [1e+00, 4e+07]\n",
      "  Objective range  [2e-01, 2e+03]\n",
      "  Bounds range     [1e+00, 1e+00]\n",
      "  RHS range        [2e+01, 1e+08]\n",
      "Presolve time: 0.00s\n",
      "Presolved: 3 rows, 522 columns, 1458 nonzeros\n",
      "Variable types: 0 continuous, 522 integer (522 binary)\n",
      "\n",
      "Root relaxation: objective 2.200651e+04, 6 iterations, 0.00 seconds (0.00 work units)\n",
      "\n",
      "    Nodes    |    Current Node    |     Objective Bounds      |     Work\n",
      " Expl Unexpl |  Obj  Depth IntInf | Incumbent    BestBd   Gap | It/Node Time\n",
      "\n",
      "     0     0 22006.5109    0    3          - 22006.5109      -     -    0s\n",
      "H    0     0                    18285.856890 22006.5109  20.3%     -    0s\n",
      "H    0     0                    20386.097860 22006.5109  7.95%     -    0s\n",
      "     0     0 21793.7965    0    3 20386.0979 21793.7965  6.91%     -    0s\n",
      "H    0     0                    20551.953040 21679.7090  5.49%     -    0s\n",
      "     0     0 21565.9445    0    4 20551.9530 21565.9445  4.93%     -    0s\n",
      "H    0     0                    20577.641050 21565.9445  4.80%     -    0s\n",
      "\n",
      "Cutting planes:\n",
      "  Cover: 5\n",
      "  Inf proof: 2\n",
      "  RLT: 1\n",
      "\n",
      "Explored 1 nodes (15 simplex iterations) in 0.09 seconds (0.04 work units)\n",
      "Thread count was 12 (of 12 available processors)\n",
      "\n",
      "Solution count 4: 20577.6 20552 20386.1 18285.9 \n",
      "\n",
      "Optimal solution found (tolerance 1.00e-04)\n",
      "Best objective 2.057764105000e+04, best bound 2.057764105000e+04, gap 0.0000%\n"
     ]
    }
   ],
   "source": [
    "# Create the model. \n",
    "m_nba = Model()\n",
    "\n",
    "# Define our decision variables \n",
    "x = m_nba.addVars(n_players, vtype = GRB.BINARY) # binary variable for the players selected\n",
    "\n",
    "# Create constraints regarding total players and salary on an NBA team\n",
    "player_constr = m_nba.addConstr(sum(x[i] for i in range(n_players)) == 15)\n",
    "salary_constr = m_nba.addConstr(sum(x[i] * salary[i] for i in range(n_players)) <= 100000000)\n",
    "position_constr = m_nba.addConstr(sum(x[i] * positions[i] for i in range(n_players)) == 33333)\n",
    "\n",
    "# Create the objective function.\n",
    "m_nba.setObjective(513.833 + sum(coeff[j] * x[i] * stats[i, j] for i in range(n_players) for j in range(n_stats)), GRB.MAXIMIZE)\n",
    "\n",
    "m_nba.update()\n",
    "\n",
    "m_nba.optimize()"
   ]
  },
  {
   "cell_type": "markdown",
   "id": "13c9e1da",
   "metadata": {},
   "source": [
    "Below are the dream team players along with the predicted number of points that the team will score in the upcoming season."
   ]
  },
  {
   "cell_type": "code",
   "execution_count": 72,
   "id": "038386ae",
   "metadata": {},
   "outputs": [
    {
     "name": "stdout",
     "output_type": "stream",
     "text": [
      "Optimal players:\n",
      "-> Giannis Antetokounmpo - PF\n",
      "-> Devin Booker - SG\n",
      "-> Luka Doncic - SG\n",
      "-> De'Aaron Fox - PG\n",
      "-> Kyle Kuzma - PF\n",
      "-> Donovan Mitchell - SG\n",
      "-> Cedi Osman - SF\n",
      "-> Domantas Sabonis - C\n",
      "-> Pascal Siakam - PF\n",
      "-> Jayson Tatum - SF\n",
      "-> Karl-Anthony Towns - C\n",
      "-> Nikola Vucevic - C\n",
      "-> Kemba Walker - PG\n",
      "-> Justise Winslow - SF\n",
      "-> Trae Young - PG\n",
      "\n",
      "Optimal points:  20577.64\n"
     ]
    }
   ],
   "source": [
    "optimal_players = [i for i in range(n_players) if x[i].x > 0.0]\n",
    "print(\"Optimal players:\")\n",
    "for i in optimal_players:\n",
    "    print('->',df_nba.iloc[:,0][i], '-',df_nba.iloc[:,1][i])\n",
    "\n",
    "optimal_points = m_nba.objval\n",
    "print('')\n",
    "print(\"Optimal points: \",round(optimal_points, 2))"
   ]
  }
 ],
 "metadata": {
  "kernelspec": {
   "display_name": "Python 3",
   "language": "python",
   "name": "python3"
  },
  "language_info": {
   "codemirror_mode": {
    "name": "ipython",
    "version": 3
   },
   "file_extension": ".py",
   "mimetype": "text/x-python",
   "name": "python",
   "nbconvert_exporter": "python",
   "pygments_lexer": "ipython3",
   "version": "3.8.8"
  }
 },
 "nbformat": 4,
 "nbformat_minor": 5
}
