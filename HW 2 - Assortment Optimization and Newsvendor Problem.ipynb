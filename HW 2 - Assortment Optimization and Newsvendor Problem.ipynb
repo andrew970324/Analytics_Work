{
 "cells": [
  {
   "cell_type": "markdown",
   "id": "518d110e",
   "metadata": {},
   "source": [
    "# Assortment Optimization and Newsvendor Problem"
   ]
  },
  {
   "cell_type": "markdown",
   "id": "abc7cc69",
   "metadata": {},
   "source": [
    "## Set-up"
   ]
  },
  {
   "cell_type": "code",
   "execution_count": 1,
   "id": "90e56a6e",
   "metadata": {},
   "outputs": [],
   "source": [
    "import numpy as np\n",
    "import pandas as pd\n",
    "from gurobipy import *\n",
    "import sklearn.model_selection as ms\n",
    "import matplotlib.pyplot as plt\n",
    "import sklearn.tree as tree\n",
    "import graphviz "
   ]
  },
  {
   "cell_type": "markdown",
   "id": "6ced4ebc",
   "metadata": {},
   "source": [
    "## Question 1: Designing a Sushi Menu"
   ]
  },
  {
   "cell_type": "markdown",
   "id": "22507204",
   "metadata": {},
   "source": [
    "### Part 1: Understanding the data"
   ]
  },
  {
   "cell_type": "markdown",
   "id": "fc2e96da",
   "metadata": {},
   "source": [
    "First, let's load our sushi info data and the sushi utility data."
   ]
  },
  {
   "cell_type": "code",
   "execution_count": 2,
   "id": "2fc728d2",
   "metadata": {},
   "outputs": [],
   "source": [
    "df_info = pd.read_csv('sushi_info.csv', header=None)\n",
    "df_info = df_info.rename(columns={0: 'name', 1: 'category', 2: 'price'})\n",
    "sushi_utility = np.genfromtxt('sushi_utilities_mat.csv', delimiter=',')"
   ]
  },
  {
   "cell_type": "code",
   "execution_count": 3,
   "id": "fa2ec8f8",
   "metadata": {},
   "outputs": [
    {
     "data": {
      "text/html": [
       "<div>\n",
       "<style scoped>\n",
       "    .dataframe tbody tr th:only-of-type {\n",
       "        vertical-align: middle;\n",
       "    }\n",
       "\n",
       "    .dataframe tbody tr th {\n",
       "        vertical-align: top;\n",
       "    }\n",
       "\n",
       "    .dataframe thead th {\n",
       "        text-align: right;\n",
       "    }\n",
       "</style>\n",
       "<table border=\"1\" class=\"dataframe\">\n",
       "  <thead>\n",
       "    <tr style=\"text-align: right;\">\n",
       "      <th></th>\n",
       "      <th>name</th>\n",
       "      <th>category</th>\n",
       "      <th>price</th>\n",
       "    </tr>\n",
       "  </thead>\n",
       "  <tbody>\n",
       "    <tr>\n",
       "      <th>0</th>\n",
       "      <td>ebi</td>\n",
       "      <td>6</td>\n",
       "      <td>14.71</td>\n",
       "    </tr>\n",
       "    <tr>\n",
       "      <th>1</th>\n",
       "      <td>anago</td>\n",
       "      <td>3</td>\n",
       "      <td>15.94</td>\n",
       "    </tr>\n",
       "    <tr>\n",
       "      <th>2</th>\n",
       "      <td>maguro</td>\n",
       "      <td>1</td>\n",
       "      <td>15.00</td>\n",
       "    </tr>\n",
       "    <tr>\n",
       "      <th>3</th>\n",
       "      <td>ika</td>\n",
       "      <td>5</td>\n",
       "      <td>12.12</td>\n",
       "    </tr>\n",
       "    <tr>\n",
       "      <th>4</th>\n",
       "      <td>uni</td>\n",
       "      <td>8</td>\n",
       "      <td>26.30</td>\n",
       "    </tr>\n",
       "    <tr>\n",
       "      <th>...</th>\n",
       "      <td>...</td>\n",
       "      <td>...</td>\n",
       "      <td>...</td>\n",
       "    </tr>\n",
       "    <tr>\n",
       "      <th>95</th>\n",
       "      <td>karei</td>\n",
       "      <td>2</td>\n",
       "      <td>8.00</td>\n",
       "    </tr>\n",
       "    <tr>\n",
       "      <th>96</th>\n",
       "      <td>hiramasa</td>\n",
       "      <td>0</td>\n",
       "      <td>8.00</td>\n",
       "    </tr>\n",
       "    <tr>\n",
       "      <th>97</th>\n",
       "      <td>namako</td>\n",
       "      <td>8</td>\n",
       "      <td>12.00</td>\n",
       "    </tr>\n",
       "    <tr>\n",
       "      <th>98</th>\n",
       "      <td>shishamo</td>\n",
       "      <td>0</td>\n",
       "      <td>8.00</td>\n",
       "    </tr>\n",
       "    <tr>\n",
       "      <th>99</th>\n",
       "      <td>kaki</td>\n",
       "      <td>4</td>\n",
       "      <td>10.00</td>\n",
       "    </tr>\n",
       "  </tbody>\n",
       "</table>\n",
       "<p>100 rows × 3 columns</p>\n",
       "</div>"
      ],
      "text/plain": [
       "        name  category  price\n",
       "0        ebi         6  14.71\n",
       "1      anago         3  15.94\n",
       "2     maguro         1  15.00\n",
       "3        ika         5  12.12\n",
       "4        uni         8  26.30\n",
       "..       ...       ...    ...\n",
       "95     karei         2   8.00\n",
       "96  hiramasa         0   8.00\n",
       "97    namako         8  12.00\n",
       "98  shishamo         0   8.00\n",
       "99      kaki         4  10.00\n",
       "\n",
       "[100 rows x 3 columns]"
      ]
     },
     "execution_count": 3,
     "metadata": {},
     "output_type": "execute_result"
    }
   ],
   "source": [
    "df_info"
   ]
  },
  {
   "cell_type": "code",
   "execution_count": 9,
   "id": "30b227db",
   "metadata": {},
   "outputs": [
    {
     "data": {
      "text/plain": [
       "array([[2.58738227, 1.7350962 , 2.8057844 , ..., 1.36101624, 1.6240616 ,\n",
       "        1.54830768],\n",
       "       [1.7297663 , 1.4708043 , 1.46830921, ..., 0.27596015, 0.42032138,\n",
       "        0.30896378],\n",
       "       [3.34476731, 3.30225465, 3.84613956, ..., 1.43976384, 1.68563883,\n",
       "        1.73443892],\n",
       "       ...,\n",
       "       [3.36391552, 2.90684874, 3.3925252 , ..., 3.122866  , 2.31925383,\n",
       "        2.4390661 ],\n",
       "       [2.85628107, 2.22074824, 2.64534802, ..., 1.08939582, 1.21020218,\n",
       "        1.35564913],\n",
       "       [3.91464174, 3.35614098, 3.22951918, ..., 3.23661939, 3.21807821,\n",
       "        3.10566456]])"
      ]
     },
     "execution_count": 9,
     "metadata": {},
     "output_type": "execute_result"
    }
   ],
   "source": [
    "sushi_utility"
   ]
  },
  {
   "cell_type": "markdown",
   "id": "8598e1c5",
   "metadata": {},
   "source": [
    "Now, let's find the five most preferred sushis for customer 1."
   ]
  },
  {
   "cell_type": "code",
   "execution_count": 10,
   "id": "d1fdaace",
   "metadata": {},
   "outputs": [
    {
     "name": "stdout",
     "output_type": "stream",
     "text": [
      "negi_toro\n",
      "ika\n",
      "maguro\n",
      "samon\n",
      "inari\n"
     ]
    }
   ],
   "source": [
    "ascending = np.argsort(sushi_utility[0])\n",
    "descending = ascending[::-1]\n",
    "five_preferred = descending[0:5]\n",
    "for i in five_preferred:\n",
    "    print(df_info.iloc[:,0][i])"
   ]
  },
  {
   "cell_type": "markdown",
   "id": "e224ead7",
   "metadata": {},
   "source": [
    "Now, let's find the five least preferred sushis for customer 2."
   ]
  },
  {
   "cell_type": "code",
   "execution_count": 11,
   "id": "d6e0138c",
   "metadata": {},
   "outputs": [
    {
     "name": "stdout",
     "output_type": "stream",
     "text": [
      "karasumi\n",
      "komochi_konbu\n",
      "kyabia\n",
      "awabi\n",
      "kazunoko\n"
     ]
    }
   ],
   "source": [
    "ascending_2 = np.argsort(sushi_utility[1])\n",
    "five_least = ascending_2[0:5]\n",
    "for i in five_least:\n",
    "    print(df_info.iloc[:,0][i])"
   ]
  },
  {
   "cell_type": "markdown",
   "id": "065c34dd",
   "metadata": {},
   "source": [
    "Now, we compute the rank of each of the 100 sushis according to their utilities."
   ]
  },
  {
   "cell_type": "code",
   "execution_count": 41,
   "id": "c522b76e",
   "metadata": {},
   "outputs": [
    {
     "data": {
      "text/plain": [
       "array([[2.58738227, 1.7350962 , 2.8057844 , ..., 1.36101624, 1.6240616 ,\n",
       "        1.54830768],\n",
       "       [1.7297663 , 1.4708043 , 1.46830921, ..., 0.27596015, 0.42032138,\n",
       "        0.30896378],\n",
       "       [3.34476731, 3.30225465, 3.84613956, ..., 1.43976384, 1.68563883,\n",
       "        1.73443892],\n",
       "       ...,\n",
       "       [3.36391552, 2.90684874, 3.3925252 , ..., 3.122866  , 2.31925383,\n",
       "        2.4390661 ],\n",
       "       [2.85628107, 2.22074824, 2.64534802, ..., 1.08939582, 1.21020218,\n",
       "        1.35564913],\n",
       "       [3.91464174, 3.35614098, 3.22951918, ..., 3.23661939, 3.21807821,\n",
       "        3.10566456]])"
      ]
     },
     "execution_count": 41,
     "metadata": {},
     "output_type": "execute_result"
    }
   ],
   "source": [
    "sushi_utility"
   ]
  },
  {
   "cell_type": "code",
   "execution_count": 43,
   "id": "083027c4",
   "metadata": {},
   "outputs": [],
   "source": [
    "# Initialize sushi rank matrix\n",
    "sushi_rank = np.zeros((500, 100))\n",
    "\n",
    "# Compute rank of each of 100 sushis according to utilities\n",
    "for i in range(500):\n",
    "    array = sushi_utility[i]\n",
    "    order = np.argsort(array)\n",
    "    ranks = np.argsort(order)\n",
    "    sushi_rank[i] = ranks\n",
    "\n",
    "# Compute average rank over the 500 customers\n",
    "avg_rank = np.mean(sushi_rank, axis=0)\n",
    "avg_ascending = np.argsort(avg_rank)\n",
    "avg_descending = avg_ascending[::-1]"
   ]
  },
  {
   "cell_type": "markdown",
   "id": "cef98577",
   "metadata": {},
   "source": [
    "Below are the five with the best average rank over the 500 customers."
   ]
  },
  {
   "cell_type": "code",
   "execution_count": 51,
   "id": "2f267c32",
   "metadata": {},
   "outputs": [
    {
     "name": "stdout",
     "output_type": "stream",
     "text": [
      "negi_toro\n",
      "maguro\n",
      "kurumaebi\n",
      "negi_toro_maki\n",
      "ebi\n"
     ]
    }
   ],
   "source": [
    "five_best = avg_descending[0:5]\n",
    "for i in five_best:\n",
    "    print(df_info.iloc[:,0][i])"
   ]
  },
  {
   "cell_type": "markdown",
   "id": "bd60888b",
   "metadata": {},
   "source": [
    "Below is the five with the worst average rank over the 500 customers."
   ]
  },
  {
   "cell_type": "code",
   "execution_count": 53,
   "id": "69cfc677",
   "metadata": {},
   "outputs": [
    {
     "name": "stdout",
     "output_type": "stream",
     "text": [
      "kyabia\n"
     ]
    }
   ],
   "source": [
    "sushi_worst = avg_ascending[0]\n",
    "print(df_info.iloc[:,0][sushi_worst])"
   ]
  },
  {
   "cell_type": "markdown",
   "id": "cfa1eed1",
   "metadata": {},
   "source": [
    "Now we find the sushi that is the most controversial as measured by standard deviation."
   ]
  },
  {
   "cell_type": "code",
   "execution_count": 10,
   "id": "e554a5b8",
   "metadata": {},
   "outputs": [
    {
     "name": "stdout",
     "output_type": "stream",
     "text": [
      "Most controversial: awabi\n"
     ]
    }
   ],
   "source": [
    "sushi_std = np.std(sushi_rank, axis=0)\n",
    "std_ascending = np.argsort(sushi_std)\n",
    "std_descending = std_ascending[::-1]\n",
    "most_controversial = std_descending[0]\n",
    "print('Most controversial:',df_info.iloc[most_controversial][0])"
   ]
  },
  {
   "cell_type": "markdown",
   "id": "ca15b75a",
   "metadata": {},
   "source": [
    "### Part 2: Common-sense solutions"
   ]
  },
  {
   "cell_type": "markdown",
   "id": "ca13800b",
   "metadata": {},
   "source": [
    "Now, let's compute the expected per-customer revenue of an assortment of sushi items S = {1,2,..,100} where each customer picks the option that gives them the highest utility."
   ]
  },
  {
   "cell_type": "markdown",
   "id": "bd305608",
   "metadata": {},
   "source": [
    "First, we build the function that calculates our expected revenue per-customer."
   ]
  },
  {
   "cell_type": "code",
   "execution_count": 11,
   "id": "21e09db0",
   "metadata": {},
   "outputs": [],
   "source": [
    "# Get the no-purchase utilities\n",
    "nopurchase_utilities = np.full((500,), 3)\n",
    "sushi_utility = np.concatenate( (sushi_utility, nopurchase_utilities[:,None]) , axis = 1)\n",
    "# Get the prices of sushi\n",
    "prices = df_info.iloc[:,2].to_numpy()\n",
    "# Get the number of products and customers\n",
    "nProducts = 100\n",
    "nCustomers = 500\n",
    "\n",
    "# Function to compute expected revenue\n",
    "# S - the product line, represented as an array of integers\n",
    "def expected_revenue(S):\n",
    "    # Add the no-purchase option:\n",
    "    # NB: the products are numbered from 0 to 99. Index 100 ( = nProducts) will correspond to the no-purchase option. \n",
    "    S2 = np.append(S, nProducts)\n",
    "    \n",
    "    choice_probabilities = {}\n",
    "    for i in S2:\n",
    "        choice_probabilities[i] = 0.0;\n",
    "    \n",
    "    for k in range(nCustomers):\n",
    "        ind = np.argmax(sushi_utility[k,S2])\n",
    "        choice_probabilities[S2[ind]] += 1.0/nCustomers\n",
    "        \n",
    "    exp_revenue = sum([choice_probabilities[i] * prices[i] for i in S])\n",
    "        \n",
    "    return exp_revenue, choice_probabilities"
   ]
  },
  {
   "cell_type": "markdown",
   "id": "2e69add2",
   "metadata": {},
   "source": [
    "Next, we use the above function to find the expected revenue if we offer all products."
   ]
  },
  {
   "cell_type": "code",
   "execution_count": 12,
   "id": "250aba9f",
   "metadata": {},
   "outputs": [
    {
     "name": "stdout",
     "output_type": "stream",
     "text": [
      "Expected revenue (offer all sushi products):  21.509720000000016\n"
     ]
    }
   ],
   "source": [
    "S_all = np.array([i for i in range(nProducts)])\n",
    "exp_revenue_all, choice_probabilities_all = expected_revenue( S_all )\n",
    "print(\"Expected revenue (offer all sushi products): \", exp_revenue_all)"
   ]
  },
  {
   "cell_type": "markdown",
   "id": "093d5ebc",
   "metadata": {},
   "source": [
    "Now, suppose we offer only the ten highest revenue sushis. Below are the ten highest revenue sushis."
   ]
  },
  {
   "cell_type": "code",
   "execution_count": 13,
   "id": "fc79267c",
   "metadata": {},
   "outputs": [
    {
     "data": {
      "text/plain": [
       "array([ 8, 14, 47, 12,  4, 79, 19, 46, 20, 41], dtype=int64)"
      ]
     },
     "execution_count": 13,
     "metadata": {},
     "output_type": "execute_result"
    }
   ],
   "source": [
    "# Obtain the ten highest revenue sushis\n",
    "prices_ascending = np.argsort(prices)\n",
    "prices_descending = prices_ascending[::-1]\n",
    "ten_highest = prices_descending[0:10]\n",
    "ten_highest"
   ]
  },
  {
   "cell_type": "markdown",
   "id": "965886f3",
   "metadata": {},
   "source": [
    "Now, let's find revenue if we offer only these ten sushis."
   ]
  },
  {
   "cell_type": "code",
   "execution_count": 14,
   "id": "e19972da",
   "metadata": {},
   "outputs": [
    {
     "name": "stdout",
     "output_type": "stream",
     "text": [
      "Expected revenue (offer ten highest revenue sushis):  25.63944000000002\n"
     ]
    }
   ],
   "source": [
    "# Find expected revenue\n",
    "exp_revenue_ten, choice_probabilities_ten = expected_revenue( ten_highest )\n",
    "print(\"Expected revenue (offer ten highest revenue sushis): \", exp_revenue_ten)"
   ]
  },
  {
   "cell_type": "markdown",
   "id": "da96a2f0",
   "metadata": {},
   "source": [
    "Now, let's determine for every customer what their most preferred sushi is and find expected revenue if we offer all of the most preferred sushis."
   ]
  },
  {
   "cell_type": "code",
   "execution_count": 15,
   "id": "4b95a69c",
   "metadata": {},
   "outputs": [
    {
     "name": "stdout",
     "output_type": "stream",
     "text": [
      "Expected revenue (offer most preferred):  21.509720000000016\n"
     ]
    }
   ],
   "source": [
    "S_mostpref = np.argmax(sushi_utility[:,0:nProducts], axis = 1)\n",
    "\n",
    "S_mostpref = np.unique(S_mostpref)\n",
    "\n",
    "exp_revenue_mostpref, choice_probabilities_mostpref = expected_revenue( S_mostpref )\n",
    "print(\"Expected revenue (offer most preferred): \", exp_revenue_mostpref)"
   ]
  },
  {
   "cell_type": "markdown",
   "id": "a5011af9",
   "metadata": {},
   "source": [
    "### Part 3: An integer optimization model"
   ]
  },
  {
   "cell_type": "markdown",
   "id": "500ecd4d",
   "metadata": {},
   "source": [
    "Let's implement the linear optimization relaxation version of the model where we relax x and y to be continuous decision variables as opposed to binary decision variables."
   ]
  },
  {
   "cell_type": "code",
   "execution_count": 16,
   "id": "ae88a414",
   "metadata": {},
   "outputs": [
    {
     "name": "stdout",
     "output_type": "stream",
     "text": [
      "Set parameter Username\n",
      "Academic license - for non-commercial use only - expires 2022-05-31\n",
      "Creating constraints...\n",
      "Creating objective...\n",
      "Update completed\n",
      "Gurobi Optimizer version 9.5.0 build v9.5.0rc5 (win64)\n",
      "Thread count: 6 physical cores, 12 logical processors, using up to 12 threads\n",
      "Optimize a model with 101000 rows, 50600 columns and 5301000 nonzeros\n",
      "Model fingerprint: 0x56828d7b\n",
      "Coefficient statistics:\n",
      "  Matrix range     [6e-06, 5e+00]\n",
      "  Objective range  [2e-02, 7e-02]\n",
      "  Bounds range     [1e+00, 1e+00]\n",
      "  RHS range        [1e+00, 3e+00]\n",
      "\n",
      "Concurrent LP optimizer: primal simplex, dual simplex, and barrier\n",
      "Showing barrier log only...\n",
      "\n",
      "Presolve time: 1.45s\n",
      "Presolved: 101000 rows, 50600 columns, 5301000 nonzeros\n",
      "\n",
      "Ordering time: 0.25s\n",
      "\n",
      "Barrier performed 0 iterations in 4.38 seconds (3.04 work units)\n",
      "Barrier solve interrupted - model solved by another algorithm\n",
      "\n",
      "\n",
      "Solved with dual simplex\n",
      "Solved in 1191 iterations and 4.38 seconds (5.87 work units)\n",
      "Optimal objective  3.058751154e+01\n",
      "Relaxation bound:  30.58751153829859\n"
     ]
    }
   ],
   "source": [
    "m = Model()\n",
    "\n",
    "# Create the decision variables\n",
    "x = m.addVars(nProducts, vtype = GRB.BINARY )\n",
    "y = m.addVars(nCustomers, nProducts+1, vtype = GRB.BINARY)\n",
    "\n",
    "# Create the constraints:\n",
    "print(\"Creating constraints...\")\n",
    "for k in range(nCustomers):\n",
    "    m.addConstr( sum(y[k,i] for i in range(nProducts+1)) == 1) # (1b)\n",
    "    for i in range(nProducts):\n",
    "        m.addConstr( y[k,i] <= x[i] ) # (1c)\n",
    "        m.addConstr( quicksum( sushi_utility[k,j] * y[k,j] for j in range(nProducts+1)) >= sushi_utility[k,i] * x[i] + sushi_utility[k,nProducts]*(1 - x[i])) # (1d)\n",
    "    m.addConstr( quicksum( sushi_utility[k,j] * y[k,j] for j in range(nProducts+1)) >= sushi_utility[k,nProducts] ) # (1e)\n",
    "\n",
    "# Create the objective:\n",
    "print(\"Creating objective...\")\n",
    "m.setObjective( quicksum(prices[i] * 1.0/nCustomers * y[k,i] for k in range(nCustomers) for i in range(nProducts)), GRB.MAXIMIZE)\n",
    "\n",
    "# Update and solve\n",
    "m.update()\n",
    "\n",
    "print(\"Update completed\")\n",
    "m_relaxed = m.relax()\n",
    "\n",
    "m_relaxed.optimize()\n",
    "\n",
    "relaxation_bound = m_relaxed.objval\n",
    "\n",
    "print(\"Relaxation bound: \", relaxation_bound)"
   ]
  },
  {
   "cell_type": "markdown",
   "id": "1810c07c",
   "metadata": {},
   "source": [
    "Now, let's implement the integer version of the problem below."
   ]
  },
  {
   "cell_type": "code",
   "execution_count": 17,
   "id": "bf42f42e",
   "metadata": {},
   "outputs": [
    {
     "name": "stdout",
     "output_type": "stream",
     "text": [
      "Gurobi Optimizer version 9.5.0 build v9.5.0rc5 (win64)\n",
      "Thread count: 6 physical cores, 12 logical processors, using up to 12 threads\n",
      "Optimize a model with 101000 rows, 50600 columns and 5301000 nonzeros\n",
      "Model fingerprint: 0x613f8fbb\n",
      "Variable types: 0 continuous, 50600 integer (50600 binary)\n",
      "Coefficient statistics:\n",
      "  Matrix range     [6e-06, 5e+00]\n",
      "  Objective range  [2e-02, 7e-02]\n",
      "  Bounds range     [1e+00, 1e+00]\n",
      "  RHS range        [1e+00, 3e+00]\n",
      "Presolve removed 72953 rows and 36666 columns (presolve time = 5s) ...\n",
      "Presolve removed 73442 rows and 36667 columns\n",
      "Presolve time: 8.10s\n",
      "Presolved: 27558 rows, 13933 columns, 401275 nonzeros\n",
      "Variable types: 0 continuous, 13933 integer (13933 binary)\n",
      "Found heuristic solution: objective 21.5232800\n",
      "\n",
      "Deterministic concurrent LP optimizer: primal and dual simplex\n",
      "Showing first log only...\n",
      "\n",
      "\n",
      "Root simplex log...\n",
      "\n",
      "Iteration    Objective       Primal Inf.    Dual Inf.      Time\n",
      "       0    3.7270400e+00   6.000000e+01   1.200000e+08      9s\n",
      "Concurrent spin time: 0.00s\n",
      "\n",
      "Solved with dual simplex\n",
      "\n",
      "Root relaxation: objective 2.795798e+01, 2174 iterations, 0.52 seconds (1.24 work units)\n",
      "\n",
      "    Nodes    |    Current Node    |     Objective Bounds      |     Work\n",
      " Expl Unexpl |  Obj  Depth IntInf | Incumbent    BestBd   Gap | It/Node Time\n",
      "\n",
      "     0     0   27.95798    0  745   21.52328   27.95798  29.9%     -   17s\n",
      "H    0     0                      25.6555600   27.95798  8.97%     -   17s\n",
      "H    0     0                      25.7885600   27.95798  8.41%     -   17s\n",
      "H    0     0                      26.1148800   27.95798  7.06%     -   17s\n",
      "H    0     0                      26.1193800   27.95798  7.04%     -   18s\n",
      "     0     0   27.32761    0 1104   26.11938   27.32761  4.63%     -   20s\n",
      "     0     0   27.32761    0  675   26.11938   27.32761  4.63%     -   21s\n",
      "     0     0   27.23749    0  999   26.11938   27.23749  4.28%     -   23s\n",
      "     0     0   26.49838    0  891   26.11938   26.49838  1.45%     -   23s\n",
      "H    0     0                      26.2019200   26.49838  1.13%     -   23s\n",
      "     0     0   26.39922    0  995   26.20192   26.39922  0.75%     -   23s\n",
      "     0     0   26.36259    0  933   26.20192   26.36259  0.61%     -   23s\n",
      "     0     0   26.36259    0  932   26.20192   26.36259  0.61%     -   23s\n",
      "H    0     0                      26.2025600   26.36259  0.61%     -   23s\n",
      "     0     0   26.35704    0  933   26.20256   26.35704  0.59%     -   23s\n",
      "H    0     0                      26.2445400   26.31800  0.28%     -   25s\n",
      "     0     0   26.24508    0 1218   26.24454   26.24508  0.00%     -   25s\n",
      "\n",
      "Cutting planes:\n",
      "  Gomory: 2\n",
      "  Implied bound: 12\n",
      "  Clique: 2342\n",
      "  MIR: 1\n",
      "  Zero half: 206\n",
      "  RLT: 545\n",
      "  BQP: 25\n",
      "\n",
      "Explored 1 nodes (18488 simplex iterations) in 25.52 seconds (34.32 work units)\n",
      "Thread count was 12 (of 12 available processors)\n",
      "\n",
      "Solution count 8: 26.2445 26.2026 26.2019 ... 21.5233\n",
      "\n",
      "Optimal solution found (tolerance 1.00e-04)\n",
      "Best objective 2.624454000000e+01, best bound 2.624508000000e+01, gap 0.0021%\n",
      "Optimal set of products:  [8, 14, 18, 47, 72, 75, 87]\n",
      "Optimal profit:  26.244539999999986\n"
     ]
    }
   ],
   "source": [
    "m.optimize()\n",
    "\n",
    "S_optimal = [i for i in range(nProducts) if x[i].x > 0.5]\n",
    "print(\"Optimal set of products: \", S_optimal)\n",
    "\n",
    "optimal_revenue = m.objval\n",
    "print(\"Optimal profit: \",optimal_revenue)"
   ]
  },
  {
   "cell_type": "markdown",
   "id": "a7181c91",
   "metadata": {},
   "source": [
    "Below are the names of the optimal set of sushi products."
   ]
  },
  {
   "cell_type": "code",
   "execution_count": 18,
   "id": "82659af5",
   "metadata": {},
   "outputs": [
    {
     "name": "stdout",
     "output_type": "stream",
     "text": [
      "toro\n",
      "awabi\n",
      "saba\n",
      "tarabagani\n",
      "mentaiko_maki\n",
      "ika_nattou\n",
      "tobiuo\n"
     ]
    }
   ],
   "source": [
    "for i in S_optimal:\n",
    "    print(df_info.iloc[:,0][i])"
   ]
  },
  {
   "cell_type": "markdown",
   "id": "583e0105",
   "metadata": {},
   "source": [
    "## Question 2: Hospital Staffing"
   ]
  },
  {
   "cell_type": "markdown",
   "id": "d10f5a5d",
   "metadata": {},
   "source": [
    "### Part 2: Solving the Basic Newsvendor Model"
   ]
  },
  {
   "cell_type": "markdown",
   "id": "d5953f73",
   "metadata": {},
   "source": [
    "First, let's load our nurse data and then split it into a training set (200 observations) and test set (100 observations)."
   ]
  },
  {
   "cell_type": "code",
   "execution_count": 16,
   "id": "88f33e23",
   "metadata": {},
   "outputs": [
    {
     "name": "stdout",
     "output_type": "stream",
     "text": [
      "(200, 5)\n",
      "(100, 5)\n",
      "(200,)\n",
      "(100,)\n"
     ]
    }
   ],
   "source": [
    "df_nurse = pd.read_csv('nurse.csv')\n",
    "X = df_nurse.loc[:, ~df_nurse.columns.isin(['DailyED', 'Day'])]\n",
    "y = df_nurse.iloc[:,1]\n",
    "\n",
    "X_train = X.iloc[0:200,:]\n",
    "X_test = X.iloc[200:300,:].reset_index(drop=True)\n",
    "y_train = y.iloc[0:200]\n",
    "y_test = y.iloc[200:300].reset_index(drop=True)\n",
    "\n",
    "print(X_train.shape)\n",
    "print(X_test.shape)\n",
    "print(y_train.shape)\n",
    "print(y_test.shape)"
   ]
  },
  {
   "cell_type": "markdown",
   "id": "0205d325",
   "metadata": {},
   "source": [
    "Before we use the training set and test set, we can find the quantile of the empirical distribution of DailyED as follows."
   ]
  },
  {
   "cell_type": "code",
   "execution_count": 17,
   "id": "6c1d8194",
   "metadata": {},
   "outputs": [
    {
     "name": "stdout",
     "output_type": "stream",
     "text": [
      "0.6\n"
     ]
    }
   ],
   "source": [
    "c_u = 5400 - 2160\n",
    "c_o = 2160\n",
    "staffing_quantile = c_u / (c_u + c_o)\n",
    "print(staffing_quantile)"
   ]
  },
  {
   "cell_type": "markdown",
   "id": "e955b37b",
   "metadata": {},
   "source": [
    "Next, we can plot the empirical distribution of DailyED in the training set."
   ]
  },
  {
   "cell_type": "code",
   "execution_count": 18,
   "id": "b075a2d7",
   "metadata": {},
   "outputs": [
    {
     "data": {
      "image/png": "[encoded data removed]",
      "text/plain": [
       "<Figure size 432x288 with 1 Axes>"
      ]
     },
     "metadata": {
      "needs_background": "light"
     },
     "output_type": "display_data"
    }
   ],
   "source": [
    "plt.hist(y_train, bins=20)\n",
    "plt.show()"
   ]
  },
  {
   "cell_type": "markdown",
   "id": "e8f3000b",
   "metadata": {},
   "source": [
    "From the empirical distribution of DailyED, let's determine the optimal staffing level based on our quantile value."
   ]
  },
  {
   "cell_type": "code",
   "execution_count": 19,
   "id": "dd1f5720",
   "metadata": {},
   "outputs": [
    {
     "name": "stdout",
     "output_type": "stream",
     "text": [
      "Optimal Q (using NV formula):  16.0\n"
     ]
    }
   ],
   "source": [
    "opt_Q = np.quantile(y_train, staffing_quantile)\n",
    "print(\"Optimal Q (using NV formula): \", opt_Q)"
   ]
  },
  {
   "cell_type": "markdown",
   "id": "ccf178bd",
   "metadata": {},
   "source": [
    "Now, let's find average costs of the 200 days in the training set that the staffing level would incur based on this optimal staffing level."
   ]
  },
  {
   "cell_type": "code",
   "execution_count": 21,
   "id": "fd0cb022",
   "metadata": {},
   "outputs": [
    {
     "name": "stdout",
     "output_type": "stream",
     "text": [
      "Average cost of training set:  41256.0\n"
     ]
    }
   ],
   "source": [
    "# Daily cost calculation function\n",
    "def staffing_cost(D):\n",
    "    Q = opt_Q\n",
    "    cost = 0\n",
    "    if D>Q:\n",
    "        cost = (D-Q) * c_u + c_o * D\n",
    "    else:\n",
    "        cost = (Q-D) * c_o + c_o * D\n",
    "    return cost\n",
    "\n",
    "# Obtain array of costs for each DailyED in training set\n",
    "cost_train = np.zeros(200)\n",
    "for D in range(200):\n",
    "    demand = y_train[D]\n",
    "    cost_train[D] = staffing_cost(demand)\n",
    "\n",
    "avg_cost_train = cost_train.mean()\n",
    "print(\"Average cost of training set: \", avg_cost_train)"
   ]
  },
  {
   "cell_type": "markdown",
   "id": "452f2c3d",
   "metadata": {},
   "source": [
    "In addition, we can do the same with the 100 days in the test set."
   ]
  },
  {
   "cell_type": "code",
   "execution_count": 22,
   "id": "b94811d6",
   "metadata": {},
   "outputs": [
    {
     "name": "stdout",
     "output_type": "stream",
     "text": [
      "Average cost of test set:  39528.0\n"
     ]
    }
   ],
   "source": [
    "cost_test = np.zeros(100)\n",
    "for D in range(100):\n",
    "    demand = y_test[D]\n",
    "    cost_test[D] = staffing_cost(demand)\n",
    "\n",
    "avg_cost_test = cost_test.mean()\n",
    "print(\"Average cost of test set: \", avg_cost_test)"
   ]
  },
  {
   "cell_type": "markdown",
   "id": "59aa9365",
   "metadata": {},
   "source": [
    "### Part 3: Solving the Contextual Newsvendor Model"
   ]
  },
  {
   "cell_type": "markdown",
   "id": "94e34866",
   "metadata": {},
   "source": [
    "We will now build a regression tree below to solve the contextual problem."
   ]
  },
  {
   "cell_type": "code",
   "execution_count": 23,
   "id": "de85e6d0",
   "metadata": {},
   "outputs": [],
   "source": [
    "staffing_tree = tree.DecisionTreeRegressor(max_depth = 2)\n",
    "staffing_tree = staffing_tree.fit(X_train,y_train)"
   ]
  },
  {
   "cell_type": "markdown",
   "id": "6f453e27",
   "metadata": {},
   "source": [
    "Now let's plot the tree using `graphviz`."
   ]
  },
  {
   "cell_type": "code",
   "execution_count": 24,
   "id": "50eba345",
   "metadata": {},
   "outputs": [
    {
     "data": {
      "image/svg+xml": [
       "<?xml version=\"1.0\" encoding=\"UTF-8\" standalone=\"no\"?>\r\n",
       "<!DOCTYPE svg PUBLIC \"-//W3C//DTD SVG 1.1//EN\"\r\n",
       " \"http://www.w3.org/Graphics/SVG/1.1/DTD/svg11.dtd\">\r\n",
       "<!-- Generated by graphviz version 2.38.0 (20140413.2041)\r\n",
       " -->\r\n",
       "<!-- Title: Tree Pages: 1 -->\r\n",
       "<svg width=\"528pt\" height=\"224pt\"\r\n",
       " viewBox=\"0.00 0.00 528.00 224.00\" xmlns=\"http://www.w3.org/2000/svg\" xmlns:xlink=\"http://www.w3.org/1999/xlink\">\r\n",
       "<g id=\"graph0\" class=\"graph\" transform=\"scale(1 1) rotate(0) translate(4 220)\">\r\n",
       "<title>Tree</title>\r\n",
       "<polygon fill=\"white\" stroke=\"none\" points=\"-4,4 -4,-220 524,-220 524,4 -4,4\"/>\r\n",
       "<!-- 0 -->\r\n",
       "<g id=\"node1\" class=\"node\"><title>0</title>\r\n",
       "<path fill=\"none\" stroke=\"black\" d=\"M349,-216C349,-216 173,-216 173,-216 167,-216 161,-210 161,-204 161,-204 161,-175 161,-175 161,-169 167,-163 173,-163 173,-163 349,-163 349,-163 355,-163 361,-169 361,-175 361,-175 361,-204 361,-204 361,-210 355,-216 349,-216\"/>\r\n",
       "<text text-anchor=\"start\" x=\"169\" y=\"-200.8\" font-family=\"Helvetica,sans-Serif\" font-size=\"14.00\">TotalPriorSurgeries ≤ 21.571</text>\r\n",
       "<text text-anchor=\"start\" x=\"213.5\" y=\"-185.8\" font-family=\"Helvetica,sans-Serif\" font-size=\"14.00\">samples = 200</text>\r\n",
       "<text text-anchor=\"start\" x=\"218\" y=\"-170.8\" font-family=\"Helvetica,sans-Serif\" font-size=\"14.00\">value = 14.85</text>\r\n",
       "</g>\r\n",
       "<!-- 1 -->\r\n",
       "<g id=\"node2\" class=\"node\"><title>1</title>\r\n",
       "<path fill=\"none\" stroke=\"black\" d=\"M254,-127C254,-127 78,-127 78,-127 72,-127 66,-121 66,-115 66,-115 66,-86 66,-86 66,-80 72,-74 78,-74 78,-74 254,-74 254,-74 260,-74 266,-80 266,-86 266,-86 266,-115 266,-115 266,-121 260,-127 254,-127\"/>\r\n",
       "<text text-anchor=\"start\" x=\"74\" y=\"-111.8\" font-family=\"Helvetica,sans-Serif\" font-size=\"14.00\">TotalPriorSurgeries ≤ 16.429</text>\r\n",
       "<text text-anchor=\"start\" x=\"118.5\" y=\"-96.8\" font-family=\"Helvetica,sans-Serif\" font-size=\"14.00\">samples = 105</text>\r\n",
       "<text text-anchor=\"start\" x=\"119\" y=\"-81.8\" font-family=\"Helvetica,sans-Serif\" font-size=\"14.00\">value = 13.476</text>\r\n",
       "</g>\r\n",
       "<!-- 0&#45;&gt;1 -->\r\n",
       "<g id=\"edge1\" class=\"edge\"><title>0&#45;&gt;1</title>\r\n",
       "<path fill=\"none\" stroke=\"black\" d=\"M233.011,-162.868C223.145,-153.833 211.921,-143.554 201.517,-134.026\"/>\r\n",
       "<polygon fill=\"black\" stroke=\"black\" points=\"203.856,-131.422 194.118,-127.25 199.129,-136.585 203.856,-131.422\"/>\r\n",
       "<text text-anchor=\"middle\" x=\"195.215\" y=\"-148.526\" font-family=\"Helvetica,sans-Serif\" font-size=\"14.00\">True</text>\r\n",
       "</g>\r\n",
       "<!-- 4 -->\r\n",
       "<g id=\"node5\" class=\"node\"><title>4</title>\r\n",
       "<path fill=\"none\" stroke=\"black\" d=\"M415.5,-127C415.5,-127 296.5,-127 296.5,-127 290.5,-127 284.5,-121 284.5,-115 284.5,-115 284.5,-86 284.5,-86 284.5,-80 290.5,-74 296.5,-74 296.5,-74 415.5,-74 415.5,-74 421.5,-74 427.5,-80 427.5,-86 427.5,-86 427.5,-115 427.5,-115 427.5,-121 421.5,-127 415.5,-127\"/>\r\n",
       "<text text-anchor=\"start\" x=\"292.5\" y=\"-111.8\" font-family=\"Helvetica,sans-Serif\" font-size=\"14.00\">DailyEDLag2 ≤ 10.5</text>\r\n",
       "<text text-anchor=\"start\" x=\"312.5\" y=\"-96.8\" font-family=\"Helvetica,sans-Serif\" font-size=\"14.00\">samples = 95</text>\r\n",
       "<text text-anchor=\"start\" x=\"309\" y=\"-81.8\" font-family=\"Helvetica,sans-Serif\" font-size=\"14.00\">value = 16.368</text>\r\n",
       "</g>\r\n",
       "<!-- 0&#45;&gt;4 -->\r\n",
       "<g id=\"edge4\" class=\"edge\"><title>0&#45;&gt;4</title>\r\n",
       "<path fill=\"none\" stroke=\"black\" d=\"M288.989,-162.868C298.855,-153.833 310.079,-143.554 320.483,-134.026\"/>\r\n",
       "<polygon fill=\"black\" stroke=\"black\" points=\"322.871,-136.585 327.882,-127.25 318.144,-131.422 322.871,-136.585\"/>\r\n",
       "<text text-anchor=\"middle\" x=\"326.785\" y=\"-148.526\" font-family=\"Helvetica,sans-Serif\" font-size=\"14.00\">False</text>\r\n",
       "</g>\r\n",
       "<!-- 2 -->\r\n",
       "<g id=\"node3\" class=\"node\"><title>2</title>\r\n",
       "<path fill=\"none\" stroke=\"black\" d=\"M98,-38C98,-38 12,-38 12,-38 6,-38 0,-32 0,-26 0,-26 0,-12 0,-12 0,-6 6,-0 12,-0 12,-0 98,-0 98,-0 104,-0 110,-6 110,-12 110,-12 110,-26 110,-26 110,-32 104,-38 98,-38\"/>\r\n",
       "<text text-anchor=\"start\" x=\"11.5\" y=\"-22.8\" font-family=\"Helvetica,sans-Serif\" font-size=\"14.00\">samples = 21</text>\r\n",
       "<text text-anchor=\"start\" x=\"8\" y=\"-7.8\" font-family=\"Helvetica,sans-Serif\" font-size=\"14.00\">value = 11.571</text>\r\n",
       "</g>\r\n",
       "<!-- 1&#45;&gt;2 -->\r\n",
       "<g id=\"edge2\" class=\"edge\"><title>1&#45;&gt;2</title>\r\n",
       "<path fill=\"none\" stroke=\"black\" d=\"M130.268,-73.9081C116.959,-64.3759 101.905,-53.5942 88.777,-44.1916\"/>\r\n",
       "<polygon fill=\"black\" stroke=\"black\" points=\"90.6335,-41.2162 80.4656,-38.2389 86.5576,-46.9072 90.6335,-41.2162\"/>\r\n",
       "</g>\r\n",
       "<!-- 3 -->\r\n",
       "<g id=\"node4\" class=\"node\"><title>3</title>\r\n",
       "<path fill=\"none\" stroke=\"black\" d=\"M226,-38C226,-38 140,-38 140,-38 134,-38 128,-32 128,-26 128,-26 128,-12 128,-12 128,-6 134,-0 140,-0 140,-0 226,-0 226,-0 232,-0 238,-6 238,-12 238,-12 238,-26 238,-26 238,-32 232,-38 226,-38\"/>\r\n",
       "<text text-anchor=\"start\" x=\"139.5\" y=\"-22.8\" font-family=\"Helvetica,sans-Serif\" font-size=\"14.00\">samples = 84</text>\r\n",
       "<text text-anchor=\"start\" x=\"136\" y=\"-7.8\" font-family=\"Helvetica,sans-Serif\" font-size=\"14.00\">value = 13.952</text>\r\n",
       "</g>\r\n",
       "<!-- 1&#45;&gt;3 -->\r\n",
       "<g id=\"edge3\" class=\"edge\"><title>1&#45;&gt;3</title>\r\n",
       "<path fill=\"none\" stroke=\"black\" d=\"M171.472,-73.9081C173.239,-65.6469 175.206,-56.4471 177.008,-48.02\"/>\r\n",
       "<polygon fill=\"black\" stroke=\"black\" points=\"180.431,-48.7497 179.1,-38.2389 173.586,-47.2859 180.431,-48.7497\"/>\r\n",
       "</g>\r\n",
       "<!-- 5 -->\r\n",
       "<g id=\"node6\" class=\"node\"><title>5</title>\r\n",
       "<path fill=\"none\" stroke=\"black\" d=\"M379.5,-38C379.5,-38 300.5,-38 300.5,-38 294.5,-38 288.5,-32 288.5,-26 288.5,-26 288.5,-12 288.5,-12 288.5,-6 294.5,-0 300.5,-0 300.5,-0 379.5,-0 379.5,-0 385.5,-0 391.5,-6 391.5,-12 391.5,-12 391.5,-26 391.5,-26 391.5,-32 385.5,-38 379.5,-38\"/>\r\n",
       "<text text-anchor=\"start\" x=\"296.5\" y=\"-22.8\" font-family=\"Helvetica,sans-Serif\" font-size=\"14.00\">samples = 12</text>\r\n",
       "<text text-anchor=\"start\" x=\"297\" y=\"-7.8\" font-family=\"Helvetica,sans-Serif\" font-size=\"14.00\">value = 18.25</text>\r\n",
       "</g>\r\n",
       "<!-- 4&#45;&gt;5 -->\r\n",
       "<g id=\"edge5\" class=\"edge\"><title>4&#45;&gt;5</title>\r\n",
       "<path fill=\"none\" stroke=\"black\" d=\"M350.849,-73.9081C349.205,-65.7377 347.376,-56.6492 345.695,-48.2981\"/>\r\n",
       "<polygon fill=\"black\" stroke=\"black\" points=\"349.075,-47.3518 343.671,-38.2389 342.213,-48.7329 349.075,-47.3518\"/>\r\n",
       "</g>\r\n",
       "<!-- 6 -->\r\n",
       "<g id=\"node7\" class=\"node\"><title>6</title>\r\n",
       "<path fill=\"none\" stroke=\"black\" d=\"M508,-38C508,-38 422,-38 422,-38 416,-38 410,-32 410,-26 410,-26 410,-12 410,-12 410,-6 416,-0 422,-0 422,-0 508,-0 508,-0 514,-0 520,-6 520,-12 520,-12 520,-26 520,-26 520,-32 514,-38 508,-38\"/>\r\n",
       "<text text-anchor=\"start\" x=\"421.5\" y=\"-22.8\" font-family=\"Helvetica,sans-Serif\" font-size=\"14.00\">samples = 83</text>\r\n",
       "<text text-anchor=\"start\" x=\"418\" y=\"-7.8\" font-family=\"Helvetica,sans-Serif\" font-size=\"14.00\">value = 16.096</text>\r\n",
       "</g>\r\n",
       "<!-- 4&#45;&gt;6 -->\r\n",
       "<g id=\"edge6\" class=\"edge\"><title>4&#45;&gt;6</title>\r\n",
       "<path fill=\"none\" stroke=\"black\" d=\"M391.088,-73.9081C404.158,-64.3759 418.94,-53.5942 431.832,-44.1916\"/>\r\n",
       "<polygon fill=\"black\" stroke=\"black\" points=\"433.976,-46.9595 439.993,-38.2389 429.851,-41.3039 433.976,-46.9595\"/>\r\n",
       "</g>\r\n",
       "</g>\r\n",
       "</svg>\r\n"
      ],
      "text/plain": [
       "<graphviz.files.Source at 0x21a94474ee0>"
      ]
     },
     "execution_count": 24,
     "metadata": {},
     "output_type": "execute_result"
    }
   ],
   "source": [
    "dot_data = tree.export_graphviz(staffing_tree, out_file=None,\n",
    "                                feature_names=X.columns, impurity = False, \n",
    "                                   rounded=True,  \n",
    "                                  special_characters=True) \n",
    "graph = graphviz.Source(dot_data) \n",
    "graph.render(\"Staffing\") \n",
    "graph"
   ]
  },
  {
   "cell_type": "markdown",
   "id": "2aed103c",
   "metadata": {},
   "source": [
    "Now, for each leaf of the tree we can calculate the optimal staffing level by finding the corresponding quantile."
   ]
  },
  {
   "cell_type": "code",
   "execution_count": 25,
   "id": "ded66a2f",
   "metadata": {},
   "outputs": [
    {
     "data": {
      "text/plain": [
       "array([ 0.,  0., 13., 15.,  0., 18., 17.])"
      ]
     },
     "execution_count": 25,
     "metadata": {},
     "output_type": "execute_result"
    }
   ],
   "source": [
    "leaf_mapping = staffing_tree.apply(X_train)\n",
    "\n",
    "leaves = [i for i in range(staffing_tree.tree_.node_count) if staffing_tree.tree_.children_left[i] == -1 ]\n",
    "\n",
    "leaf_to_quantile = np.zeros( staffing_tree.tree_.node_count )\n",
    "\n",
    "for ell in leaves:\n",
    "    ind = leaf_mapping == ell \n",
    "    y_ell = y_train[ind]\n",
    "    leaf_to_quantile[ell] = round(np.quantile(y_ell, staffing_quantile))\n",
    "    \n",
    "leaf_to_quantile"
   ]
  },
  {
   "cell_type": "markdown",
   "id": "43d29c2a",
   "metadata": {},
   "source": [
    "For the training set, let's calculate the average cost that this staffing rule would incur."
   ]
  },
  {
   "cell_type": "code",
   "execution_count": 37,
   "id": "b71316f6",
   "metadata": {},
   "outputs": [
    {
     "data": {
      "text/plain": [
       "array([18., 18., 17., 17., 17., 17., 15., 15., 15., 15., 15., 15., 15.,\n",
       "       17., 18., 17., 17., 17., 17., 17., 15., 15., 15., 15., 15., 15.,\n",
       "       15., 15., 15., 15., 15., 15., 15., 15., 17., 17., 17., 17., 18.,\n",
       "       17., 17., 17., 17., 17., 17., 17., 17., 17., 13., 13., 13., 13.,\n",
       "       13., 13., 13., 17., 18., 18., 17., 17., 17., 17., 18., 17., 17.,\n",
       "       17., 17., 17., 17., 15., 15., 15., 15., 15., 15., 15., 17., 17.,\n",
       "       17., 17., 17., 17., 17., 17., 17., 17., 17., 17., 17., 17., 17.,\n",
       "       17., 17., 17., 17., 18., 18., 15., 15., 15., 15., 15., 15., 15.,\n",
       "       18., 17., 17., 17., 17., 17., 17., 13., 13., 13., 13., 13., 13.,\n",
       "       13., 15., 15., 15., 15., 15., 15., 15., 15., 15., 15., 15., 15.,\n",
       "       15., 15., 15., 15., 15., 15., 15., 15., 15., 15., 15., 15., 15.,\n",
       "       15., 15., 15., 17., 17., 17., 17., 17., 17., 17., 17., 17., 17.,\n",
       "       17., 17., 17., 17., 13., 13., 13., 13., 13., 13., 13., 15., 15.,\n",
       "       15., 15., 15., 15., 15., 18., 17., 17., 17., 18., 17., 17., 15.,\n",
       "       15., 15., 15., 15., 15., 15., 15., 15., 15., 15., 15., 15., 15.,\n",
       "       17., 17., 17., 17., 17.])"
      ]
     },
     "execution_count": 37,
     "metadata": {},
     "output_type": "execute_result"
    }
   ],
   "source": [
    "train_set_decisions"
   ]
  },
  {
   "cell_type": "code",
   "execution_count": 38,
   "id": "2e75ea6e",
   "metadata": {},
   "outputs": [
    {
     "name": "stdout",
     "output_type": "stream",
     "text": [
      "Average contextual training set cost: 40554.0\n"
     ]
    }
   ],
   "source": [
    "train_set_leaves = staffing_tree.apply(X_train)\n",
    "train_set_decisions = leaf_to_quantile[train_set_leaves]\n",
    "\n",
    "train_set_cost = c_u * np.maximum(y_train - train_set_decisions, 0) + c_o * np.maximum(train_set_decisions - y_train, 0) + 2160 * y_train\n",
    "avg_train_set_cost = train_set_cost.mean(axis = 0)\n",
    "print(\"Average contextual training set cost:\", avg_train_set_cost)"
   ]
  },
  {
   "cell_type": "markdown",
   "id": "5d4b0736",
   "metadata": {},
   "source": [
    "For the test set, let's calculate the average cost that this staffing rule would incur."
   ]
  },
  {
   "cell_type": "code",
   "execution_count": 39,
   "id": "ae8393be",
   "metadata": {},
   "outputs": [
    {
     "name": "stdout",
     "output_type": "stream",
     "text": [
      "Average contextual test set cost: 38772.0\n"
     ]
    }
   ],
   "source": [
    "test_set_leaves = staffing_tree.apply(X_test)\n",
    "test_set_decisions = leaf_to_quantile[test_set_leaves]\n",
    "\n",
    "test_set_cost = c_u * np.maximum(y_test - test_set_decisions, 0) + c_o * np.maximum(test_set_decisions- y_test, 0) + 2160 * y_test\n",
    "avg_test_set_cost = test_set_cost.mean(axis = 0)\n",
    "print(\"Average contextual test set cost:\", avg_test_set_cost)"
   ]
  }
 ],
 "metadata": {
  "kernelspec": {
   "display_name": "Python 3",
   "language": "python",
   "name": "python3"
  },
  "language_info": {
   "codemirror_mode": {
    "name": "ipython",
    "version": 3
   },
   "file_extension": ".py",
   "mimetype": "text/x-python",
   "name": "python",
   "nbconvert_exporter": "python",
   "pygments_lexer": "ipython3",
   "version": "3.8.8"
  }
 },
 "nbformat": 4,
 "nbformat_minor": 5
}
