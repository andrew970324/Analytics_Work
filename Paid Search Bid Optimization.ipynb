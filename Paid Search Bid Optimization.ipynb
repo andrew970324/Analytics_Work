{
 "cells": [
  {
   "cell_type": "markdown",
   "id": "6e5ffb09",
   "metadata": {},
   "source": [
    "# Paid Search Bid Optimization"
   ]
  },
  {
   "cell_type": "markdown",
   "id": "383c6e1b",
   "metadata": {},
   "source": [
    "## Set-up:"
   ]
  },
  {
   "cell_type": "code",
   "execution_count": 1,
   "id": "a02346a5",
   "metadata": {},
   "outputs": [],
   "source": [
    "import pandas as pd\n",
    "import matplotlib.pyplot as plt\n",
    "import numpy as np\n",
    "import math\n",
    "import scipy.optimize as optimize\n",
    "from scipy.optimize import curve_fit"
   ]
  },
  {
   "cell_type": "markdown",
   "id": "d882940b",
   "metadata": {},
   "source": [
    "## Part A:"
   ]
  },
  {
   "cell_type": "markdown",
   "id": "20aa43a2",
   "metadata": {},
   "source": [
    "First, let's load the data for the four keywords below."
   ]
  },
  {
   "cell_type": "code",
   "execution_count": 2,
   "id": "0499e13f",
   "metadata": {},
   "outputs": [],
   "source": [
    "keyword_1 = pd.read_csv('clicksdata.kw8322228.csv', index_col=0)\n",
    "keyword_2 = pd.read_csv('clicksdata.kw8322392.csv', index_col=0)\n",
    "keyword_3 = pd.read_csv('clicksdata.kw8322393.csv', index_col=0)\n",
    "keyword_4 = pd.read_csv('clicksdata.kw8322445.csv', index_col=0)"
   ]
  },
  {
   "cell_type": "markdown",
   "id": "c3405ba6",
   "metadata": {},
   "source": [
    "Next, let's estimate the alpha and the beta for each of the four keywords.\n",
    "\n",
    "First, we need to define the function used to run a nonlinear regression of clicks on bid value."
   ]
  },
  {
   "cell_type": "code",
   "execution_count": 3,
   "id": "3e51ea6c",
   "metadata": {},
   "outputs": [],
   "source": [
    "def compute_clicks(x, alpha, beta):\n",
    "    return alpha*(1 - np.exp(-beta*x))"
   ]
  },
  {
   "cell_type": "markdown",
   "id": "9b4ff8a7",
   "metadata": {},
   "source": [
    "Next, we will use `scipy.optimize.curve_fit` to predict our unknown parameters for each of the four keywords."
   ]
  },
  {
   "cell_type": "code",
   "execution_count": 4,
   "id": "5e711d90",
   "metadata": {},
   "outputs": [
    {
     "data": {
      "text/html": [
       "<div>\n",
       "<style scoped>\n",
       "    .dataframe tbody tr th:only-of-type {\n",
       "        vertical-align: middle;\n",
       "    }\n",
       "\n",
       "    .dataframe tbody tr th {\n",
       "        vertical-align: top;\n",
       "    }\n",
       "\n",
       "    .dataframe thead th {\n",
       "        text-align: right;\n",
       "    }\n",
       "</style>\n",
       "<table border=\"1\" class=\"dataframe\">\n",
       "  <thead>\n",
       "    <tr style=\"text-align: right;\">\n",
       "      <th></th>\n",
       "      <th>alpha</th>\n",
       "      <th>beta</th>\n",
       "    </tr>\n",
       "  </thead>\n",
       "  <tbody>\n",
       "    <tr>\n",
       "      <th>kw8322228</th>\n",
       "      <td>74.090862</td>\n",
       "      <td>0.039449</td>\n",
       "    </tr>\n",
       "    <tr>\n",
       "      <th>kw8322392</th>\n",
       "      <td>156.439802</td>\n",
       "      <td>0.150083</td>\n",
       "    </tr>\n",
       "    <tr>\n",
       "      <th>kw8322393</th>\n",
       "      <td>104.799293</td>\n",
       "      <td>0.079717</td>\n",
       "    </tr>\n",
       "    <tr>\n",
       "      <th>kw8322445</th>\n",
       "      <td>188.111279</td>\n",
       "      <td>0.432292</td>\n",
       "    </tr>\n",
       "  </tbody>\n",
       "</table>\n",
       "</div>"
      ],
      "text/plain": [
       "                alpha      beta\n",
       "kw8322228   74.090862  0.039449\n",
       "kw8322392  156.439802  0.150083\n",
       "kw8322393  104.799293  0.079717\n",
       "kw8322445  188.111279  0.432292"
      ]
     },
     "execution_count": 4,
     "metadata": {},
     "output_type": "execute_result"
    }
   ],
   "source": [
    "# Initialize array for parameters of each of the four keywords\n",
    "ab_params = np.zeros((4, 2))\n",
    "\n",
    "# Isolate data for clicks and bid prices\n",
    "x_values = pd.concat([keyword_1.iloc[:,0], keyword_2.iloc[:,0], keyword_3.iloc[:,0], keyword_4.iloc[:,0]], axis=1)\n",
    "y_values = pd.concat([keyword_1.iloc[:,1], keyword_2.iloc[:,1], keyword_3.iloc[:,1], keyword_4.iloc[:,1]], axis=1)\n",
    "\n",
    "# Iterate through each drug and perform nonlinear regression to get the parameter estimates\n",
    "for i in range(4):\n",
    "    opt, cov = curve_fit(f=compute_clicks, xdata=x_values.iloc[:,i], ydata=y_values.iloc[:,i], p0=(y_values.iloc[8][i], 1 / x_values.iloc[:,i].mean()))\n",
    "    a_opt, b_opt = opt\n",
    "    ab_params[i][0] = a_opt\n",
    "    ab_params[i][1] = b_opt\n",
    "\n",
    "df_ab_params = pd.DataFrame(ab_params, columns = ['alpha','beta'], index = ['kw8322228','kw8322392','kw8322393','kw8322445'])\n",
    "df_ab_params"
   ]
  },
  {
   "cell_type": "markdown",
   "id": "264e7179",
   "metadata": {},
   "source": [
    "## Part B:"
   ]
  },
  {
   "cell_type": "markdown",
   "id": "35d97779",
   "metadata": {},
   "source": [
    "Now, let's load data on LTV dollar value and conversion rate values for each of the keywords."
   ]
  },
  {
   "cell_type": "code",
   "execution_count": 5,
   "id": "810b0618",
   "metadata": {},
   "outputs": [
    {
     "data": {
      "text/html": [
       "<div>\n",
       "<style scoped>\n",
       "    .dataframe tbody tr th:only-of-type {\n",
       "        vertical-align: middle;\n",
       "    }\n",
       "\n",
       "    .dataframe tbody tr th {\n",
       "        vertical-align: top;\n",
       "    }\n",
       "\n",
       "    .dataframe thead th {\n",
       "        text-align: right;\n",
       "    }\n",
       "</style>\n",
       "<table border=\"1\" class=\"dataframe\">\n",
       "  <thead>\n",
       "    <tr style=\"text-align: right;\">\n",
       "      <th></th>\n",
       "      <th>keyword</th>\n",
       "      <th>ltv</th>\n",
       "      <th>conv.rate</th>\n",
       "    </tr>\n",
       "  </thead>\n",
       "  <tbody>\n",
       "    <tr>\n",
       "      <th>0</th>\n",
       "      <td>kw8322228</td>\n",
       "      <td>354</td>\n",
       "      <td>0.30</td>\n",
       "    </tr>\n",
       "    <tr>\n",
       "      <th>1</th>\n",
       "      <td>kw8322392</td>\n",
       "      <td>181</td>\n",
       "      <td>0.32</td>\n",
       "    </tr>\n",
       "    <tr>\n",
       "      <th>2</th>\n",
       "      <td>kw8322393</td>\n",
       "      <td>283</td>\n",
       "      <td>0.30</td>\n",
       "    </tr>\n",
       "    <tr>\n",
       "      <th>3</th>\n",
       "      <td>kw8322445</td>\n",
       "      <td>107</td>\n",
       "      <td>0.30</td>\n",
       "    </tr>\n",
       "  </tbody>\n",
       "</table>\n",
       "</div>"
      ],
      "text/plain": [
       "     keyword  ltv  conv.rate\n",
       "0  kw8322228  354       0.30\n",
       "1  kw8322392  181       0.32\n",
       "2  kw8322393  283       0.30\n",
       "3  kw8322445  107       0.30"
      ]
     },
     "execution_count": 5,
     "metadata": {},
     "output_type": "execute_result"
    }
   ],
   "source": [
    "xl_file = pd.ExcelFile('hw-kw-ltv-conv.rate-data.xlsx')\n",
    "ltv_conv = xl_file.parse(\"Sheet1\")\n",
    "ltv_conv"
   ]
  },
  {
   "cell_type": "markdown",
   "id": "8b333ec9",
   "metadata": {},
   "source": [
    "Using the alpha, beta parameters from Part A and the LTV and conversion rate values, let's estimate the optimal bids for each of the four keywords.\n",
    "\n",
    "First, we need to construct a function that will compute profit as a function of bid prices, LTV, conversion rates, alpha, and beta. We will also create a function that will compute individual expenditure as a function of alpha, beta, and bid prices."
   ]
  },
  {
   "cell_type": "code",
   "execution_count": 6,
   "id": "4117d42a",
   "metadata": {},
   "outputs": [],
   "source": [
    "# Profit function\n",
    "def negative_profit(x, alpha, beta, ltv, conv):\n",
    "    return -(alpha*(1 - np.exp(-beta*x)))*(ltv*conv-x)\n",
    "\n",
    "# Expenditure function\n",
    "def ind_expenditure(x, alpha, beta):\n",
    "    return x*alpha*(1 - np.exp(-beta*x))"
   ]
  },
  {
   "cell_type": "markdown",
   "id": "198f92d6",
   "metadata": {},
   "source": [
    "Now let's use `scipy.optimize.minimize` to find the profit-maximizing bid price for each of the four keywords as well as the optimal profit and expenditure."
   ]
  },
  {
   "cell_type": "code",
   "execution_count": 15,
   "id": "2b9e76dd",
   "metadata": {},
   "outputs": [
    {
     "name": "stderr",
     "output_type": "stream",
     "text": [
      "C:\\Users\\andre\\anaconda3\\lib\\site-packages\\scipy\\optimize\\_hessian_update_strategy.py:182: UserWarning: delta_grad == 0.0. Check if the approximated function is linear. If the function is linear better results can be obtained by defining the Hessian as zero instead of using quasi-Newton approximations.\n",
      "  warn('delta_grad == 0.0. Check if the approximated '\n"
     ]
    },
    {
     "name": "stdout",
     "output_type": "stream",
     "text": [
      "`xtol` termination condition is satisfied.\n",
      "Number of iterations: 72, function evaluations: 84, CG iterations: 60, optimality: 2.68e-06, constraint violation: 0.00e+00, execution time: 0.077 s.\n",
      "`xtol` termination condition is satisfied.\n",
      "Number of iterations: 82, function evaluations: 92, CG iterations: 70, optimality: 8.95e-06, constraint violation: 0.00e+00, execution time: 0.091 s.\n",
      "`xtol` termination condition is satisfied.\n",
      "Number of iterations: 73, function evaluations: 54, CG iterations: 61, optimality: 2.72e-06, constraint violation: 0.00e+00, execution time: 0.076 s.\n",
      "`xtol` termination condition is satisfied.\n",
      "Number of iterations: 85, function evaluations: 64, CG iterations: 73, optimality: 1.02e-05, constraint violation: 0.00e+00, execution time: 0.092 s.\n"
     ]
    }
   ],
   "source": [
    "# Initialize array for profit-maximizing bid price for the four keywords\n",
    "opt_bid_prices = np.zeros((4, 3))\n",
    "\n",
    "# Set our bounds and initial values\n",
    "lower_bound = 0\n",
    "x0 = 40 \n",
    "bounds_object = optimize.Bounds(lower_bound, np.inf)\n",
    "\n",
    "# Iterate through each drug and find the optimal salespersons and profit\n",
    "for i in range(4):\n",
    "    tuple_values = (df_ab_params.iloc[i][0],df_ab_params.iloc[i][1],ltv_conv.iloc[i][1],ltv_conv.iloc[i][2])\n",
    "    optimizer_output = optimize.minimize(negative_profit, x0, args=tuple_values, method='trust-constr', bounds=bounds_object, options={'verbose': 1})\n",
    "    opt_bid_prices[i][0] = optimizer_output.x\n",
    "    opt_bid_prices[i][1] = -optimizer_output.fun\n",
    "    opt_bid_prices[i][2] = ind_expenditure(optimizer_output.x,df_ab_params.iloc[i][0],df_ab_params.iloc[i][1])\n",
    "\n",
    "df_opt_bid = pd.DataFrame(opt_bid_prices, columns = ['Optimal bid price','Optimal profit','Optimal Expenditure'], index = ['kw8322228','kw8322392','kw8322393','kw8322445'])"
   ]
  },
  {
   "cell_type": "markdown",
   "id": "001b4c9f",
   "metadata": {},
   "source": [
    "Below, we can see our profit-maximizing bid price, optimal profit, and optimal expenditure obtained for each of the four keywords."
   ]
  },
  {
   "cell_type": "code",
   "execution_count": 28,
   "id": "cfdc80ec",
   "metadata": {},
   "outputs": [
    {
     "data": {
      "text/html": [
       "<div>\n",
       "<style scoped>\n",
       "    .dataframe tbody tr th:only-of-type {\n",
       "        vertical-align: middle;\n",
       "    }\n",
       "\n",
       "    .dataframe tbody tr th {\n",
       "        vertical-align: top;\n",
       "    }\n",
       "\n",
       "    .dataframe thead th {\n",
       "        text-align: right;\n",
       "    }\n",
       "</style>\n",
       "<table border=\"1\" class=\"dataframe\">\n",
       "  <thead>\n",
       "    <tr style=\"text-align: right;\">\n",
       "      <th></th>\n",
       "      <th>Optimal bid price</th>\n",
       "      <th>Optimal profit</th>\n",
       "      <th>Optimal Expenditure</th>\n",
       "    </tr>\n",
       "  </thead>\n",
       "  <tbody>\n",
       "    <tr>\n",
       "      <th>kw8322228</th>\n",
       "      <td>34.127622</td>\n",
       "      <td>3950.456957</td>\n",
       "      <td>1870.615458</td>\n",
       "    </tr>\n",
       "    <tr>\n",
       "      <th>kw8322392</th>\n",
       "      <td>13.563448</td>\n",
       "      <td>6032.902200</td>\n",
       "      <td>1844.754652</td>\n",
       "    </tr>\n",
       "    <tr>\n",
       "      <th>kw8322393</th>\n",
       "      <td>22.433868</td>\n",
       "      <td>5451.614108</td>\n",
       "      <td>1957.873584</td>\n",
       "    </tr>\n",
       "    <tr>\n",
       "      <th>kw8322445</th>\n",
       "      <td>5.816956</td>\n",
       "      <td>4544.188936</td>\n",
       "      <td>1005.718649</td>\n",
       "    </tr>\n",
       "  </tbody>\n",
       "</table>\n",
       "</div>"
      ],
      "text/plain": [
       "           Optimal bid price  Optimal profit  Optimal Expenditure\n",
       "kw8322228          34.127622     3950.456957          1870.615458\n",
       "kw8322392          13.563448     6032.902200          1844.754652\n",
       "kw8322393          22.433868     5451.614108          1957.873584\n",
       "kw8322445           5.816956     4544.188936          1005.718649"
      ]
     },
     "execution_count": 28,
     "metadata": {},
     "output_type": "execute_result"
    }
   ],
   "source": [
    "df_opt_bid"
   ]
  },
  {
   "cell_type": "markdown",
   "id": "5ca966b5",
   "metadata": {},
   "source": [
    "## Part C:"
   ]
  },
  {
   "cell_type": "markdown",
   "id": "b084ac6f",
   "metadata": {},
   "source": [
    "Assume that we now have a budget constraint of $3000 across the four keywords. Let's first set up our nonlinear constraint before we find the new optimal values"
   ]
  },
  {
   "cell_type": "code",
   "execution_count": 22,
   "id": "dfee2e7c",
   "metadata": {},
   "outputs": [],
   "source": [
    "# Define total expenditure function\n",
    "def total_expenditure(bids):\n",
    "    total = []\n",
    "    for i in range(len(bids)):\n",
    "        expenditure = bids[i]*df_ab_params.iloc[i][0]*(1 - np.exp(-df_ab_params.iloc[i][1]*bids[i]))\n",
    "        total.append(expenditure)\n",
    "    return np.sum(total)\n",
    "\n",
    "# Set nonlinear constraint\n",
    "budget = 3000\n",
    "budget_constraint_object = optimize.NonlinearConstraint(total_expenditure, 0, budget)"
   ]
  },
  {
   "cell_type": "markdown",
   "id": "f0821f5e",
   "metadata": {},
   "source": [
    "Next, let's extract the parameters of our keywords to their own arrays."
   ]
  },
  {
   "cell_type": "code",
   "execution_count": 18,
   "id": "697cbd2e",
   "metadata": {},
   "outputs": [],
   "source": [
    "a_values = df_ab_params.iloc[:,0].to_numpy()\n",
    "b_values = df_ab_params.iloc[:,1].to_numpy()\n",
    "ltv_values = ltv_conv.iloc[:,1].to_numpy()\n",
    "conv_values = ltv_conv.iloc[:,2].to_numpy()"
   ]
  },
  {
   "cell_type": "markdown",
   "id": "87286f66",
   "metadata": {},
   "source": [
    "Next, we need to create a new negative profit function that computes the negative of the profit by taking in the parameters of each of the four keywords as inputs."
   ]
  },
  {
   "cell_type": "code",
   "execution_count": 21,
   "id": "8e834953",
   "metadata": {},
   "outputs": [],
   "source": [
    "def constrained_profit(x):\n",
    "    negative_profits = []\n",
    "    for i in range(len(x)):\n",
    "        negative_prof = -(a_values[i]*(1 - np.exp(-b_values[i]*x[i])))*(ltv_values[i]*conv_values[i]-x[i])\n",
    "        negative_profits.append(negative_prof)\n",
    "    total_profit = np.sum(negative_profits)\n",
    "    return total_profit"
   ]
  },
  {
   "cell_type": "markdown",
   "id": "57ecc475",
   "metadata": {},
   "source": [
    "Now, let's re run our optimization with the new nonlinear constraint in place."
   ]
  },
  {
   "cell_type": "code",
   "execution_count": 23,
   "id": "98aa83b7",
   "metadata": {},
   "outputs": [
    {
     "name": "stderr",
     "output_type": "stream",
     "text": [
      "C:\\Users\\andre\\anaconda3\\lib\\site-packages\\scipy\\optimize\\_hessian_update_strategy.py:182: UserWarning: delta_grad == 0.0. Check if the approximated function is linear. If the function is linear better results can be obtained by defining the Hessian as zero instead of using quasi-Newton approximations.\n",
      "  warn('delta_grad == 0.0. Check if the approximated '\n"
     ]
    }
   ],
   "source": [
    "# Initialize array for profit-maximizing bid price for the four keywords\n",
    "constr_bid_prices = np.zeros((4, 3))\n",
    "\n",
    "# Set our bounds and initial values\n",
    "lower_bound = 0\n",
    "x0 = np.ones(4)*40\n",
    "bounds_object2 = optimize.Bounds(lower_bound, np.inf)\n",
    "\n",
    "# Iterate through each keyword and find the optimal values\n",
    "optimizer_output2 = optimize.minimize(constrained_profit, x0, method='trust-constr', bounds=bounds_object2, constraints=budget_constraint_object)"
   ]
  },
  {
   "cell_type": "markdown",
   "id": "ef3f627c",
   "metadata": {},
   "source": [
    "From here, we can compute optimal bid amounts, profit, and expenditures for each keyword under this constraint."
   ]
  },
  {
   "cell_type": "code",
   "execution_count": 27,
   "id": "93f0f2fb",
   "metadata": {},
   "outputs": [
    {
     "data": {
      "text/html": [
       "<div>\n",
       "<style scoped>\n",
       "    .dataframe tbody tr th:only-of-type {\n",
       "        vertical-align: middle;\n",
       "    }\n",
       "\n",
       "    .dataframe tbody tr th {\n",
       "        vertical-align: top;\n",
       "    }\n",
       "\n",
       "    .dataframe thead th {\n",
       "        text-align: right;\n",
       "    }\n",
       "</style>\n",
       "<table border=\"1\" class=\"dataframe\">\n",
       "  <thead>\n",
       "    <tr style=\"text-align: right;\">\n",
       "      <th></th>\n",
       "      <th>Optimal bid price</th>\n",
       "      <th>Optimal profit</th>\n",
       "      <th>Optimal Expenditure</th>\n",
       "    </tr>\n",
       "  </thead>\n",
       "  <tbody>\n",
       "    <tr>\n",
       "      <th>kw8322228</th>\n",
       "      <td>17.924261</td>\n",
       "      <td>3315.507409</td>\n",
       "      <td>673.208970</td>\n",
       "    </tr>\n",
       "    <tr>\n",
       "      <th>kw8322392</th>\n",
       "      <td>8.118451</td>\n",
       "      <td>5487.232095</td>\n",
       "      <td>894.506851</td>\n",
       "    </tr>\n",
       "    <tr>\n",
       "      <th>kw8322393</th>\n",
       "      <td>12.828288</td>\n",
       "      <td>4836.614279</td>\n",
       "      <td>860.885343</td>\n",
       "    </tr>\n",
       "    <tr>\n",
       "      <th>kw8322445</th>\n",
       "      <td>3.775700</td>\n",
       "      <td>4286.482744</td>\n",
       "      <td>571.398834</td>\n",
       "    </tr>\n",
       "  </tbody>\n",
       "</table>\n",
       "</div>"
      ],
      "text/plain": [
       "           Optimal bid price  Optimal profit  Optimal Expenditure\n",
       "kw8322228          17.924261     3315.507409           673.208970\n",
       "kw8322392           8.118451     5487.232095           894.506851\n",
       "kw8322393          12.828288     4836.614279           860.885343\n",
       "kw8322445           3.775700     4286.482744           571.398834"
      ]
     },
     "execution_count": 27,
     "metadata": {},
     "output_type": "execute_result"
    }
   ],
   "source": [
    "# New optimal bid prices\n",
    "constr_bid_prices[:,0] = optimizer_output2.x\n",
    "\n",
    "# New profit values\n",
    "for i in range(4):\n",
    "    new_profit = -negative_profit(constr_bid_prices[i][0], df_ab_params.iloc[i][0],df_ab_params.iloc[i][1],ltv_conv.iloc[i][1],ltv_conv.iloc[i][2])\n",
    "    constr_bid_prices[i][1] = new_profit\n",
    "    \n",
    "# New expenditure values\n",
    "for i in range(4):\n",
    "    new_expenditure = ind_expenditure(constr_bid_prices[i][0], df_ab_params.iloc[i][0],df_ab_params.iloc[i][1])\n",
    "    constr_bid_prices[i][2] = new_expenditure\n",
    "    \n",
    "df_constr_bid = pd.DataFrame(constr_bid_prices, columns = ['Optimal bid price','Optimal profit','Optimal Expenditure'], index = ['kw8322228','kw8322392','kw8322393','kw8322445'])\n",
    "df_constr_bid"
   ]
  }
 ],
 "metadata": {
  "kernelspec": {
   "display_name": "Python 3",
   "language": "python",
   "name": "python3"
  },
  "language_info": {
   "codemirror_mode": {
    "name": "ipython",
    "version": 3
   },
   "file_extension": ".py",
   "mimetype": "text/x-python",
   "name": "python",
   "nbconvert_exporter": "python",
   "pygments_lexer": "ipython3",
   "version": "3.8.8"
  }
 },
 "nbformat": 4,
 "nbformat_minor": 5
}
